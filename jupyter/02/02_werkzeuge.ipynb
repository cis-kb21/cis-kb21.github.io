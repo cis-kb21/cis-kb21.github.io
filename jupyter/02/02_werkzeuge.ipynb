{
 "cells": [
  {
   "cell_type": "markdown",
   "id": "cd4c3cbd-27ad-4eee-a209-4ba1a49608a5",
   "metadata": {
    "tags": []
   },
   "source": [
    "# Unix-Werkzeuge\n",
    "* Manpages\n",
    "* Laufzeitumgebung\n",
    "* Logische Operatoren\n",
    "* Pfade\n",
    "* Dateiverwaltung \n",
    "* Eingabe- und Ausgabestr&ouml;me \n",
    "\n",
    "## Manpages \n",
    "* eingebautes Dokumentationsystem (Manpages) in Unix\n",
    "* die meisten Programme haben eine eigene Man-Page\n",
    "* Man-Pages sind in *Sektionen* eingeteilt\n",
    "\n",
    "### Manpage-Sektionen\n",
    "| Sektionsnummer | Verwendung\n",
    "| --- | :--- |\n",
    "| 1 | Benutzerbefehle |\n",
    "| 2 | Systemaufrufe (system calls) |\n",
    "| 3 | Funktionen der C-Bibliothek |\n",
    "| 4 | Gerätedateien und spezielle Dateisysteme |\n",
    "| 5 | Dateiformate und Konventionen |\n",
    "| 6 | Spiele usw. |\n",
    "| 7 | Systemadministration und Daemonen |\n",
    "\n",
    "### man\n",
    "| Name | man - Schnittstelle f&#0252;r Manpages |\n",
    "|:---|:---|\n",
    "|&#0220;berblick| man \\[SECTION\\] CMD |\n",
    "| Beschreibung | Listet Manpage von CMD auf |"
   ]
  },
  {
   "cell_type": "code",
   "execution_count": 2,
   "id": "077538e8-a966-4697-8865-7eac98458fb1",
   "metadata": {
    "scrolled": true,
    "tags": []
   },
   "outputs": [
    {
     "name": "stdout",
     "output_type": "stream",
     "text": [
      "ECHO(1)                          User Commands                         ECHO(1)\n",
      "\n",
      "NAME\n",
      "       echo - display a line of text\n",
      "\n",
      "SYNOPSIS\n",
      "       echo [SHORT-OPTION]... [STRING]...\n",
      "       echo LONG-OPTION\n",
      "\n",
      "DESCRIPTION\n",
      "       Echo the STRING(s) to standard output.\n",
      "\n",
      "       -n     do not output the trailing newline\n",
      "\n",
      "       -e     enable interpretation of backslash escapes\n",
      "\n",
      "       -E     disable interpretation of backslash escapes (default)\n",
      "\n",
      "       --help display this help and exit\n",
      "\n",
      "       --version\n",
      "              output version information and exit\n",
      "\n",
      "       If -e is in effect, the following sequences are recognized:\n",
      "\n",
      "       \\\\     backslash\n",
      "\n",
      "       \\a     alert (BEL)\n",
      "\n",
      "       \\b     backspace\n",
      "\n",
      "       \\c     produce no further output\n",
      "\n",
      "       \\e     escape\n",
      "\n",
      "       \\f     form feed\n",
      "\n",
      "       \\n     new line\n",
      "\n",
      "       \\r     carriage return\n",
      "\n",
      "       \\t     horizontal tab\n",
      "\n",
      "       \\v     vertical tab\n",
      "\n",
      "       \\0NNN  byte with octal value NNN (1 to 3 digits)\n",
      "\n",
      "       \\xHH   byte with hexadecimal value HH (1 to 2 digits)\n",
      "\n",
      "       NOTE: your shell may have its own version of echo, which usually super‐\n",
      "       sedes the version described here.  Please refer to your  shell's  docu‐\n",
      "       mentation for details about the options it supports.\n",
      "\n",
      "AUTHOR\n",
      "       Written by Brian Fox and Chet Ramey.\n",
      "\n",
      "REPORTING BUGS\n",
      "       GNU coreutils online help: <https://www.gnu.org/software/coreutils/>\n",
      "       Report echo translation bugs to <https://translationproject.org/team/>\n",
      "\n",
      "COPYRIGHT\n",
      "       Copyright  ©  2018  Free Software Foundation, Inc.  License GPLv3+: GNU\n",
      "       GPL version 3 or later <https://gnu.org/licenses/gpl.html>.\n",
      "       This is free software: you are free  to  change  and  redistribute  it.\n",
      "       There is NO WARRANTY, to the extent permitted by law.\n",
      "\n",
      "SEE ALSO\n",
      "       Full documentation at: <https://www.gnu.org/software/coreutils/echo>\n",
      "       or available locally via: info '(coreutils) echo invocation'\n",
      "\n",
      "GNU coreutils 8.30               February 2019                         ECHO(1)\n"
     ]
    }
   ],
   "source": [
    "%%bash\n",
    "man echo"
   ]
  },
  {
   "cell_type": "markdown",
   "id": "25cc0bb3",
   "metadata": {},
   "source": [
    "## Laufzeitumgebung\n",
    "* Sammlung verschiedener Shell-Variablen:\n",
    "  * HOME\n",
    "  * USER\n",
    "  * PATH\n",
    "  * LANG\n",
    "  * ...\n",
    "* Shell vererbt die Laufzeitumgebung an ausgef&uuml;hrte Programme\n",
    "\n",
    "### env\n",
    "| Name | env - F&uuml;hrt ein Programm in einer modifizierten Laufzeitumgebung aus |\n",
    "|:---|:---|\n",
    "|&#0220;berblick| env \\[OPTION\\]... \\[-\\] \\[NAME=VALUE\\]... \\[COMMAND \\[ARG\\]...\\]|\n",
    "| Beschreibung | Setzt jeden NAME auf VALUE und f&uuml;hrt COMAND aus (`-` verwendet eine leere Laufzeitumgebung) |\n",
    "|              | oder gibt die Laufzeitumgebung aus, falls kein COMMAND angegeben wurde |\n",
    "|Wichtige Optionen:| |\n",
    "| -u, --unset NAME | Entfernt NAME aus der Laufzeitumgebung |\n",
    "| -i, --ignore-environment | verwendet eine leere Laufzeitumgebung (genau wie `-`) |\n",
    "\n"
   ]
  },
  {
   "cell_type": "code",
   "execution_count": 5,
   "id": "04c7ab2e",
   "metadata": {},
   "outputs": [
    {
     "name": "stderr",
     "output_type": "stream",
     "text": [
      "env: ‘echo’: No such file or directory\n"
     ]
    }
   ],
   "source": [
    "%%bash\n",
    "env PATH=x echo $HOME || true"
   ]
  },
  {
   "cell_type": "markdown",
   "id": "4c89462e",
   "metadata": {},
   "source": [
    "## Logische Operatoren\n",
    "* `&&`  logisches und auf Basis der R&uuml;ckgabewerte \n",
    "* `||` logisches oder auf Basis der R&uuml;ckgabewerte\n",
    "* Kurzschlussauswertung wie auch in Python etc.\n",
    "* `&&` f&uuml;hrt die rechte Seite nur aus, wenn die linke Seite 0 (Erfolg) zur&uuml;ckliefert\n",
    "* `||` f&uuml;hrt die rechte Seite nur aus, wenn die linke Seite &#8800;0 (Misserfolg) zur&uuml;ckliefert\n",
    "* k&ouml;nnen auch in `if` Bedingungen verwendet werden"
   ]
  },
  {
   "cell_type": "code",
   "execution_count": 7,
   "id": "6a19f6c6",
   "metadata": {},
   "outputs": [
    {
     "name": "stdout",
     "output_type": "stream",
     "text": [
      "true || false = false\n"
     ]
    }
   ],
   "source": [
    "%%bash\n",
    "if false || false; then echo 'true || false = true'; else echo 'true || false = false'; fi"
   ]
  },
  {
   "cell_type": "code",
   "execution_count": null,
   "id": "11f03f48",
   "metadata": {},
   "outputs": [],
   "source": [
    "%%bash\n",
    "false || echo 'hello'"
   ]
  },
  {
   "cell_type": "markdown",
   "id": "ce422473-40c8-4578-9a72-3e6c20b102c7",
   "metadata": {},
   "source": [
    "## Pfade\n",
    "* Unix-Dateisystem ist als Baum organisiert\n",
    "* genau ein Wurzelknoten `/`\n",
    "* jedes Blatt (Datei) und jeder Knoten (Verzeichnis) hat genau ein Elternverzeichnis\n",
    "* `.` referenziert das aktuelle Verzeichnis\n",
    "* `..` referenziert das Elternverzeichnis\n",
    "* jedes Programm hat ein aktuelles Arbeitsverzeichnis (`PWD` in der Laufzeitumgebung)\n",
    "* absolute Pfade geben den absoluten Pfad von der Wurzel an\n",
    "* relative Pfade geben den relativen Pfad vom aktuellen Arbeitsverzeichnis aus an\n",
    "* `HOME` in der Laufzeitumgebung enth&auml;lt den Pfad des Home-Verzeichnis\n",
    "* `~` wird (in der Shell) durch das Home-Verzeichnis ersetzt\n",
    "* Pseudodateien `/dev/stdin`, `/dev/stdout`, `/dev/stderr`, `/dev/null`\n"
   ]
  },
  {
   "cell_type": "markdown",
   "id": "8ba86fed",
   "metadata": {},
   "source": [
    "![Dateisystem](filesystem.svg \"Von Thomei08 (Stefan Hagen, Bichwil) - selbst erstellt, Bild-frei, https://de.wikipedia.org/w/index.php?curid=4098994\")\n",
    "\n",
    "Von Thomei08 (Stefan Hagen, Bichwil) - selbst erstellt, Bild-frei, https://de.wikipedia.org/w/index.php?curid=4098994"
   ]
  },
  {
   "cell_type": "markdown",
   "id": "c7952c0a-3a4f-4f38-8241-677972d867fc",
   "metadata": {
    "tags": [
     "output_scroll"
    ]
   },
   "source": [
    "## Dateiverwaltung\n",
    "Verschiedene Befehle f&#0252;r die Dateiverwaltung:\n",
    "* Auflisten von Dateien\n",
    "* Verzeichnisse wechseln\n",
    "* Erzeugung von Dateien und Verzeichnissen\n",
    "* Rechteverwaltung\n",
    "* L&#0246;schen von Dateien und Verzeichnissen\n",
    "\n",
    "### ls\n",
    "| Name | ls - Auflisten von Verzeichnissen |\n",
    "|:---|:---|\n",
    "|&#0220;berblick| ls \\[OPTION\\]... \\[FILE\\]...|\n",
    "| Beschreibung | Listet Informationen &#0252;ber Dateien und Verzeichnisse auf. |\n",
    "|Wichtige Optionen:| |\n",
    "| -l | Ausf&#0252;hrliche Liste |\n",
    "| -a, --all | Ausgabe von versteckten Dateien |\n",
    "| -h, --human-readable | Menschen-lesbare Dateigr&#0246;&#0223;en |\n",
    "| -i, --inode | Ausgabe von inode-Nummern |\n",
    "| -n, --numeric-uid-gid | Wie -l aber mit numerischen uids und gids |\n"
   ]
  },
  {
   "cell_type": "code",
   "execution_count": 13,
   "id": "e1f776bb-5f18-4c5d-b487-ffb950fa4250",
   "metadata": {},
   "outputs": [
    {
     "name": "stdout",
     "output_type": "stream",
     "text": [
      "total 744\n",
      "-rw-r--r-- 1 flo flo  21135 Apr 29 15:19 02_werkzeuge.ipynb\n",
      "-rw-r--r-- 1 flo flo   2624 Apr 29 14:46 aufgaben.ipynb\n",
      "drwxr-xr-x 3 flo flo   4096 Apr 29 12:03 dir\n",
      "-rw-rw-rw- 1 flo flo 709173 Apr 28 12:04 filesystem.svg\n",
      "-rwxr-xr-x 1 flo flo    375 Apr 29 14:47 fizzbuzz.bash\n",
      "-rwxr-xr-x 1 flo flo    170 Apr 29 14:30 guess_name.bash\n",
      "-rw-r--r-- 1 flo flo     13 Apr 27 17:10 hallo.txt\n",
      "-rwxr-xr-x 1 flo flo    316 Apr 29 14:33 list_dir.bash\n"
     ]
    }
   ],
   "source": [
    "%%bash\n",
    "ls -l"
   ]
  },
  {
   "cell_type": "markdown",
   "id": "2784fbc2",
   "metadata": {},
   "source": [
    "### Berechtigungen\n",
    "* Dateien und Verzeichnisse haben einen Besizer und eine Gruppe\n",
    "* Berechtigungen f&uuml;r Besizer, Gruppe und alle anderen\n",
    "* Leseberechtigung `r`, Schreibberechtigung `w` und Ausf&uuml;hrbarkeit `x`\n",
    "* `x` bei Verzeichnissen regelt Durchqueren \n",
    "\n",
    "### chmod\n",
    "| Name | chmod - Ver&auml;ndert Dateiberechtigungen |\n",
    "|:---|:---|\n",
    "|&#0220;berblick| chmod \\[OPTION\\]... \\[MODE\\[,MODE\\]\\]... FILE... |\n",
    "| Beschreibung | Ver&auml;ndert die Dateiberechtigungen jeder Datei in FILE. |\n",
    "| | Das Format von MODE ist \\[ugoa...\\]\\[\\[-+=\\]\\[PERMS...\\]...\\], \n",
    "| | wobei PERMS Zeichen aus der Menge `rwxXst` sind. |\n",
    "| Wichtige Optionen: | |\n",
    "| -R, --recursive | Ver&auml;ndert Dateien und Verzeichnisse rekursiv |"
   ]
  },
  {
   "cell_type": "code",
   "execution_count": 14,
   "id": "8d1c3a47",
   "metadata": {},
   "outputs": [
    {
     "name": "stdout",
     "output_type": "stream",
     "text": [
      "-rw-rw-rw- 1 flo flo 709173 Apr 28 12:04 filesystem.svg\n",
      "-rwxrwxrwx 1 flo flo 709173 Apr 28 12:04 filesystem.svg\n",
      "-rwxrwxr-- 1 flo flo 709173 Apr 28 12:04 filesystem.svg\n",
      "-rw-rw-rw- 1 flo flo 709173 Apr 28 12:04 filesystem.svg\n"
     ]
    }
   ],
   "source": [
    "%%bash\n",
    "ls -l filesystem.svg\n",
    "chmod a+x filesystem.svg\n",
    "ls -l filesystem.svg\n",
    "chmod o-wx filesystem.svg\n",
    "ls -l filesystem.svg \n",
    "chmod a=rw filesystem.svg\n",
    "ls -l filesystem.svg"
   ]
  },
  {
   "cell_type": "markdown",
   "id": "b916b4e3-a4ba-48f5-b37a-7111eeedb473",
   "metadata": {},
   "source": [
    "### cd\n",
    "| Name | cd - Wechselt das Verzeichnis |\n",
    "|:---|:---|\n",
    "|&#0220;berblick| cd \\[DIRECTORY\\] |\n",
    "| Beschreibung | Wechselt das aktuelle Arbeitsverzeichnis und setzt `PWD` entsprechend |\n",
    "\n",
    "### pwd\n",
    "| Name | pwd - Gibt das aktuelle Arbeitsverzeichnis aus |\n",
    "|:---|:---|\n",
    "|&#0220;berblick| pwd |\n",
    "|Beschreibung | Gibt das aktuelle Arbeitsverzeichnis aus |\n"
   ]
  },
  {
   "cell_type": "code",
   "execution_count": 17,
   "id": "6c6c801b-4b0e-4488-9f7d-fdcaeda06a7e",
   "metadata": {},
   "outputs": [
    {
     "name": "stdout",
     "output_type": "stream",
     "text": [
      "/home/flo/devel/work/kb21/jupyter/02\n",
      "/home/flo/devel/work/kb21/jupyter\n"
     ]
    }
   ],
   "source": [
    "%%bash\n",
    "pwd\n",
    "cd ../\n",
    "pwd"
   ]
  },
  {
   "cell_type": "markdown",
   "id": "d5049886",
   "metadata": {},
   "source": [
    "### touch\n",
    "| Name | touch - &Auml;ndert Zeitstempel von Dateien |\n",
    "|:---|:---|\n",
    "|&#0220;berblick| touch \\[OPTION\\]... FILE... |\n",
    "| Beschreibung | Aktualisiert die Zugriffs und Modifizierungszeiten von jeder Datei in FILE. |\n",
    "| | Erzeugt die Dateien, falls die Dateien nicht existieren.  |\n",
    "| Wichtige Optionen: | |\n",
    "| -c, --no-create | Erzeuge keine neuen Dateien |\n",
    "| -a | Ver&auml;ndert nur die Zugriffszeit |\n",
    "| -m | Ver&auml;ndert nur die Modifizierungszeit |\n",
    "\n",
    "### mkdir\n",
    "| Name | mkdir - Erzeugt Verzeichnisse |\n",
    "|:---|:---|\n",
    "|&#0220;berblick| mkdir \\[OPTION\\]... DIRECTORY... |\n",
    "| Beschreibung | Erzeugt die Verzeichnisse sofern sie noch nicht existieren. |\n",
    "| Wichtige Optionen: | |\n",
    "| -p, --parents | Erzeuge entsprechende Elternverzeichnisse; |\n",
    "| | gibt keinen Fehler zur&uuml;ck, falls Verzeichnis existiert |\n",
    "\n",
    "### rm\n",
    "| Name | rm - Entfernt Dateien und Verzeichnisse |\n",
    "|:---|:---|\n",
    "|&#0220;berblick| rm \\[OPTION\\]... \\[FILE\\]... |\n",
    "|Beschreibung | Entfernt jede Datei in FILE. Ohne Optionen werden keine Verzeichnisse entfernt. |\n",
    "| Wichtige Optionen: | |\n",
    "| -f, --force | Ignoriert nicht existierende Dateien und Argumente; ignoriert -i |\n",
    "| -i | Verlangt Konfirmation bevor der Entfernung |\n",
    "| -r, -R, --recursive | Entfernt Verzeichnisse und deren Inhalte rekursiv |\n",
    "| -d, --dir | Entfernt leere Verzeichnisse |"
   ]
  },
  {
   "cell_type": "code",
   "execution_count": 19,
   "id": "3790aa8b",
   "metadata": {},
   "outputs": [
    {
     "name": "stdout",
     "output_type": "stream",
     "text": [
      "- vor mkdir:\n",
      "02_werkzeuge.ipynb\n",
      "aufgaben.ipynb\n",
      "dir\n",
      "filesystem.svg\n",
      "fizzbuzz.bash\n",
      "guess_name.bash\n",
      "hallo.txt\n",
      "list_dir.bash\n",
      "- nach mkdir:\n",
      "02_werkzeuge.ipynb\n",
      "aufgaben.ipynb\n",
      "dir\n",
      "filesystem.svg\n",
      "fizzbuzz.bash\n",
      "guess_name.bash\n",
      "hallo.txt\n",
      "list_dir.bash\n",
      "tmp\n",
      "- tmp:\n",
      "a.txt\n"
     ]
    },
    {
     "name": "stderr",
     "output_type": "stream",
     "text": [
      "rm: cannot remove 'tmp': Is a directory\n",
      "rm: cannot remove 'tmp': Directory not empty\n"
     ]
    }
   ],
   "source": [
    "%%bash\n",
    "echo \"- vor mkdir:\" && ls \n",
    "mkdir tmp\n",
    "echo \"- nach mkdir:\" && ls \n",
    "touch tmp/a.txt\n",
    "echo \"- tmp:\" && ls tmp \n",
    "rm tmp \n",
    "rm -d tmp \n",
    "rm tmp/a.txt \n",
    "rm -d tmp "
   ]
  },
  {
   "cell_type": "markdown",
   "id": "06c237e5",
   "metadata": {},
   "source": [
    "### cp\n",
    "| Name | cp - Kopiert Dateien und Verzeichnisse | \n",
    "|:---|:---|\n",
    "|&Uuml;berblick| cp \\[OPTION\\]... SOURCE DEST |\n",
    "| | cp \\[OPTION\\]... SOURCE... DIRECTORY |\n",
    "|Beschreibung | Kopiert SOURCE nach DEST oder die Dateien und Verzeichnisse in SOURCE nach DIRECTORY. |\n",
    "| Wichtige Optionen: | |\n",
    "| -i, --interactive | Verlangt Konfirmation bevor Dateien &uuml;berschrieben werden |\n",
    "| -r, -R, --recursive | Kopiert Verzeichnisse und deren Inhalte rekursiv |"
   ]
  },
  {
   "cell_type": "code",
   "execution_count": 20,
   "id": "123faf01",
   "metadata": {},
   "outputs": [
    {
     "name": "stdout",
     "output_type": "stream",
     "text": [
      "02_werkzeuge.ipynb\n",
      "a.txt\n",
      "aufgaben.ipynb\n",
      "b.txt\n",
      "dir\n",
      "filesystem.svg\n",
      "fizzbuzz.bash\n",
      "guess_name.bash\n",
      "hallo.txt\n",
      "list_dir.bash\n"
     ]
    }
   ],
   "source": [
    "%%bash\n",
    "touch a.txt\n",
    "cp a.txt b.txt\n",
    "ls\n",
    "rm a.txt b.txt"
   ]
  },
  {
   "cell_type": "markdown",
   "id": "3da5c81a",
   "metadata": {},
   "source": [
    "## Aliase\n",
    "* erm&ouml;glicht es neue Befehle zu definieren\n",
    "* erm&ouml;glicht es bestehende Befehle neu zu definieren\n",
    "* Befehle werden immer zuerst in der Aliasliste gesucht, dann im Pfad\n",
    "\n",
    "### alias \n",
    "| Name | alias - Definiert ein alias | \n",
    "|:---|:---|\n",
    "|&Uuml;berblick| alias \\[ALIAS=CMD\\] |\n",
    "|Beschreibung | Erzeugt einen Befehl ALIAS als alias f&uuml;r CMD |"
   ]
  },
  {
   "cell_type": "markdown",
   "id": "4dea9c97",
   "metadata": {},
   "source": [
    "## Eingabe- und Ausgabestr&ouml;me\n",
    "* von der Shell aus gestartet Programme starten mit 3 offenen Dateihandeln:\n",
    "  * `stdin` (0) Standardeingabe zum Lesen\n",
    "  * `stdout` (1) Standardausgabe zum Schreiben\n",
    "  * `stderr` (2) Standardfehlerausgabe zum Schreiben \n",
    "* in der Shell sind alle drei Datenstr&ouml;me mit dem Terminal verbunden \n",
    "* Umleitungsoperatoren zum &Auml;ndern der Datenstr&ouml;me\n",
    "\n",
    "| Ausdruck | Beschreibung\n",
    "|:---|:---|\n",
    "| `p > file` | Leitet `stdout` von `p` nach `file` um |\n",
    "| `p >> file` | Leitet `stdout` von `p` nach `file` um (h&auml;ngt an) |\n",
    "| `p 2> file` | Leitet `stderr` von `p` nach `file` um |\n",
    "| `p 2>> file` | Leitet `stderr` von `p` nach `file` um (h&auml;ngt an) |\n",
    "| `p < file` | Leitet `stdin` von `p` nach `file` um |\n",
    "| `p \\| q` | Leitet `stdout` von `p` nach `stdin` von `q` um |\n",
    "| `p \\|& q` | Leitet `stdout` und `stderr` von `p` nach `stdin` von `q` um* |\n",
    "| `p > file 2>&1` | Leitet `stdout` von `p` nach `file` und `stderr` nach `stdout` (`file`) um |\n",
    "| `p 2>&1 > file` | Leitet `stderr` von `p` nach `stdout` von `p` um und `stdout` nach `file` |\n",
    "| `p &> file` | Leitet `stdout` und `stderr` von `p` nach `file` um* |\n",
    "\n",
    "\\* markiert inkompatible Erweiterungen\n"
   ]
  },
  {
   "cell_type": "markdown",
   "id": "e29f6d17",
   "metadata": {},
   "source": [
    "### cat \n",
    "| Name | cat - Konkateniert Dateien und schreibt sie nach `stdout` |\n",
    "|:---|:---|\n",
    "|&#0220;berblick| cat \\[OPTION\\]... \\[FILE\\]... |\n",
    "| Beschreibung | Konkateniert FILE und schreibt diese nach `stdout`. |\n",
    "| | Ohne FILE oder falls FILE `-` ist, wird `stdin` gelesen. | \n",
    "| Wichtige Optionen: | |\n",
    "| -n, --number | Nummeriert alle Ausgabezeilen |\n",
    "| -v, --shown-nonprinting | Markiert nicht ausdruckbare Zeichen in der `^` bzw. `M-` Notation | "
   ]
  },
  {
   "cell_type": "code",
   "execution_count": null,
   "id": "11b9195a",
   "metadata": {},
   "outputs": [],
   "source": [
    "%%bash\n",
    "echo -e \"Hallo Welt!\\a\" > hallo.txt\n",
    "cat -nv < hallo.txt"
   ]
  },
  {
   "cell_type": "markdown",
   "id": "26cc9f5b",
   "metadata": {},
   "source": [
    "### wc  \n",
    "| Name | wc - Gibt Anzahl von Zeilenumbr&uuml;chen, W&ouml;rtern und Bytes aus |\n",
    "|:---|:---|\n",
    "|&#0220;berblick| wc \\[OPTION\\]... \\[FILE\\]... |\n",
    "| Beschreibung | Gibt Anzahl von Zeilenumbr&uuml;chen, W&ouml;rtern und Bytes aus. |\n",
    "| | Ein Wort ist dabei eine nicht-leere Folge von Zeichen, |\n",
    "| | die von Leerzeichen umgeben sind. |\n",
    "| Wichtige Optionen: | |\n",
    "| -c, --bytes | Gibt die Byte-Anzahl aus |\n",
    "| -m, --chars | Gibt die Zeichenanzahl aus | \n",
    "| -l, --lines | Gibt die Zeilenanzahl aus |\n",
    "| -w, --words | Gibt die Wortanzahl aus |"
   ]
  },
  {
   "cell_type": "code",
   "execution_count": null,
   "id": "684507f8",
   "metadata": {
    "tags": []
   },
   "outputs": [],
   "source": [
    "%%bash\n",
    "echo -e \"Erste Zeile.\\nFünf.\" | wc --lines"
   ]
  },
  {
   "cell_type": "markdown",
   "id": "2c54191b",
   "metadata": {},
   "source": [
    "## &Uuml;bungsaufgaben\n",
    "### 1. Aufgabe `kbytes`\n",
    "Schreiben Sie ein Skript `kbytes.bash`, das f&uuml;r jede &uuml;bergebene Datei die Gr&ouml;&szlig;e der Datei in Kilobytes (=Bytes/1000) ausgibt.  Besipiel:\n",
    "```bash\n",
    "$./kbytes.bash *.txt\n",
    "a.txt: 3K\n",
    "b.txt: 0K\n",
    "c.txt: 10K\n",
    "$\n",
    "```\n",
    "\n",
    "### 2. Aufgabe `man_words`\n",
    "Schreiben Sie ein Skript `man_words.bash`, das  das f&uuml;r jede &uuml;bergebenen Namen die Anzahl der W&ouml;rter in der entsprechenden Manpage vorkommt.\n",
    "Falls f&uuml;r einen Namen kein Manpage-Eintrag existiert, soll `??` ausgegeben werden.  Beispiel:\n",
    "```bash\n",
    "$ ./man_words.bash ls xx\n",
    "ls: 945\n",
    "xx: ??\n",
    "$\n",
    "```\n",
    "\n",
    "### 3. Aufgabe `add_header`\n",
    "Schreiben Sie ein Skript `add_header.bash`, das seine Standardeingabe liest, dieser einen Header voranstellt und schlie&szlig;lich \n",
    "Die vorangestellten Header-Zeilen sollen dabei die einzelnen Kommandozeilenargumente sein.  Beispiel:\n",
    "```bash\n",
    "$ echo \"Hello, world!\" | ./add_header '# my' '# header'\n",
    "# my\n",
    "# header\n",
    "Hello, world!\n",
    "$\n",
    "```"
   ]
  },
  {
   "cell_type": "code",
   "execution_count": null,
   "id": "d60bf964-1ee7-4070-9143-35d34220cb8e",
   "metadata": {},
   "outputs": [],
   "source": []
  }
 ],
 "metadata": {
  "kernelspec": {
   "display_name": "Python 3",
   "language": "python",
   "name": "python3"
  },
  "language_info": {
   "codemirror_mode": {
    "name": "ipython",
    "version": 3
   },
   "file_extension": ".py",
   "mimetype": "text/x-python",
   "name": "python",
   "nbconvert_exporter": "python",
   "pygments_lexer": "ipython3",
   "version": "3.7.3"
  },
  "metadata": {
   "interpreter": {
    "hash": "31f2aee4e71d21fbe5cf8b01ff0e069b9275f58929596ceb00d14d90e3e16cd6"
   }
  }
 },
 "nbformat": 4,
 "nbformat_minor": 5
}
