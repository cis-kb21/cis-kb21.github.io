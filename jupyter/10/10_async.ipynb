{
 "cells": [
  {
   "cell_type": "markdown",
   "id": "faa3f9c0",
   "metadata": {},
   "source": [
    "# Crawler\n",
    "\n",
    "## dtacrawl"
   ]
  },
  {
   "cell_type": "code",
   "execution_count": 1,
   "id": "8a581aac",
   "metadata": {},
   "outputs": [
    {
     "name": "stdout",
     "output_type": "stream",
     "text": [
      "https://www.deutschestextarchiv.de/book/download_xml/brehm_thierleben05_1869\n",
      "https://www.deutschestextarchiv.de/book/download_fulltcf/12345\n",
      "https://kaskade.dwds.de/dstar/dta/dstar.perl?q=abc\n"
     ]
    }
   ],
   "source": [
    "import json\n",
    "import random \n",
    "import time \n",
    "import logging\n",
    "import argparse\n",
    "from urllib.parse import urlunsplit\n",
    "from urllib.parse import urlsplit\n",
    "from urllib.parse import urlencode\n",
    "from urllib.request import urlopen\n",
    "\n",
    "logging.basicConfig(format=\"%(asctime)s: %(message)s\", level=logging.INFO, datefmt=\"%H:%M:%S\")\n",
    "\n",
    "tei_baseurl = 'https://www.deutschestextarchiv.de/book/download_xml'\n",
    "query_baseurl = 'https://kaskade.dwds.de/dstar/dta/dstar.perl'\n",
    "tcf_baseurl = 'https://www.deutschestextarchiv.de/book/download_fulltcf'\n",
    "\n",
    "def tei_url(basename):\n",
    "    return tei_baseurl + \"/\" + basename\n",
    "\n",
    "def tcf_url(id):\n",
    "    return tcf_baseurl + \"/\" + id\n",
    "\n",
    "def query_url(query):\n",
    "    parts = list(urlsplit(query_baseurl))\n",
    "    parts[3] = urlencode(query)\n",
    "    return urlunsplit(parts)\n",
    "\n",
    "print(tei_url('brehm_thierleben05_1869'))\n",
    "print(tcf_url('12345'))\n",
    "print(query_url({'q': 'abc'}))"
   ]
  },
  {
   "cell_type": "code",
   "execution_count": 2,
   "id": "4ebb4789",
   "metadata": {},
   "outputs": [],
   "source": [
    "def download(url):\n",
    "    secs = random.uniform(0.5, 1.5)\n",
    "    time.sleep(secs)\n",
    "    logging.info(f\"downloading {url} after waiting {secs}s\")\n",
    "    with urlopen(url) as f:\n",
    "        return f.read() \n",
    "\n",
    "def download_to(url, out):\n",
    "    with open(out, 'wb') as f:\n",
    "        f.write(download(url))\n",
    "        \n",
    "def query(q):\n",
    "    return json.loads(download(query_url(q)))\n"
   ]
  },
  {
   "cell_type": "code",
   "execution_count": 3,
   "id": "8424b7a9",
   "metadata": {},
   "outputs": [
    {
     "name": "stderr",
     "output_type": "stream",
     "text": [
      "13:38:55: downloading https://kaskade.dwds.de/dstar/dta/dstar.perl?q=Axolotl&limit=3&start=1&fmt=json after waiting 0.962889848950359s\n",
      "13:38:57: downloading https://kaskade.dwds.de/dstar/dta/dstar.perl?q=Axolotl&limit=3&start=4&fmt=json after waiting 1.1984669045074616s\n"
     ]
    },
    {
     "name": "stdout",
     "output_type": "stream",
     "text": [
      "{'25164': 'haeckel_schoepfungsgeschichte_1868', '16241': 'weismann_keimplasma_1892', '25165': 'brehm_thierleben05_1869'}\n"
     ]
    }
   ],
   "source": [
    "def dtaids(max, q):\n",
    "    ids = {}\n",
    "    start = 1\n",
    "    while len(ids) < max:\n",
    "        q[\"limit\"] = max \n",
    "        q[\"start\"] = start \n",
    "        q[\"fmt\"] = \"json\"\n",
    "        hits = query(q)\n",
    "        for hit in hits[\"hits_\"]:\n",
    "            id = hit[\"meta_\"][\"dtaid\"]\n",
    "            if id not in ids:\n",
    "                ids[id] = hit[\"meta_\"][\"basename\"]\n",
    "            if len(ids) == max:\n",
    "                return ids \n",
    "        start = max + start\n",
    "    return ids\n",
    "\n",
    "print(dtaids(3, {'q': 'Axolotl'}))"
   ]
  },
  {
   "cell_type": "code",
   "execution_count": 4,
   "id": "e99d9d09",
   "metadata": {},
   "outputs": [
    {
     "name": "stderr",
     "output_type": "stream",
     "text": [
      "13:39:03: downloading https://kaskade.dwds.de/dstar/dta/dstar.perl?q=Axolotl&limit=3&start=1&fmt=json after waiting 0.8940787692882608s\n",
      "13:39:05: downloading https://kaskade.dwds.de/dstar/dta/dstar.perl?q=Axolotl&limit=3&start=4&fmt=json after waiting 1.1000495896616407s\n",
      "13:39:07: downloading https://www.deutschestextarchiv.de/book/download_xml/haeckel_schoepfungsgeschichte_1868 after waiting 1.4928216765322873s\n",
      "13:39:10: downloading https://www.deutschestextarchiv.de/book/download_fulltcf/25164 after waiting 0.5720735605787123s\n",
      "13:39:28: downloading https://www.deutschestextarchiv.de/book/download_xml/weismann_keimplasma_1892 after waiting 0.5800219578988406s\n",
      "13:39:30: downloading https://www.deutschestextarchiv.de/book/download_fulltcf/16241 after waiting 0.827034519889987s\n",
      "13:39:47: downloading https://www.deutschestextarchiv.de/book/download_xml/brehm_thierleben05_1869 after waiting 0.567877499494177s\n",
      "13:39:52: downloading https://www.deutschestextarchiv.de/book/download_fulltcf/25165 after waiting 1.3407643554063458s\n",
      "13:40:40: done\n"
     ]
    }
   ],
   "source": [
    "    ids = dtaids(3, {'q': 'Axolotl'})\n",
    "    for id in ids:\n",
    "        download_to(tei_url(ids[id]), f\"out/{id}.tei.xml\")\n",
    "        download_to(tcf_url(id), f\"out/{id}.tcf.xml\")\n",
    "    logging.info('done')"
   ]
  },
  {
   "cell_type": "markdown",
   "id": "e4d63fda",
   "metadata": {},
   "source": [
    "## Asynchroner Crawler\n",
    "* lineares Vorgehen:\n",
    "  1. lade alle Suchergebnisse herunter\n",
    "  2. lade die zugeh&ouml;rigen Dateien herunter\n",
    "* asynchrones Vorgehen:\n",
    "  * lade die Suchergebnisse herunter\n",
    "  * parallel dazu lade die Dateien herunter sobald Suchergebnisse vorhanden sind."
   ]
  },
  {
   "cell_type": "markdown",
   "id": "8ad18741",
   "metadata": {},
   "source": [
    "### Threads\n",
    "* asynchrone Pfade durch den Code\n",
    "* Threads laufen gleichzeitig auf verschiedenen CPU's\n",
    "* Reihenfolge der Threads ist nicht deterministisch\n",
    "* Kommunikation zwischen den Threads muss synchronisiert werden (Mutex, atomare Variablen ...)\n",
    "* unsynchronisierter Zugriff auf gemeinsame Daten f&uuml;hrt zu Problemen"
   ]
  },
  {
   "cell_type": "code",
   "execution_count": 30,
   "id": "f912447c",
   "metadata": {},
   "outputs": [
    {
     "name": "stderr",
     "output_type": "stream",
     "text": [
      "12:37:18: Thread 3 producing 0\n",
      "12:37:18: Thread 2 producing 0\n",
      "12:37:19: Thread 3 producing 1\n",
      "12:37:19: Thread 1 producing 0\n",
      "12:37:19: Thread 2 producing 1\n",
      "12:37:20: Thread 1 producing 1\n",
      "12:37:21: Thread 2 producing 2\n",
      "12:37:21: Thread 1 producing 2\n",
      "12:37:22: Thread 2 producing 3\n",
      "12:37:23: Thread 2 producing 4\n",
      "12:37:23: done\n"
     ]
    }
   ],
   "source": [
    "import concurrent.futures\n",
    "\n",
    "def thread(name, max):\n",
    "    for i in range(max):\n",
    "        time.sleep(random.uniform(0.5, 1.5))\n",
    "        logging.info(f'{name} producing {i}')\n",
    "\n",
    "with concurrent.futures.ThreadPoolExecutor(max_workers=3) as executor:\n",
    "    executor.submit(thread, \"Thread 1\", 3)\n",
    "    executor.submit(thread, \"Thread 2\", 5)\n",
    "    executor.submit(thread, \"Thread 3\", 2)\n",
    "logging.info('done')\n"
   ]
  },
  {
   "cell_type": "markdown",
   "id": "fb4ac84b",
   "metadata": {},
   "source": [
    "### Wettlaufsituation (Race Condition)"
   ]
  },
  {
   "cell_type": "code",
   "execution_count": 31,
   "id": "984e2651",
   "metadata": {},
   "outputs": [
    {
     "name": "stderr",
     "output_type": "stream",
     "text": [
      "12:37:24: deposit: 33\n",
      "12:37:24: deposit: 20\n",
      "12:37:24: deposit: 3\n",
      "12:37:25: deposit: -10\n",
      "12:37:25: final deposit: -10\n"
     ]
    }
   ],
   "source": [
    "deposit = 50\n",
    "    \n",
    "def withdraw(amount):\n",
    "    global deposit\n",
    "    while True:\n",
    "        if deposit >= amount:\n",
    "            time.sleep(random.uniform(0.5, 1.5))\n",
    "            deposit = deposit - amount\n",
    "            logging.info(f'deposit: {deposit}')\n",
    "        else:\n",
    "            return\n",
    "        \n",
    "with concurrent.futures.ThreadPoolExecutor(max_workers=2) as executor:\n",
    "    executor.submit(withdraw, 13)\n",
    "    executor.submit(withdraw, 17)\n",
    "logging.info(f'final deposit: {deposit}')\n"
   ]
  },
  {
   "cell_type": "markdown",
   "id": "add01ada",
   "metadata": {},
   "source": [
    "### Synchronisation mit Locks"
   ]
  },
  {
   "cell_type": "code",
   "execution_count": 32,
   "id": "f4a1ab24",
   "metadata": {},
   "outputs": [
    {
     "name": "stderr",
     "output_type": "stream",
     "text": [
      "12:37:26: deposit: 37\n",
      "12:37:26: deposit: 24\n",
      "12:37:27: deposit: 11\n",
      "12:37:27: final deposit: 11\n"
     ]
    }
   ],
   "source": [
    "import threading\n",
    "\n",
    "locked_deposit = 50\n",
    "lock = threading.Lock()\n",
    "    \n",
    "def withdraw(amount):\n",
    "    global locked_deposit\n",
    "    global lock\n",
    "    while True:       \n",
    "        lock.acquire()\n",
    "        if locked_deposit >= amount:\n",
    "            time.sleep(random.uniform(0.5, 1.5))\n",
    "            locked_deposit = locked_deposit - amount\n",
    "            logging.info(f'deposit: {locked_deposit}')\n",
    "            lock.release()\n",
    "        else:\n",
    "            lock.release()\n",
    "            return\n",
    "        \n",
    "with concurrent.futures.ThreadPoolExecutor(max_workers=2) as executor:\n",
    "    executor.submit(withdraw, 13)\n",
    "    executor.submit(withdraw, 17)\n",
    "logging.info(f'final deposit: {locked_deposit}')\n"
   ]
  },
  {
   "cell_type": "markdown",
   "id": "e5ac31dd",
   "metadata": {},
   "source": [
    "### Locks mit `with ...`"
   ]
  },
  {
   "cell_type": "code",
   "execution_count": 33,
   "id": "af0e22a6",
   "metadata": {},
   "outputs": [
    {
     "name": "stderr",
     "output_type": "stream",
     "text": [
      "12:37:28: deposit: 37\n",
      "12:37:29: deposit: 24\n",
      "12:37:30: deposit: 11\n",
      "12:37:30: final deposit: 11\n"
     ]
    }
   ],
   "source": [
    "import threading\n",
    "\n",
    "locked_deposit = 50\n",
    "lock = threading.Lock()\n",
    "    \n",
    "def withdraw(amount):\n",
    "    global locked_deposit\n",
    "    global lock\n",
    "    while True:\n",
    "        with lock:    \n",
    "            if locked_deposit >= amount:\n",
    "                time.sleep(random.uniform(0.5, 1.5))\n",
    "                locked_deposit = locked_deposit - amount\n",
    "                logging.info(f'deposit: {locked_deposit}')\n",
    "            else:\n",
    "                return\n",
    "        \n",
    "with concurrent.futures.ThreadPoolExecutor(max_workers=2) as executor:\n",
    "    executor.submit(withdraw, 13)\n",
    "    executor.submit(withdraw, 17)\n",
    "logging.info(f'final deposit: {locked_deposit}')\n"
   ]
  },
  {
   "cell_type": "markdown",
   "id": "5c1e2262",
   "metadata": {},
   "source": [
    "### Erzeuger-Verbraucher (Consumer Producer) Threading\n",
    "* Erzeuger produzieren Daten\n",
    "* Verbraucher verarbeiten die Daten weiter\n",
    "* Verbraucher und Erzeuger laufen in verschiedenen Threads\n",
    "* Kommunikation (und Synchronisation) der Erzeuger und Verbraucher &uuml;ber Queues\n",
    "* je nach Anwendung verschiedene Anzahlen von Erzeugern und Verbrauchern\n",
    "\n",
    "### Queue\n",
    "* FiFo (First in, first out) Datenstruktur\n",
    "* Elemente werden in der Reihenfolge heraus genommen in der sie eingef&uuml;gt werden\n",
    "\n",
    "![Queue](https://upload.wikimedia.org/wikipedia/commons/thumb/5/52/Data_Queue.svg/300px-Data_Queue.svg.png)\n",
    "\n",
    "Quelle: https://en.wikipedia.org/wiki/Queue_(abstract_data_type)#/media/File:Data_Queue.svg"
   ]
  },
  {
   "cell_type": "markdown",
   "id": "4965e5d4",
   "metadata": {},
   "source": [
    "### Pipeline\n",
    "* verwendet Pyton Queue implementierung als Basis\n",
    "* dient der Kommunikation zwischen Erzeuger und Verbraucher\n",
    "* Schließen der Pipline signalisiert Ende der Arbeit "
   ]
  },
  {
   "cell_type": "code",
   "execution_count": 34,
   "id": "3cf3604b",
   "metadata": {},
   "outputs": [],
   "source": [
    "import queue\n",
    "class Pipeline(queue.Queue):\n",
    "    def __init__(self):\n",
    "        super().__init__(maxsize=10)\n",
    "        \n",
    "    def close(self):\n",
    "        self.put((None, None)) # insert sentry\n",
    "        logging.info('pipeline closed')\n",
    "        \n",
    "    def add_url(self, url, out):\n",
    "        self.put((url, out))\n",
    "\n",
    "    def get_url(self):\n",
    "        ret = self.get()\n",
    "        if ret == (None, None):\n",
    "            self.put(ret) # reinsert sentry\n",
    "            return (None, None, False)\n",
    "        return (ret[0], ret[1], True)"
   ]
  },
  {
   "cell_type": "markdown",
   "id": "79aff8f5",
   "metadata": {},
   "source": [
    "### Verbraucher\n",
    "* ließt urls aus der Pipline\n",
    "* l&auml;d die entsprechenden Dateien herunter\n",
    "* mehrere parallele Verbraucher"
   ]
  },
  {
   "cell_type": "code",
   "execution_count": 35,
   "id": "512de56f",
   "metadata": {},
   "outputs": [],
   "source": [
    "def consumer(pipeline):\n",
    "    while True:\n",
    "        url, out, ok = pipeline.get_url()\n",
    "        if not ok:\n",
    "            return \n",
    "        download_to(url, out)"
   ]
  },
  {
   "cell_type": "markdown",
   "id": "a12644a1",
   "metadata": {},
   "source": [
    "### Erzeuger (Producer)\n",
    "* stellt Suchanfragen\n",
    "* schreibt die URL's (tcf und tei) in die Pipeline\n",
    "* signalisiert Ende der Arbeit an die Verbraucher durch Schließen der Pipeline\n",
    "* nur ein Erzeuger"
   ]
  },
  {
   "cell_type": "code",
   "execution_count": 36,
   "id": "ff601faa",
   "metadata": {},
   "outputs": [],
   "source": [
    "def producer(pipeline, out, max, q):\n",
    "    ids = set()\n",
    "    start = 1\n",
    "    while len(ids) < max:\n",
    "        q[\"limit\"] = max \n",
    "        q[\"start\"] = start \n",
    "        q[\"fmt\"] = \"json\"\n",
    "        hits = query(q)\n",
    "        for hit in hits[\"hits_\"]:\n",
    "            id = hit[\"meta_\"][\"dtaid\"]\n",
    "            basename = hit[\"meta_\"][\"basename\"]\n",
    "            if id not in ids:\n",
    "                ids.add(id)\n",
    "                pipeline.add_url(tei_url(basename), os.path.join(out, f'{id}.tei.xml'))\n",
    "                pipeline.add_url(tcf_url(id), os.path.join(out, f'{id}.tcf.xml'))\n",
    "            if len(ids) == max:\n",
    "                pipeline.close()\n",
    "                return \n",
    "        start = max + start\n",
    "    pipeline.close()"
   ]
  },
  {
   "cell_type": "markdown",
   "id": "ba5b144e",
   "metadata": {},
   "source": [
    "### Asynchroner Crawler"
   ]
  },
  {
   "cell_type": "code",
   "execution_count": 37,
   "id": "36998239",
   "metadata": {},
   "outputs": [
    {
     "name": "stderr",
     "output_type": "stream",
     "text": [
      "12:37:31: downloading https://kaskade.dwds.de/dstar/dta/dstar.perl?q=Axolotl&limit=3&start=1&fmt=json after waiting 1.2165473930914488s\n",
      "12:37:33: downloading https://kaskade.dwds.de/dstar/dta/dstar.perl?q=Axolotl&limit=3&start=4&fmt=json after waiting 0.720621800062569s\n",
      "12:37:34: downloading https://www.deutschestextarchiv.de/book/download_xml/haeckel_schoepfungsgeschichte_1868 after waiting 1.1263338779875214s\n",
      "12:37:34: downloading https://www.deutschestextarchiv.de/book/download_fulltcf/25164 after waiting 1.2757983404771853s\n",
      "12:37:35: pipeline closed\n",
      "12:37:35: downloading https://www.deutschestextarchiv.de/book/download_xml/weismann_keimplasma_1892 after waiting 0.8832671798407791s\n",
      "12:37:36: downloading https://www.deutschestextarchiv.de/book/download_fulltcf/16241 after waiting 0.6964723714718375s\n",
      "12:37:38: downloading https://www.deutschestextarchiv.de/book/download_xml/brehm_thierleben05_1869 after waiting 1.3832605756182033s\n",
      "12:37:49: downloading https://www.deutschestextarchiv.de/book/download_fulltcf/25165 after waiting 1.0923417847749188s\n",
      "12:39:00: done\n"
     ]
    }
   ],
   "source": [
    "pipeline = Pipeline()\n",
    "with concurrent.futures.ThreadPoolExecutor(max_workers=4) as executor:\n",
    "    executor.submit(producer, pipeline, 'out', 3, {'q': 'Axolotl'})\n",
    "    executor.submit(consumer, pipeline)\n",
    "    executor.submit(consumer, pipeline)\n",
    "    executor.submit(consumer, pipeline)\n",
    "logging.info('done')"
   ]
  },
  {
   "cell_type": "markdown",
   "id": "32d2aa80",
   "metadata": {},
   "source": [
    "### Pipeline als Kontextmanagerobjekt\n",
    "* die `with ... as ...` Syntax erm&ouml;glicht das automatische Schließen von Resourcen (Dateihandel...)\n",
    "* mit `contextmanager` Objekten k&ouml;nnen eigene Klassen mit `with ... as ...` verwendet werden\n",
    "* `contextmanager` Objekte in Python m&uuml;ssen zwei Metoden implementieren\n",
    "  1. `__enter__` gibt das mit `as` referenzierte Objekt zur&uuml;ck (wird automatisch geschlossen)\n",
    "  2. `__exit__` steuert die Fehlerbehandlung\n",
    "* genaueres in der Python [Dokumentation](https://docs.python.org/3/library/stdtypes.html#typecontextmanager)"
   ]
  },
  {
   "cell_type": "code",
   "execution_count": 39,
   "id": "71cb2bde",
   "metadata": {},
   "outputs": [
    {
     "name": "stderr",
     "output_type": "stream",
     "text": [
      "12:40:05: downloading https://kaskade.dwds.de/dstar/dta/dstar.perl?q=Axolotl&limit=2&start=1&fmt=json after waiting 0.6806135555473207s\n",
      "12:40:07: downloading https://kaskade.dwds.de/dstar/dta/dstar.perl?q=Axolotl&limit=2&start=3&fmt=json after waiting 0.6222352863458483s\n",
      "12:40:08: downloading https://www.deutschestextarchiv.de/book/download_fulltcf/25164 after waiting 1.1192738121344763s\n",
      "12:40:08: downloading https://www.deutschestextarchiv.de/book/download_xml/haeckel_schoepfungsgeschichte_1868 after waiting 1.369165716621077s\n",
      "12:40:08: pipeline closed\n",
      "12:40:09: downloading https://www.deutschestextarchiv.de/book/download_xml/weismann_keimplasma_1892 after waiting 1.2807447293837313s\n",
      "12:40:10: downloading https://www.deutschestextarchiv.de/book/download_fulltcf/16241 after waiting 0.6589070988028538s\n",
      "12:41:12: done\n"
     ]
    }
   ],
   "source": [
    "class PipelineCM(Pipeline):\n",
    "    def __init__(self):\n",
    "        super().__init__()\n",
    "    def __enter__(self):\n",
    "        return self \n",
    "    def __exit__(self, et, ev, etb):\n",
    "        self.close()\n",
    "        return False\n",
    "\n",
    "def producer2(pipeline, out, max, q):\n",
    "    ids = set()\n",
    "    start = 1\n",
    "    with pipeline as p:\n",
    "        while len(ids) < max:\n",
    "            q[\"limit\"] = max \n",
    "            q[\"start\"] = start \n",
    "            q[\"fmt\"] = \"json\"\n",
    "            hits = query(q)\n",
    "            for hit in hits[\"hits_\"]:\n",
    "                id = hit[\"meta_\"][\"dtaid\"]\n",
    "                basename = hit[\"meta_\"][\"basename\"]\n",
    "                if id not in ids:\n",
    "                    ids.add(id)\n",
    "                    p.add_url(tei_url(basename), os.path.join(out, f'{id}.tei.xml'))\n",
    "                    p.add_url(tcf_url(id), os.path.join(out, f'{id}.tcf.xml'))\n",
    "                if len(ids) == max:\n",
    "                    return \n",
    "            start = max + start \n",
    "\n",
    "pipeline = PipelineCM()\n",
    "with concurrent.futures.ThreadPoolExecutor(max_workers=4) as executor:\n",
    "    executor.submit(producer2, pipeline, 'out', 2, {'q': 'Axolotl'})\n",
    "    executor.submit(consumer, pipeline)\n",
    "    executor.submit(consumer, pipeline)\n",
    "    executor.submit(consumer, pipeline)\n",
    "logging.info('done')"
   ]
  },
  {
   "cell_type": "markdown",
   "id": "72444d6c",
   "metadata": {},
   "source": [
    "## time\n",
    "\n",
    "| Name | time - misst die Laufzeit von Programmen |\n",
    "|:---|:---|\n",
    "|Überblick| time \\[OPTION\\]... \\[CMD\\] \\[ARGS\\]... |\n",
    "|Beschreibung | Misst die Laufzeit von Programmen |\n",
    "| Wichtige Optionen: | |\n",
    "| -v, --verbose | detailierte Ausgabe |"
   ]
  },
  {
   "cell_type": "code",
   "execution_count": 17,
   "id": "44beae1c",
   "metadata": {},
   "outputs": [
    {
     "name": "stderr",
     "output_type": "stream",
     "text": [
      "11:53:05: downloading https://kaskade.dwds.de/dstar/dta/dstar.perl?q=Axolotl&limit=2&start=1&fmt=json after waiting 1.4059197141109405s\n",
      "11:53:08: downloading https://kaskade.dwds.de/dstar/dta/dstar.perl?q=Axolotl&limit=2&start=3&fmt=json after waiting 1.4318023567791403s\n",
      "11:53:10: downloading https://www.deutschestextarchiv.de/book/download_xml/haeckel_schoepfungsgeschichte_1868 after waiting 0.6747291360172484s\n",
      "11:53:12: downloading https://www.deutschestextarchiv.de/book/download_fulltcf/25164 after waiting 0.5035658474273219s\n",
      "11:53:33: downloading https://www.deutschestextarchiv.de/book/download_xml/weismann_keimplasma_1892 after waiting 1.1299730885032393s\n",
      "11:53:34: downloading https://www.deutschestextarchiv.de/book/download_fulltcf/16241 after waiting 0.5336663175396948s\n",
      "\n",
      "real\t0m47.864s\n",
      "user\t0m1.821s\n",
      "sys\t0m1.467s\n"
     ]
    }
   ],
   "source": [
    "%%bash\n",
    "time python3 dtacrawl.py --max 2 --dir out 'Axolotl'"
   ]
  },
  {
   "cell_type": "code",
   "execution_count": 19,
   "id": "6ca2c585",
   "metadata": {},
   "outputs": [
    {
     "name": "stderr",
     "output_type": "stream",
     "text": [
      "Traceback (most recent call last):\n",
      "  File \"dtacrawl_async.py\", line 108, in <module>\n",
      "    executor.submit(producer, pipeline, args.dir, args.max, {'q': args.query[0]})\n",
      "NameError: name 'producer' is not defined\n",
      "\n",
      "real\t0m0.133s\n",
      "user\t0m0.123s\n",
      "sys\t0m0.011s\n"
     ]
    },
    {
     "ename": "CalledProcessError",
     "evalue": "Command 'b\"time python3 dtacrawl_async.py --max 2 --dir out 'Axolotl'\\n\"' returned non-zero exit status 1.",
     "output_type": "error",
     "traceback": [
      "\u001b[0;31m---------------------------------------------------------------------------\u001b[0m",
      "\u001b[0;31mCalledProcessError\u001b[0m                        Traceback (most recent call last)",
      "\u001b[0;32m<ipython-input-19-48cf7a465f4b>\u001b[0m in \u001b[0;36m<module>\u001b[0;34m\u001b[0m\n\u001b[0;32m----> 1\u001b[0;31m \u001b[0mget_ipython\u001b[0m\u001b[0;34m(\u001b[0m\u001b[0;34m)\u001b[0m\u001b[0;34m.\u001b[0m\u001b[0mrun_cell_magic\u001b[0m\u001b[0;34m(\u001b[0m\u001b[0;34m'bash'\u001b[0m\u001b[0;34m,\u001b[0m \u001b[0;34m''\u001b[0m\u001b[0;34m,\u001b[0m \u001b[0;34m\"time python3 dtacrawl_async.py --max 2 --dir out 'Axolotl'\\n\"\u001b[0m\u001b[0;34m)\u001b[0m\u001b[0;34m\u001b[0m\u001b[0;34m\u001b[0m\u001b[0m\n\u001b[0m",
      "\u001b[0;32m~/devel/work/kb21/jupyter/venv/lib/python3.7/site-packages/IPython/core/interactiveshell.py\u001b[0m in \u001b[0;36mrun_cell_magic\u001b[0;34m(self, magic_name, line, cell)\u001b[0m\n\u001b[1;32m   2401\u001b[0m             \u001b[0;32mwith\u001b[0m \u001b[0mself\u001b[0m\u001b[0;34m.\u001b[0m\u001b[0mbuiltin_trap\u001b[0m\u001b[0;34m:\u001b[0m\u001b[0;34m\u001b[0m\u001b[0;34m\u001b[0m\u001b[0m\n\u001b[1;32m   2402\u001b[0m                 \u001b[0margs\u001b[0m \u001b[0;34m=\u001b[0m \u001b[0;34m(\u001b[0m\u001b[0mmagic_arg_s\u001b[0m\u001b[0;34m,\u001b[0m \u001b[0mcell\u001b[0m\u001b[0;34m)\u001b[0m\u001b[0;34m\u001b[0m\u001b[0;34m\u001b[0m\u001b[0m\n\u001b[0;32m-> 2403\u001b[0;31m                 \u001b[0mresult\u001b[0m \u001b[0;34m=\u001b[0m \u001b[0mfn\u001b[0m\u001b[0;34m(\u001b[0m\u001b[0;34m*\u001b[0m\u001b[0margs\u001b[0m\u001b[0;34m,\u001b[0m \u001b[0;34m**\u001b[0m\u001b[0mkwargs\u001b[0m\u001b[0;34m)\u001b[0m\u001b[0;34m\u001b[0m\u001b[0;34m\u001b[0m\u001b[0m\n\u001b[0m\u001b[1;32m   2404\u001b[0m             \u001b[0;32mreturn\u001b[0m \u001b[0mresult\u001b[0m\u001b[0;34m\u001b[0m\u001b[0;34m\u001b[0m\u001b[0m\n\u001b[1;32m   2405\u001b[0m \u001b[0;34m\u001b[0m\u001b[0m\n",
      "\u001b[0;32m~/devel/work/kb21/jupyter/venv/lib/python3.7/site-packages/IPython/core/magics/script.py\u001b[0m in \u001b[0;36mnamed_script_magic\u001b[0;34m(line, cell)\u001b[0m\n\u001b[1;32m    140\u001b[0m             \u001b[0;32melse\u001b[0m\u001b[0;34m:\u001b[0m\u001b[0;34m\u001b[0m\u001b[0;34m\u001b[0m\u001b[0m\n\u001b[1;32m    141\u001b[0m                 \u001b[0mline\u001b[0m \u001b[0;34m=\u001b[0m \u001b[0mscript\u001b[0m\u001b[0;34m\u001b[0m\u001b[0;34m\u001b[0m\u001b[0m\n\u001b[0;32m--> 142\u001b[0;31m             \u001b[0;32mreturn\u001b[0m \u001b[0mself\u001b[0m\u001b[0;34m.\u001b[0m\u001b[0mshebang\u001b[0m\u001b[0;34m(\u001b[0m\u001b[0mline\u001b[0m\u001b[0;34m,\u001b[0m \u001b[0mcell\u001b[0m\u001b[0;34m)\u001b[0m\u001b[0;34m\u001b[0m\u001b[0;34m\u001b[0m\u001b[0m\n\u001b[0m\u001b[1;32m    143\u001b[0m \u001b[0;34m\u001b[0m\u001b[0m\n\u001b[1;32m    144\u001b[0m         \u001b[0;31m# write a basic docstring:\u001b[0m\u001b[0;34m\u001b[0m\u001b[0;34m\u001b[0m\u001b[0;34m\u001b[0m\u001b[0m\n",
      "\u001b[0;32m~/devel/work/kb21/jupyter/venv/lib/python3.7/site-packages/decorator.py\u001b[0m in \u001b[0;36mfun\u001b[0;34m(*args, **kw)\u001b[0m\n\u001b[1;32m    230\u001b[0m             \u001b[0;32mif\u001b[0m \u001b[0;32mnot\u001b[0m \u001b[0mkwsyntax\u001b[0m\u001b[0;34m:\u001b[0m\u001b[0;34m\u001b[0m\u001b[0;34m\u001b[0m\u001b[0m\n\u001b[1;32m    231\u001b[0m                 \u001b[0margs\u001b[0m\u001b[0;34m,\u001b[0m \u001b[0mkw\u001b[0m \u001b[0;34m=\u001b[0m \u001b[0mfix\u001b[0m\u001b[0;34m(\u001b[0m\u001b[0margs\u001b[0m\u001b[0;34m,\u001b[0m \u001b[0mkw\u001b[0m\u001b[0;34m,\u001b[0m \u001b[0msig\u001b[0m\u001b[0;34m)\u001b[0m\u001b[0;34m\u001b[0m\u001b[0;34m\u001b[0m\u001b[0m\n\u001b[0;32m--> 232\u001b[0;31m             \u001b[0;32mreturn\u001b[0m \u001b[0mcaller\u001b[0m\u001b[0;34m(\u001b[0m\u001b[0mfunc\u001b[0m\u001b[0;34m,\u001b[0m \u001b[0;34m*\u001b[0m\u001b[0;34m(\u001b[0m\u001b[0mextras\u001b[0m \u001b[0;34m+\u001b[0m \u001b[0margs\u001b[0m\u001b[0;34m)\u001b[0m\u001b[0;34m,\u001b[0m \u001b[0;34m**\u001b[0m\u001b[0mkw\u001b[0m\u001b[0;34m)\u001b[0m\u001b[0;34m\u001b[0m\u001b[0;34m\u001b[0m\u001b[0m\n\u001b[0m\u001b[1;32m    233\u001b[0m     \u001b[0mfun\u001b[0m\u001b[0;34m.\u001b[0m\u001b[0m__name__\u001b[0m \u001b[0;34m=\u001b[0m \u001b[0mfunc\u001b[0m\u001b[0;34m.\u001b[0m\u001b[0m__name__\u001b[0m\u001b[0;34m\u001b[0m\u001b[0;34m\u001b[0m\u001b[0m\n\u001b[1;32m    234\u001b[0m     \u001b[0mfun\u001b[0m\u001b[0;34m.\u001b[0m\u001b[0m__doc__\u001b[0m \u001b[0;34m=\u001b[0m \u001b[0mfunc\u001b[0m\u001b[0;34m.\u001b[0m\u001b[0m__doc__\u001b[0m\u001b[0;34m\u001b[0m\u001b[0;34m\u001b[0m\u001b[0m\n",
      "\u001b[0;32m~/devel/work/kb21/jupyter/venv/lib/python3.7/site-packages/IPython/core/magic.py\u001b[0m in \u001b[0;36m<lambda>\u001b[0;34m(f, *a, **k)\u001b[0m\n\u001b[1;32m    185\u001b[0m     \u001b[0;31m# but it's overkill for just that one bit of state.\u001b[0m\u001b[0;34m\u001b[0m\u001b[0;34m\u001b[0m\u001b[0;34m\u001b[0m\u001b[0m\n\u001b[1;32m    186\u001b[0m     \u001b[0;32mdef\u001b[0m \u001b[0mmagic_deco\u001b[0m\u001b[0;34m(\u001b[0m\u001b[0marg\u001b[0m\u001b[0;34m)\u001b[0m\u001b[0;34m:\u001b[0m\u001b[0;34m\u001b[0m\u001b[0;34m\u001b[0m\u001b[0m\n\u001b[0;32m--> 187\u001b[0;31m         \u001b[0mcall\u001b[0m \u001b[0;34m=\u001b[0m \u001b[0;32mlambda\u001b[0m \u001b[0mf\u001b[0m\u001b[0;34m,\u001b[0m \u001b[0;34m*\u001b[0m\u001b[0ma\u001b[0m\u001b[0;34m,\u001b[0m \u001b[0;34m**\u001b[0m\u001b[0mk\u001b[0m\u001b[0;34m:\u001b[0m \u001b[0mf\u001b[0m\u001b[0;34m(\u001b[0m\u001b[0;34m*\u001b[0m\u001b[0ma\u001b[0m\u001b[0;34m,\u001b[0m \u001b[0;34m**\u001b[0m\u001b[0mk\u001b[0m\u001b[0;34m)\u001b[0m\u001b[0;34m\u001b[0m\u001b[0;34m\u001b[0m\u001b[0m\n\u001b[0m\u001b[1;32m    188\u001b[0m \u001b[0;34m\u001b[0m\u001b[0m\n\u001b[1;32m    189\u001b[0m         \u001b[0;32mif\u001b[0m \u001b[0mcallable\u001b[0m\u001b[0;34m(\u001b[0m\u001b[0marg\u001b[0m\u001b[0;34m)\u001b[0m\u001b[0;34m:\u001b[0m\u001b[0;34m\u001b[0m\u001b[0;34m\u001b[0m\u001b[0m\n",
      "\u001b[0;32m~/devel/work/kb21/jupyter/venv/lib/python3.7/site-packages/IPython/core/magics/script.py\u001b[0m in \u001b[0;36mshebang\u001b[0;34m(self, line, cell)\u001b[0m\n\u001b[1;32m    243\u001b[0m             \u001b[0msys\u001b[0m\u001b[0;34m.\u001b[0m\u001b[0mstderr\u001b[0m\u001b[0;34m.\u001b[0m\u001b[0mflush\u001b[0m\u001b[0;34m(\u001b[0m\u001b[0;34m)\u001b[0m\u001b[0;34m\u001b[0m\u001b[0;34m\u001b[0m\u001b[0m\n\u001b[1;32m    244\u001b[0m         \u001b[0;32mif\u001b[0m \u001b[0margs\u001b[0m\u001b[0;34m.\u001b[0m\u001b[0mraise_error\u001b[0m \u001b[0;32mand\u001b[0m \u001b[0mp\u001b[0m\u001b[0;34m.\u001b[0m\u001b[0mreturncode\u001b[0m\u001b[0;34m!=\u001b[0m\u001b[0;36m0\u001b[0m\u001b[0;34m:\u001b[0m\u001b[0;34m\u001b[0m\u001b[0;34m\u001b[0m\u001b[0m\n\u001b[0;32m--> 245\u001b[0;31m             \u001b[0;32mraise\u001b[0m \u001b[0mCalledProcessError\u001b[0m\u001b[0;34m(\u001b[0m\u001b[0mp\u001b[0m\u001b[0;34m.\u001b[0m\u001b[0mreturncode\u001b[0m\u001b[0;34m,\u001b[0m \u001b[0mcell\u001b[0m\u001b[0;34m,\u001b[0m \u001b[0moutput\u001b[0m\u001b[0;34m=\u001b[0m\u001b[0mout\u001b[0m\u001b[0;34m,\u001b[0m \u001b[0mstderr\u001b[0m\u001b[0;34m=\u001b[0m\u001b[0merr\u001b[0m\u001b[0;34m)\u001b[0m\u001b[0;34m\u001b[0m\u001b[0;34m\u001b[0m\u001b[0m\n\u001b[0m\u001b[1;32m    246\u001b[0m \u001b[0;34m\u001b[0m\u001b[0m\n\u001b[1;32m    247\u001b[0m     \u001b[0;32mdef\u001b[0m \u001b[0m_run_script\u001b[0m\u001b[0;34m(\u001b[0m\u001b[0mself\u001b[0m\u001b[0;34m,\u001b[0m \u001b[0mp\u001b[0m\u001b[0;34m,\u001b[0m \u001b[0mcell\u001b[0m\u001b[0;34m,\u001b[0m \u001b[0mto_close\u001b[0m\u001b[0;34m)\u001b[0m\u001b[0;34m:\u001b[0m\u001b[0;34m\u001b[0m\u001b[0;34m\u001b[0m\u001b[0m\n",
      "\u001b[0;31mCalledProcessError\u001b[0m: Command 'b\"time python3 dtacrawl_async.py --max 2 --dir out 'Axolotl'\\n\"' returned non-zero exit status 1."
     ]
    }
   ],
   "source": [
    "%%bash\n",
    "time python3 dtacrawl_async.py --max 2 --dir out 'Axolotl'"
   ]
  }
 ],
 "metadata": {
  "interpreter": {
   "hash": "656953c21547a91cfb2057a5cd28b058012b7084abb49e89974147a4ece772c4"
  },
  "kernelspec": {
   "display_name": "Python 3",
   "language": "python",
   "name": "python3"
  },
  "language_info": {
   "codemirror_mode": {
    "name": "ipython",
    "version": 3
   },
   "file_extension": ".py",
   "mimetype": "text/x-python",
   "name": "python",
   "nbconvert_exporter": "python",
   "pygments_lexer": "ipython3",
   "version": "3.7.3"
  }
 },
 "nbformat": 4,
 "nbformat_minor": 5
}
