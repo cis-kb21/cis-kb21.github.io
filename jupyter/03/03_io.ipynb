{
 "cells": [
  {
   "cell_type": "markdown",
   "id": "4dea9c97",
   "metadata": {},
   "source": [
    "# Eingabe und Ausgabe\n",
    "\n",
    "## Eingabe- und Ausgabestr&ouml;me\n",
    "* von der Shell aus gestartet Programme starten mit 3 offenen Dateihandeln:\n",
    "  * `stdin (0)` Standardeingabe zum Lesen\n",
    "  * `stdout (1)` Standardausgabe zum Schreiben\n",
    "  * `stderr (2)` Standardfehlerausgabe zum Schreiben\n",
    "* in der Shell sind alle drei Datenstr&ouml;me mit dem Terminal verbunden\n",
    "* Umleitungsoperatoren zum &Auml;ndern der Datenstr&ouml;me\n",
    "* ohne Optionen lesen viele Unix-Werkzeuge von der Standardeingabe und schreiben auf die  Standardausgabe\n",
    "\n",
    "| Ausdruck | Beschreibung\n",
    "|:---|:---|\n",
    "| `p > file` | Leitet `stdout` von `p` nach `file` um |\n",
    "| `p >> file` | Leitet `stdout` von `p` nach `file` um (h&auml;ngt an) |\n",
    "| `p 2> file` | Leitet `stderr` von `p` nach `file` um |\n",
    "| `p 2>> file` | Leitet `stderr` von `p` nach `file` um (h&auml;ngt an) |\n",
    "| `p < file` | Leitet `stdin` von `p` nach `file` um |\n",
    "| `p \\| q` | Leitet `stdout` von `p` nach `stdin` von `q` um |\n",
    "| `p > file 2>&1` | Leitet `stdout` von `p` nach `file` und `stderr` nach `stdout` (`file`) um |\n",
    "| `p 2>&1 > file` | Leitet `stderr` von `p` nach `stdout` von `p` um und `stdout` nach `file` |\n",
    "| `p \\|& q` | Leitet `stdout` und `stderr` von `p` nach `stdin` von `q` um* |\n",
    "| `p &> file` | Leitet `stdout` und `stderr` von `p` nach `file` um* |\n",
    "\n",
    "\\* markiert inkompatible Erweiterungen\n"
   ]
  },
  {
   "cell_type": "markdown",
   "id": "e29f6d17",
   "metadata": {},
   "source": [
    "## Werkzeuge zur Textverarbeitung\n",
    "### cat \n",
    "| Name | cat - Konkateniert Dateien und schreibt sie nach `stdout` |\n",
    "|:---|:---|\n",
    "|&#0220;berblick| cat \\[OPTION\\]... \\[FILE\\]... |\n",
    "| Beschreibung | Konkateniert FILE und schreibt diese nach `stdout`. |\n",
    "| | Ohne FILE oder falls FILE `-` ist, wird `stdin` gelesen. | \n",
    "| Wichtige Optionen: | |\n",
    "| -n, --number | Nummeriert alle Ausgabezeilen |\n",
    "| -v, --shown-nonprinting | Markiert nicht ausdruckbare Zeichen in der `^` bzw. `M-` Notation | "
   ]
  },
  {
   "cell_type": "code",
   "execution_count": null,
   "id": "e28d0d00-9b24-4d66-8d79-f002121f74bc",
   "metadata": {},
   "outputs": [],
   "source": [
    "%%bash\n",
    "echo -e \"Hallo Welt!\\a\" > hallo.txt\n",
    "cat -nv < hallo.txt"
   ]
  },
  {
   "cell_type": "markdown",
   "id": "d39cab88-ffc9-4082-ad4e-67263b32dc4f",
   "metadata": {},
   "source": [
    "### wc  \n",
    "| Name | wc - Gibt Anzahl von Zeilenumbr&uuml;chen, W&ouml;rtern und Bytes aus |\n",
    "|:---|:---|\n",
    "|&#0220;berblick| wc \\[OPTION\\]... \\[FILE\\]... |\n",
    "| Beschreibung | Gibt Anzahl von Zeilenumbr&uuml;chen, W&ouml;rtern und Bytes aus. |\n",
    "| | Ein Wort ist dabei eine nicht-leere Folge von Zeichen, |\n",
    "| | die von Leerzeichen umgeben sind. |\n",
    "| Wichtige Optionen: | |\n",
    "| -c, --bytes | Gibt die Byte-Anzahl aus |\n",
    "| -m, --chars | Gibt die Zeichenanzahl aus | \n",
    "| -l, --lines | Gibt die Zeilenanzahl aus |\n",
    "| -w, --words | Gibt die Wortanzahl aus |"
   ]
  },
  {
   "cell_type": "code",
   "execution_count": null,
   "id": "dd455da0-a8dc-41a4-8116-8e8994e688cd",
   "metadata": {
    "tags": []
   },
   "outputs": [],
   "source": [
    "%%bash\n",
    "echo -e \"Erste Zeile.\\nFünf.\" | wc --lines"
   ]
  },
  {
   "cell_type": "code",
   "execution_count": null,
   "id": "7568e9e7-0d90-40b8-a437-4e1e4418977e",
   "metadata": {
    "tags": []
   },
   "outputs": [],
   "source": [
    "%%bash\n",
    "wc -w wahlverwandschaften.txt"
   ]
  },
  {
   "cell_type": "code",
   "execution_count": null,
   "id": "03d27448-f5a8-4aa7-b433-e90124f59db5",
   "metadata": {
    "tags": []
   },
   "outputs": [],
   "source": [
    "%%bash\n",
    "ls | wc -l"
   ]
  },
  {
   "cell_type": "markdown",
   "id": "26cc9f5b",
   "metadata": {},
   "source": [
    "### head\n",
    "| Name | head - Ausgabe der ersten 10 Zeilen einer Datei |\n",
    "|:---|:---|\n",
    "|Überblick| head \\[OPTION\\]... \\[FILE\\]... |\n",
    "| Beschreibung | Schreibt die ersten 10 Zeilen jeder Datei in FILE nach `stdout`. |\n",
    "| Wichtige Optionen: | |\n",
    "| -c, --bytes=\\[-\\]NUM | Gibt die ersten NUM Bytes aus; |\n",
    "| | mit '-' wird alles außer den letzten NUM Bytes ausgegeben |\n",
    "| -n, --lines=\\[-\\]NUM | Gibt die ersten NUM Zeilen aus; |\n",
    "| | mit '-' werden alle Zeilen außer den letzten NUM Zeilen ausgegeben |\n"
   ]
  },
  {
   "cell_type": "code",
   "execution_count": null,
   "id": "a221087a-fad3-4b25-a070-81250572b8a0",
   "metadata": {},
   "outputs": [],
   "source": [
    "%%bash\n",
    "head -n 8 wahlverwandschaften.txt | cat -n"
   ]
  },
  {
   "cell_type": "markdown",
   "id": "41999be5-a81e-4fe3-becd-10b7f9523d77",
   "metadata": {},
   "source": [
    "### tail\n",
    "| Name | tail - Ausgabe der letzten 10 Zeilen einer Datei |\n",
    "|:---|:---|\n",
    "|Überblick| tail \\[OPTION\\]... \\[FILE\\]... |\n",
    "| Beschreibung | Schreibt die letzten 10 Zeilen jeder Datei in FILE nach `stdout`. |\n",
    "| Wichtige Optionen: | |\n",
    "| -c, --bytes=\\[+\\]NUM | Gibt die letzten NUM Bytes aus; |b\n",
    "| | mit '+' wird alles ab Byte NUM ausgegeben |\n",
    "| -n, --lines=\\[+\\]NUM | Gibt die letzten NUM Zeilen aus; |\n",
    "| | mit '+' werden alle Zeilen ab Zeile NUM ausgegeben |\n",
    "\n"
   ]
  },
  {
   "cell_type": "code",
   "execution_count": null,
   "id": "04032099-b363-43fe-b81b-48e03c9e7a9d",
   "metadata": {},
   "outputs": [],
   "source": [
    "%%bash\n",
    "tail -n 8 wahlverwandschaften.txt"
   ]
  },
  {
   "cell_type": "markdown",
   "id": "822bbbe2-6a5e-4148-a310-5513ccfd72f5",
   "metadata": {},
   "source": [
    "### grep\n",
    "| Name | grep - Ausgabe von Zeilen, die bestimmte Muster enthalten |\n",
    "|:---|:---|\n",
    "|Überblick| grep \\[OPTION\\]... PATTERNS \\[FILE\\]... |\n",
    "|         | grep \\[OPTION\\]... -e PATTERNS \\[FILE\\]... |\n",
    "|         | grep \\[OPTION\\]... -f PATTERNS_FILE ... \\[FILE\\]... |\n",
    "| Beschreibung | Sucht nach PATTERNS in den Dateien in FILE und schreibt die\n",
    "|              | passenden Zeilen nach `stdout`. Falls keine Dateien angegeben\n",
    "|              | sind, werden die Zeilen von `stdin` gelesen. |\n",
    "| Wichtige Optionen: | |\n",
    "| -E, --extended-regexp | Interpretiert PATTERNS als erweiterte reguläre Ausdrücke (EREs) |\n",
    "| -i, --ignore-case | Ignoriert Groß- und Kleinschreibung |\n",
    "| -v, --invert-match | Es werden Zeilen ausgegeben, die *nicht* auf das Muster passen |\n",
    "| -w, --word-regexp | Muster werden nur auf Wortebene angewendet |\n",
    "| -A, --after-context=NUM | Ausgabe von NUM Zeilen nach einem Treffer |\n",
    "| -B, --before-context=NUM | Ausgabe von NUM Zeilen vor einem Treffer |\n",
    "| -C, --context=NUM | Ausgabe von NUM Zeilen vor und nach einem Treffer |\n",
    "\n",
    "\n"
   ]
  },
  {
   "cell_type": "code",
   "execution_count": null,
   "id": "06f4c95a-1cb8-4bfd-8f53-a92033d17a71",
   "metadata": {},
   "outputs": [],
   "source": [
    "%%bash\n",
    "grep -w -C 2 versprach wahlverwandschaften.txt"
   ]
  },
  {
   "cell_type": "markdown",
   "id": "4adea7fb-f490-49ee-a5e5-8f2f4241f77d",
   "metadata": {},
   "source": [
    "### tr\n",
    "| Name | tr - Ersetzt oder löscht Zeichen |\n",
    "|:---|:---|\n",
    "|Überblick| wc \\[OPTION\\]... SET1 \\[SET2\\] |\n",
    "| Beschreibung | Ersetzt, komprimiert und/oder löscht Zeichen von\n",
    "| | `stdin` und schreibt nach `stdout`. |\n",
    "| | Die Mengen SET1 und SET2 sind dabei Zeichen-Strings. |\n",
    "| Wichtige Optionen: | |\n",
    "| -c, -C, --complement | Verwendet die Komplementäre Menge zu SET1 |\n",
    "| -d, --delete | Löscht Zeichen in SET1 |\n",
    "| -s, --squeeze-repeats | Ersetzt jede Sequenz von wiederholten Zeichen durch einem einzelnen Zeichen |\n",
    "| Besondere Zeichen: | |\n",
    "| \\\\\\\\ | Backslash |\n",
    "| \\\\n | Zeilenumbruch |\n",
    "| CHAR1-CHAR2 | Alle Zeichen von CHAR1 zu CHAR2 in aufsteigender Folge |\n",
    "| \\[:alnum:\\] | Buchstaben und Zahlen |\n",
    "| \\[:alpha:\\] | Alle Buchstaben |\n",
    "| \\[:digit:\\] | Alle Zahlen |\n",
    "| \\[:space:\\] | Leerzeichen |\n",
    "| \\[:lower:\\] | Kleinbuchstaben |\n",
    "| \\[:upper:\\] | Großbuchstaben |\n",
    "| \\[:punct:\\] | Punktuationszeichen |\n"
   ]
  },
  {
   "cell_type": "code",
   "execution_count": null,
   "id": "13d09626-97b2-4273-92c5-09963261ac7c",
   "metadata": {
    "tags": []
   },
   "outputs": [],
   "source": [
    "%%bash\n",
    "echo '123Max456' | tr -d [:digit:]"
   ]
  },
  {
   "cell_type": "code",
   "execution_count": null,
   "id": "54dfb0d0-1c2f-4943-86a0-075596548dc7",
   "metadata": {
    "tags": []
   },
   "outputs": [],
   "source": [
    "%%bash\n",
    "echo '123Max456' | tr -d [:digit:] | tr [:lower:] [:upper:]"
   ]
  },
  {
   "cell_type": "code",
   "execution_count": null,
   "id": "5e6b94f9-651d-4d42-b336-cb400bd477df",
   "metadata": {
    "tags": []
   },
   "outputs": [],
   "source": [
    "%%bash\n",
    "cat wahlverwandschaften.txt | tr -s ' ' '\\n' | tail"
   ]
  },
  {
   "cell_type": "markdown",
   "id": "054aa74f-06b5-4720-bce0-34c699e5da86",
   "metadata": {},
   "source": [
    "### sort\n",
    "| Name | sort - Sortiert Zeilen |\n",
    "|:---|:---|\n",
    "|Überblick| sort \\[OPTION\\]... \\[FILE\\]... |\n",
    "| Beschreibung | Sortiert alle Zeilen in allen Dateien in FILE und |\n",
    "|              | und schreibt sie nach `stdout`. Ließt von `stdin`, falls |\n",
    "|              | keine Dateien angegeben werden. |\n",
    "| Wichtige Optionen: | |\n",
    "| -b, --ignore-leading-blanks | Ignoriert führende Leerzeichen |\n",
    "| -f (sic), --ignore-case | Ignoriert Groß- und Kleinschreibung |\n",
    "| -n, --numeric-sort | Sortiert numerisch |\n",
    "| -R, --random-sort | Mischt die Zeilen zufällig |\n",
    "| -r, --reverse | Dreht die Sortierreihenfolge um |\n",
    "\n"
   ]
  },
  {
   "cell_type": "code",
   "execution_count": null,
   "id": "bfd5feaf-b352-4503-8c6b-7e781299f241",
   "metadata": {
    "tags": []
   },
   "outputs": [],
   "source": [
    "%%bash\n",
    "cat wahlverwandschaften.txt | tr -s ' ' '\\n' | sort | tail"
   ]
  },
  {
   "cell_type": "markdown",
   "id": "f1ab9490-b482-40d3-8561-339bf790e365",
   "metadata": {},
   "source": [
    "### uniq\n",
    "| Name | uniq - Filtert oder meldet wiederholte Zeilen |\n",
    "|:---|:---|\n",
    "|Überblick| uniq \\[OPTION\\]... \\[INPUT \\[OUTPUT\\]\\] |\n",
    "| Beschreibung | Filtert wiederholte benachbarte Zeilen von INPUT (oder `stdin`) |\n",
    "|              | und schreibt diese nach OUTPUT (oder `stdout`). |\n",
    "| Wichtige Optionen: | |\n",
    "| -c, --count | Stellt den Zeilen die Anzahl ihrere Vorkommen voran |\n",
    "| -i, --ignore-case | Ignoriert Groß- und Kleinschreibung |\n",
    "| -u, --unique | Gibt nur einzigartige Zeilen aus |\n"
   ]
  },
  {
   "cell_type": "code",
   "execution_count": null,
   "id": "f89031c9-9165-417d-952e-b55e9786b3e2",
   "metadata": {
    "tags": []
   },
   "outputs": [],
   "source": [
    "%%bash\n",
    "cat wahlverwandschaften.txt | tr -s ' ' '\\n' | sort | uniq -c | tail"
   ]
  },
  {
   "cell_type": "code",
   "execution_count": null,
   "id": "9a8d73cd-4838-4bdb-b5d7-7d7e9c8d40d9",
   "metadata": {
    "tags": []
   },
   "outputs": [],
   "source": [
    "!pip install --upgrade pip \n",
    "!pip install matplotlib"
   ]
  },
  {
   "cell_type": "code",
   "execution_count": null,
   "id": "dc1b81e5-5fdd-4f3f-9acf-6b3246420a36",
   "metadata": {
    "tags": []
   },
   "outputs": [],
   "source": [
    "%%bash\n",
    "cat wahlverwandschaften.txt | tr -s ' ' '\\n' | sort | uniq -c | tail"
   ]
  },
  {
   "cell_type": "markdown",
   "id": "2c54191b",
   "metadata": {},
   "source": [
    "## &Uuml;bungsaufgaben\n",
    "### 1. Aufgabe `kbytes`\n",
    "Schreiben Sie ein Skript `kbytes.bash`, das f&uuml;r jede &uuml;bergebene Datei die Gr&ouml;&szlig;e der Datei in Kilobytes (=Bytes/1000) ausgibt.  Besipiel:\n",
    "```bash\n",
    "$./kbytes.bash *.txt\n",
    "a.txt: 3K\n",
    "b.txt: 0K\n",
    "c.txt: 10K\n",
    "$\n",
    "```\n",
    "\n",
    "### 2. Aufgabe `man_words`\n",
    "Schreiben Sie ein Skript `man_words.bash`, das  das f&uuml;r jede &uuml;bergebenen Namen die Anzahl der W&ouml;rter in der entsprechenden Manpage vorkommt.\n",
    "Falls f&uuml;r einen Namen kein Manpage-Eintrag existiert, soll `??` ausgegeben werden.  Beispiel:\n",
    "```bash\n",
    "$ ./man_words.bash ls xx\n",
    "ls: 945\n",
    "xx: ??\n",
    "$\n",
    "```\n",
    "\n",
    "### 3. Aufgabe `add_header`\n",
    "Schreiben Sie ein Skript `add_header.bash`, das seine Standardeingabe liest, dieser einen Header voranstellt und schlie&szlig;lich \n",
    "Die vorangestellten Header-Zeilen sollen dabei die einzelnen Kommandozeilenargumente sein.  Beispiel:\n",
    "```bash\n",
    "$ echo \"Hello, world!\" | ./add_header '# my' '# header'\n",
    "# my\n",
    "# header\n",
    "Hello, world!\n",
    "$\n",
    "```\n",
    "\n",
    "### 4. Aufgabe `xy.py`\n",
    "\n",
    "Schreiben Sie ein Python-Skript, das zeilenweise Paare von x- und\n",
    "y-Koordinaten von `stdin` einließt und diese Koordinaten dann als\n",
    "Funktion plottet.  Wie können Sie dieses Skript auf der Kommandozeile\n",
    "verwenden, um z.B. die natürliche Logarithmusfunktion zu plotten\n",
    "(Hinweis: `man bc`)?\n",
    "\n",
    "### 5. Aufgabe `bigrams.bash`\n",
    "\n",
    "Schreiben Sie ein Bash-Skript, das für eine Textdatei\n",
    "(z.B. `wahlverwandschaften.txt`) die Bigramme im Text berechnet und\n",
    "diese dann mitsamt ihren Frequenzen zeilenweise nach `stdout` schreibt\n",
    "(Hinweise: `man paste`, Sie können auch temporäre Dateien verwenden,\n",
    "schauen sie sich die verschiedenen Optionen von `tail` genauer an). \n",
    "Beispiel:\n",
    "\n",
    "```bash\n",
    "$ ./bigrams.bash wahlverwandschaften.txt\n",
    "17 der Hauptmann\n",
    "16 in der\n",
    "13 sagte Eduard\n",
    "...\n",
    "$\n",
    "```\n",
    "Wie können nun die Verteilung der Bigramme mit `plot.py` plotten?\n"
   ]
  },
  {
   "cell_type": "code",
   "execution_count": null,
   "id": "d60bf964-1ee7-4070-9143-35d34220cb8e",
   "metadata": {},
   "outputs": [],
   "source": []
  }
 ],
 "metadata": {
  "kernelspec": {
   "display_name": "Python 3",
   "language": "python",
   "name": "python3"
  },
  "language_info": {
   "codemirror_mode": {
    "name": "ipython",
    "version": 3
   },
   "file_extension": ".py",
   "mimetype": "text/x-python",
   "name": "python",
   "nbconvert_exporter": "python",
   "pygments_lexer": "ipython3",
   "version": "3.7.3"
  },
  "metadata": {
   "interpreter": {
    "hash": "31f2aee4e71d21fbe5cf8b01ff0e069b9275f58929596ceb00d14d90e3e16cd6"
   }
  }
 },
 "nbformat": 4,
 "nbformat_minor": 5
}
