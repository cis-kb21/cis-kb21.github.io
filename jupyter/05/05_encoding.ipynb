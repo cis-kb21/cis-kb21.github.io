{
 "cells": [
  {
   "cell_type": "markdown",
   "id": "0e1279b1-03e2-4189-b0ff-acb0839b6122",
   "metadata": {},
   "source": [
    "# Unicode und Zeichenkodierungen\n",
    "\n",
    "* historisch bedingt verschiedene Zeichenkodierungen\n",
    "* verschiedene Zeichenkodierungen erschweren Datenaustausch / Korpusbearbeitung\n",
    "* Unicode bildet die meisten verwendeten Zeichenkodierungen ab\n",
    "* verschiedene CJK\n",
    "* heuzutage vor allem UTF-8\n",
    "\n",
    "![UTF-8 im www](Utf8webgrowth.svg.png)\n",
    "By Chris55 - Own work, CC BY-SA 4.0, https://commons.wikimedia.org/w/index.php?curid=51421096"
   ]
  },
  {
   "cell_type": "markdown",
   "id": "4570db7f-2c4a-445b-a6b7-4c7a2b32bf8f",
   "metadata": {},
   "source": [
    "## locale\n",
    "| Name | locale - Gibt Informationen über die Spracheinstellungen aus |\n",
    "|:---|:---|\n",
    "|Überblick| locale \\[OPTION\\]... |\n",
    "|         | locale \\[OPTION\\]... -a |\n",
    "|         | locale \\[OPTION\\]... -m |\n",
    "|         | locale \\[OPTION\\]... NAME... |\n",
    "| Beschreibung | Gib Informationen über die Spracheinstellungen aus. Ohne |\n",
    "|              | Argument werden die aktuellen Einstellunge ausgegeben. |\n",
    "|              | Mit -a werden alle vorhandenen Spracheinstellungen |\n",
    "|              | aufgelistet.  Mit -m werden die Zeichenmengen ausgegeben. |\n"
   ]
  },
  {
   "cell_type": "code",
   "execution_count": 51,
   "id": "1b1d7da7-e40e-45b7-804d-5bec17e4fa10",
   "metadata": {},
   "outputs": [
    {
     "name": "stdout",
     "output_type": "stream",
     "text": [
      "LANG=en_US.UTF-8\n",
      "LANGUAGE=\n",
      "LC_CTYPE=\"en_US.UTF-8\"\n",
      "LC_NUMERIC=\"en_US.UTF-8\"\n",
      "LC_TIME=\"en_US.UTF-8\"\n",
      "LC_COLLATE=\"en_US.UTF-8\"\n",
      "LC_MONETARY=\"en_US.UTF-8\"\n",
      "LC_MESSAGES=\"en_US.UTF-8\"\n",
      "LC_PAPER=\"en_US.UTF-8\"\n",
      "LC_NAME=\"en_US.UTF-8\"\n",
      "LC_ADDRESS=\"en_US.UTF-8\"\n",
      "LC_TELEPHONE=\"en_US.UTF-8\"\n",
      "LC_MEASUREMENT=\"en_US.UTF-8\"\n",
      "LC_IDENTIFICATION=\"en_US.UTF-8\"\n",
      "LC_ALL=\n"
     ]
    }
   ],
   "source": [
    "%%bash\n",
    "locale"
   ]
  },
  {
   "cell_type": "code",
   "execution_count": 56,
   "id": "5f72847c-c5df-4914-9c84-272c9de47911",
   "metadata": {},
   "outputs": [
    {
     "name": "stdout",
     "output_type": "stream",
     "text": [
      "C\n",
      "C.UTF-8\n",
      "de_DE.utf8\n",
      "en_US.utf8\n",
      "POSIX\n",
      "ru_RU.utf8\n"
     ]
    }
   ],
   "source": [
    "%%bash\n",
    "locale -a"
   ]
  },
  {
   "cell_type": "code",
   "execution_count": 57,
   "id": "8029b82a-d50c-45d8-9190-3c34a2d14d10",
   "metadata": {},
   "outputs": [
    {
     "name": "stderr",
     "output_type": "stream",
     "text": [
      "cat: nonexistent: Нет такого файла или каталога\n"
     ]
    }
   ],
   "source": [
    "%%bash\n",
    "LANG=ru_RU.UTF-8 cat nonexistent || true"
   ]
  },
  {
   "cell_type": "markdown",
   "id": "5f7946f8-3e28-401c-9056-5abecb67a57e",
   "metadata": {},
   "source": [
    "Erzeugen neuer Locales (erfordert root-Rechte):\n",
    "1. editieren der Datei `/etc/locale.gen`\n",
    "2. entsprechende Locale einkommentieren\n",
    "3. Datei speichern\n",
    "4. `locale-gen` aufrufen\n"
   ]
  },
  {
   "cell_type": "markdown",
   "id": "5cbeb5c6-4c3c-4799-8aec-99760a0edf20",
   "metadata": {},
   "source": [
    "## ASCII / US-ASCII\n",
    "\n",
    "* American Standard Code for Information Interchange\n",
    "* entwickelt für Fernschreiber\n",
    "* erster weit verbreiteter Standard\n",
    "* entwickelt in den 60ern\n",
    "* 7-Bit Codes"
   ]
  },
  {
   "cell_type": "code",
   "execution_count": 84,
   "id": "88874b5b-021e-4918-be86-b93d60601e0f",
   "metadata": {},
   "outputs": [
    {
     "name": "stdout",
     "output_type": "stream",
     "text": [
      "       Oct   Dec   Hex   Char                        Oct   Dec   Hex   Char\n",
      "       ────────────────────────────────────────────────────────────────────────\n",
      "       000   0     00    NUL '\\0' (null character)   100   64    40    @\n",
      "       001   1     01    SOH (start of heading)      101   65    41    A\n",
      "       002   2     02    STX (start of text)         102   66    42    B\n",
      "       003   3     03    ETX (end of text)           103   67    43    C\n",
      "       004   4     04    EOT (end of transmission)   104   68    44    D\n",
      "       005   5     05    ENQ (enquiry)               105   69    45    E\n",
      "       006   6     06    ACK (acknowledge)           106   70    46    F\n",
      "       007   7     07    BEL '\\a' (bell)             107   71    47    G\n",
      "       010   8     08    BS  '\\b' (backspace)        110   72    48    H\n",
      "       011   9     09    HT  '\\t' (horizontal tab)   111   73    49    I\n",
      "       012   10    0A    LF  '\\n' (new line)         112   74    4A    J\n",
      "       013   11    0B    VT  '\\v' (vertical tab)     113   75    4B    K\n",
      "       014   12    0C    FF  '\\f' (form feed)        114   76    4C    L\n",
      "       015   13    0D    CR  '\\r' (carriage ret)     115   77    4D    M\n",
      "       016   14    0E    SO  (shift out)             116   78    4E    N\n",
      "       017   15    0F    SI  (shift in)              117   79    4F    O\n",
      "       020   16    10    DLE (data link escape)      120   80    50    P\n",
      "       021   17    11    DC1 (device control 1)      121   81    51    Q\n",
      "       022   18    12    DC2 (device control 2)      122   82    52    R\n",
      "       023   19    13    DC3 (device control 3)      123   83    53    S\n",
      "       024   20    14    DC4 (device control 4)      124   84    54    T\n",
      "       025   21    15    NAK (negative ack.)         125   85    55    U\n",
      "       026   22    16    SYN (synchronous idle)      126   86    56    V\n",
      "       027   23    17    ETB (end of trans. blk)     127   87    57    W\n",
      "       030   24    18    CAN (cancel)                130   88    58    X\n",
      "       031   25    19    EM  (end of medium)         131   89    59    Y\n",
      "       032   26    1A    SUB (substitute)            132   90    5A    Z\n",
      "       033   27    1B    ESC (escape)                133   91    5B    [\n",
      "       034   28    1C    FS  (file separator)        134   92    5C    \\  '\\\\'\n",
      "       035   29    1D    GS  (group separator)       135   93    5D    ]\n",
      "       036   30    1E    RS  (record separator)      136   94    5E    ^\n",
      "       037   31    1F    US  (unit separator)        137   95    5F    _\n",
      "       040   32    20    SPACE                       140   96    60    `\n",
      "       041   33    21    !                           141   97    61    a\n",
      "       042   34    22    \"                           142   98    62    b\n",
      "       043   35    23    #                           143   99    63    c\n",
      "       044   36    24    $                           144   100   64    d\n",
      "       045   37    25    %                           145   101   65    e\n",
      "       046   38    26    &                           146   102   66    f\n",
      "       047   39    27    '                           147   103   67    g\n",
      "       050   40    28    (                           150   104   68    h\n",
      "       051   41    29    )                           151   105   69    i\n",
      "       052   42    2A    *                           152   106   6A    j\n",
      "       053   43    2B    +                           153   107   6B    k\n",
      "       054   44    2C    ,                           154   108   6C    l\n",
      "       055   45    2D    -                           155   109   6D    m\n",
      "\n",
      "       056   46    2E    .                           156   110   6E    n\n",
      "       057   47    2F    /                           157   111   6F    o\n",
      "       060   48    30    0                           160   112   70    p\n",
      "       061   49    31    1                           161   113   71    q\n",
      "       062   50    32    2                           162   114   72    r\n",
      "       063   51    33    3                           163   115   73    s\n",
      "       064   52    34    4                           164   116   74    t\n",
      "       065   53    35    5                           165   117   75    u\n",
      "       066   54    36    6                           166   118   76    v\n",
      "       067   55    37    7                           167   119   77    w\n",
      "       070   56    38    8                           170   120   78    x\n",
      "       071   57    39    9                           171   121   79    y\n",
      "       072   58    3A    :                           172   122   7A    z\n",
      "       073   59    3B    ;                           173   123   7B    {\n",
      "       074   60    3C    <                           174   124   7C    |\n",
      "       075   61    3D    =                           175   125   7D    }\n",
      "       076   62    3E    >                           176   126   7E    ~\n",
      "       077   63    3F    ?                           177   127   7F    DEL\n"
     ]
    }
   ],
   "source": [
    "%%bash\n",
    "man ascii | sed -n '/^\\s*Oct/,/^\\s*077/p' #84,104p"
   ]
  },
  {
   "cell_type": "markdown",
   "id": "e29f6d17",
   "metadata": {},
   "source": [
    "## hexdump\n",
    "| Name | hexdump - ASCII, dezimale, hexadezimale und oktale Ausgabe von Dateiinhalten |\n",
    "|:---|:---|\n",
    "|Überblick| hexdump \\[OPTION\\]... \\[FILES\\]... |\n",
    "| Beschreibung | Gib den Dateiinhalt im spezifizierten Format nach `stdout` aus;\n",
    "|              | ließt von `stdin` falls keine Dateien angegeben wurden. |\n",
    "| Wichtige Optionen: | |\n",
    "| -C | kanonische Ausgabe von hexadezimal und ASCII |\n",
    "| -b | Ausgabe von 1-Byte Zeichen |\n",
    "| -d | dezimale Ausgabe |\n",
    "| -x | hexadezimale Ausgabe |\n",
    "| -o | oktale Ausgabe |\n",
    "| -s OFFSET | überspringt OFFSET Bytes |\n"
   ]
  },
  {
   "cell_type": "code",
   "execution_count": 1,
   "id": "e28d0d00-9b24-4d66-8d79-f002121f74bc",
   "metadata": {},
   "outputs": [
    {
     "name": "stdout",
     "output_type": "stream",
     "text": [
      "00000000  48 65 6c 6c 6f 2c 20 77  6f 72 6c 64 21 0a        |Hello, world!.|\n",
      "0000000e\n"
     ]
    }
   ],
   "source": [
    "%%bash\n",
    "echo \"Hello, world!\" | hexdump -C"
   ]
  },
  {
   "cell_type": "markdown",
   "id": "009e7ad8-1734-49b8-b336-d679ba200189",
   "metadata": {},
   "source": [
    "##  ISO/IEC 8859\n",
    "\n",
    "* 8-Bit Erweiterungen von ASCII\n",
    "* verschiedene Erweiterungen für unterschiedliche Sprachen:\n",
    "  * ISO/IEC 8859-1 / Latin-1 westeuropäische Sprachen\n",
    "  * ISO/IEC 8859-2 mitteleuropäische Sprachen\n",
    "  * ...\n",
    "  * ISO/IEC 8859-5 kyrilisches Alphabet\n",
    "  * ISO/IEC 8859-6 arabisches Alphabet\n",
    "  * ISO/IEC 8859-7 griechisches Alphabet\n",
    "  * ISO/IEC 8859-8 hebräisches Alphabet\n",
    "  * ...\n",
    "* zuletzt 1998 aktuallisiert\n",
    "* heuzutage kaum noch in Verwendung\n"
   ]
  },
  {
   "cell_type": "code",
   "execution_count": 96,
   "id": "60926402-a1a4-426c-97df-0fd36dcea2f3",
   "metadata": {},
   "outputs": [
    {
     "name": "stdout",
     "output_type": "stream",
     "text": [
      "       300   192   C0     À     LATIN CAPITAL LETTER A WITH GRAVE\n",
      "       301   193   C1     Á     LATIN CAPITAL LETTER A WITH ACUTE\n",
      "       302   194   C2     Â     LATIN CAPITAL LETTER A WITH CIRCUMFLEX\n",
      "       303   195   C3     Ã     LATIN CAPITAL LETTER A WITH TILDE\n",
      "       304   196   C4     Ä     LATIN CAPITAL LETTER A WITH DIAERESIS\n",
      "       305   197   C5     Å     LATIN CAPITAL LETTER A WITH RING ABOVE\n",
      "       306   198   C6     Æ     LATIN CAPITAL LETTER AE\n",
      "       307   199   C7     Ç     LATIN CAPITAL LETTER C WITH CEDILLA\n",
      "       310   200   C8     È     LATIN CAPITAL LETTER E WITH GRAVE\n",
      "       311   201   C9     É     LATIN CAPITAL LETTER E WITH ACUTE\n",
      "       312   202   CA     Ê     LATIN CAPITAL LETTER E WITH CIRCUMFLEX\n",
      "       313   203   CB     Ë     LATIN CAPITAL LETTER E WITH DIAERESIS\n",
      "       314   204   CC     Ì     LATIN CAPITAL LETTER I WITH GRAVE\n",
      "       315   205   CD     Í     LATIN CAPITAL LETTER I WITH ACUTE\n",
      "       316   206   CE     Î     LATIN CAPITAL LETTER I WITH CIRCUMFLEX\n",
      "       317   207   CF     Ï     LATIN CAPITAL LETTER I WITH DIAERESIS\n",
      "       320   208   D0     Ð     LATIN CAPITAL LETTER ETH\n",
      "       321   209   D1     Ñ     LATIN CAPITAL LETTER N WITH TILDE\n",
      "       322   210   D2     Ò     LATIN CAPITAL LETTER O WITH GRAVE\n",
      "       323   211   D3     Ó     LATIN CAPITAL LETTER O WITH ACUTE\n",
      "       324   212   D4     Ô     LATIN CAPITAL LETTER O WITH CIRCUMFLEX\n",
      "       325   213   D5     Õ     LATIN CAPITAL LETTER O WITH TILDE\n",
      "       326   214   D6     Ö     LATIN CAPITAL LETTER O WITH DIAERESIS\n",
      "       327   215   D7     ×     MULTIPLICATION SIGN\n",
      "       330   216   D8     Ø     LATIN CAPITAL LETTER O WITH STROKE\n",
      "       331   217   D9     Ù     LATIN CAPITAL LETTER U WITH GRAVE\n",
      "       332   218   DA     Ú     LATIN CAPITAL LETTER U WITH ACUTE\n",
      "       333   219   DB     Û     LATIN CAPITAL LETTER U WITH CIRCUMFLEX\n",
      "       334   220   DC     Ü     LATIN CAPITAL LETTER U WITH DIAERESIS\n",
      "       335   221   DD     Ý     LATIN CAPITAL LETTER Y WITH ACUTE\n",
      "       336   222   DE     Þ     LATIN CAPITAL LETTER THORN\n",
      "       337   223   DF     ß     LATIN SMALL LETTER SHARP S\n",
      "       340   224   E0     à     LATIN SMALL LETTER A WITH GRAVE\n",
      "       341   225   E1     á     LATIN SMALL LETTER A WITH ACUTE\n",
      "       342   226   E2     â     LATIN SMALL LETTER A WITH CIRCUMFLEX\n",
      "       343   227   E3     ã     LATIN SMALL LETTER A WITH TILDE\n",
      "       344   228   E4     ä     LATIN SMALL LETTER A WITH DIAERESIS\n",
      "       345   229   E5     å     LATIN SMALL LETTER A WITH RING ABOVE\n",
      "       346   230   E6     æ     LATIN SMALL LETTER AE\n",
      "       347   231   E7     ç     LATIN SMALL LETTER C WITH CEDILLA\n",
      "       350   232   E8     è     LATIN SMALL LETTER E WITH GRAVE\n",
      "       351   233   E9     é     LATIN SMALL LETTER E WITH ACUTE\n",
      "       352   234   EA     ê     LATIN SMALL LETTER E WITH CIRCUMFLEX\n",
      "       353   235   EB     ë     LATIN SMALL LETTER E WITH DIAERESIS\n",
      "       354   236   EC     ì     LATIN SMALL LETTER I WITH GRAVE\n",
      "       355   237   ED     í     LATIN SMALL LETTER I WITH ACUTE\n",
      "       356   238   EE     î     LATIN SMALL LETTER I WITH CIRCUMFLEX\n",
      "       357   239   EF     ï     LATIN SMALL LETTER I WITH DIAERESIS\n",
      "       360   240   F0     ð     LATIN SMALL LETTER ETH\n",
      "       361   241   F1     ñ     LATIN SMALL LETTER N WITH TILDE\n",
      "       362   242   F2     ò     LATIN SMALL LETTER O WITH GRAVE\n",
      "       363   243   F3     ó     LATIN SMALL LETTER O WITH ACUTE\n",
      "       364   244   F4     ô     LATIN SMALL LETTER O WITH CIRCUMFLEX\n",
      "       365   245   F5     õ     LATIN SMALL LETTER O WITH TILDE\n",
      "       366   246   F6     ö     LATIN SMALL LETTER O WITH DIAERESIS\n",
      "       367   247   F7     ÷     DIVISION SIGN\n",
      "       370   248   F8     ø     LATIN SMALL LETTER O WITH STROKE\n",
      "       371   249   F9     ù     LATIN SMALL LETTER U WITH GRAVE\n",
      "       372   250   FA     ú     LATIN SMALL LETTER U WITH ACUTE\n",
      "       373   251   FB     û     LATIN SMALL LETTER U WITH CIRCUMFLEX\n",
      "\n",
      "       374   252   FC     ü     LATIN SMALL LETTER U WITH DIAERESIS\n"
     ]
    }
   ],
   "source": [
    "%%bash\n",
    "man iso_8859-1 | sed -n '/^\\s*300/,/^\\s*374/p'"
   ]
  },
  {
   "cell_type": "markdown",
   "id": "d39cab88-ffc9-4082-ad4e-67263b32dc4f",
   "metadata": {},
   "source": [
    "## recode\n",
    "* muss meist installiert werden\n",
    "* Paket: `recode` (debian/ubuntu)\n",
    "\n",
    "| Name | recode - konvertiert Dateien von/nach verschiedene Zeichenkodierungen |\n",
    "|:---|:---|\n",
    "|Überblick| recode \\[OPTION\\]... \\[ \\[CHARSET\\] \\| REQUEST \\[FILE\\]... \\] |\n",
    "| Beschreibung | Konvertiert Dateien; falls keine Dateien angeben sind, wird von |\n",
    "|              | `stdin` gelesen und nach `stdout` geschrieben. |\n",
    "|              | REQUEST ist in der Form `c1..c2` und konvertiert von `c1` nach `c2`. |\n",
    "| Wichtige Optionen: | |\n",
    "| -l, --list | listet vorhandene Zeichenkodierungen auf |\n",
    "| -f, --force | ignoriert Kodierungsfehler |\n",
    "| -t, --touch | aktualisiert die Zugriffszeiten der Dateien |\n"
   ]
  },
  {
   "cell_type": "code",
   "execution_count": 4,
   "id": "dd455da0-a8dc-41a4-8116-8e8994e688cd",
   "metadata": {
    "tags": []
   },
   "outputs": [
    {
     "name": "stdout",
     "output_type": "stream",
     "text": [
      "IBM852/CR-LF 852/CR-LF CP852/CR-LF pcl2 pclatin2\n",
      "IBM1004/CR-LF 1004/CR-LF CP1004/CR-LF os2latin1\n",
      "ISO-8859-1 819/CR-LF CP819/CR-LF csISOLatin1 IBM819/CR-LF ISO8859-1 iso-ir-100 ISO_8859-1 ISO_8859-1:1987 l1 lat1 latin1 Latin-1\n",
      "ISO-8859-2 912/CR-LF CP912/CR-LF csISOLatin2 IBM912/CR-LF ISO8859-2 iso-ir-101 ISO_8859-2 ISO_8859-2:1987 l2 latin2\n",
      "ISO-8859-3 csISOLatin3 ISO8859-3 iso-ir-109 ISO_8859-3 ISO_8859-3:1988 l3 latin3\n",
      "ISO-8859-4 csISOLatin4 ISO8859-4 iso-ir-110 ISO_8859-4 ISO_8859-4:1988 l4 latin4\n",
      "ISO-8859-5 csISOLatinCyrillic cyrillic ISO8859-5 iso-ir-144 ISO_8859-5 ISO_8859-5:1988\n",
      "ISO-8859-6 arabic ASMO-708 csISOLatinArabic ECMA-114 ISO8859-6 iso-ir-127 ISO_8859-6 ISO_8859-6:1987\n",
      "ISO-8859-7 csISOLatinGreek ECMA-118 ELOT_928 greek greek8 ISO8859-7 iso-ir-126 ISO_8859-7 ISO_8859-7:1987\n",
      "ISO-8859-8 csISOLatinHebrew hebrew ISO8859-8 iso-ir-138 ISO_8859-8 ISO_8859-8:1988\n",
      "ISO-8859-9 csISOLatin5 ISO8859-9 iso-ir-148 ISO_8859-9 ISO_8859-9:1989 l5 latin5\n",
      "ISO-8859-10 csISOLatin6 ISO8859-10 iso-ir-157 ISO_8859-10 ISO_8859-10:1992 ISO_8859-10:1993 L6 latin6\n",
      "ISO-8859-13 ISO8859-13 iso-baltic ISO-IR-179 iso-ir-179a ISO_8859-13 ISO_8859-13:1998 l7 latin7\n",
      "ISO-8859-14 ISO8859-14 iso-celtic iso-ir-199 ISO_8859-14 ISO_8859-14:1998 l8 latin8\n",
      "ISO-8859-15 ISO8859-15 iso-ir-203 ISO_8859-15 ISO_8859-15:1998 l9 latin9\n",
      "ISO_8859-supp iso-ir-154 latin1-2-5\n",
      "latin-greek iso-ir-19\n",
      "Latin-greek-1 iso-ir-27\n",
      "sami iso-ir-158 lap latin-lap\n"
     ]
    }
   ],
   "source": [
    "%%bash\n",
    "recode -l | grep -i latin"
   ]
  },
  {
   "cell_type": "code",
   "execution_count": 3,
   "id": "698bae71-952c-457f-a2a0-401e8b830ee6",
   "metadata": {
    "tags": []
   },
   "outputs": [
    {
     "name": "stdout",
     "output_type": "stream",
     "text": [
      "00000000  48 61 6c 6c 6f 20 61 75  73 20 4d fc 6e 63 68 65  |Hallo aus M.nche|\n",
      "00000010  6e 21 0a                                          |n!.|\n",
      "00000013\n"
     ]
    }
   ],
   "source": [
    "%%bash\n",
    "echo \"Hallo aus München!\" | recode u8..l1 | hexdump -C"
   ]
  },
  {
   "cell_type": "code",
   "execution_count": 90,
   "id": "3b76dca1-922e-4c28-bd17-a72b46ca5dea",
   "metadata": {
    "tags": []
   },
   "outputs": [
    {
     "name": "stdout",
     "output_type": "stream",
     "text": [
      "00000000  bf d5 e2 ef 20 d8 20 d2  de db da 0a              |.... . .....|\n",
      "0000000c\n"
     ]
    }
   ],
   "source": [
    "%%bash\n",
    "echo \"Петя и волк\" | recode u8..cyrillic | hexdump -C"
   ]
  },
  {
   "cell_type": "markdown",
   "id": "5864e7f0-9fba-49ea-ad5f-0cffb8734814",
   "metadata": {},
   "source": [
    "## Unicode\n",
    "* Standard für die Darstellung von Text in den meisten Schreibsystemen\n",
    "* kompatibel mit ASCII und Latin-1\n",
    "* Unicode Zeichen werden oft mit Ihrem zugeordneten Code dargestellt:\n",
    "  * U+0024: \\$\n",
    "  * U+20AC: €\n",
    "  * U+D55C: 한\n",
    "  * U+24F5C: 𤽜\n",
    "  * ...\n",
    "* definiert verschiedene [Zeichenkategorien](https://www.fileformat.info/info/unicode/category/index.htm):\n",
    "  * `[Cc]` Kontrollzeichen\n",
    "  * `[Cf]` Formatierungszeichen\n",
    "  * ...\n",
    "  * `[Ll]` Kleinbuchstaben\n",
    "  * `[Lu]` Großbuchstaben\n",
    "  * ...\n",
    "  * `[Pd]` Punktuationszeichen\n",
    "  * ...\n",
    "* umfasst auch Emojis usw.\n",
    "* verschiedene Kodierungsschemata:\n",
    "  * UTF-8\n",
    "  * UTF-16\n",
    "  * UTF-32 LE/BE\n",
    "  * UCS-2 (veraltet)\n",
    "  * ...\n"
   ]
  },
  {
   "cell_type": "markdown",
   "id": "b57483cf-0dfb-42c2-95e9-77b85e29a0ca",
   "metadata": {},
   "source": [
    "### UTF-16 / UTF-32\n",
    "* 2- bzw. 4-Byte Kodierung\n",
    "* vor allem zur internen Kodierung von Strings in Programmiersprachen\n",
    "* UTF-16 muss Zeichen > U+FFFF &uuml;ber sog. Surrogaten-Paare kodieren"
   ]
  },
  {
   "cell_type": "markdown",
   "id": "7ac26b16-befc-46f3-8207-cdd081c6b999",
   "metadata": {},
   "source": [
    "### UTF-8\n",
    "* weit verbreitetets Kodierungsschema\n",
    "* voll rückwärtskompatible mit ASCII\n",
    "* [entwickelt](https://www.cl.cam.ac.uk/~mgk25/ucs/utf-8-history.txt) von  Ken Thompson and Rob Pike\n",
    "* variable Multibyte Kodierung 1 Bytes (ASCII) - 6 Bytes (theoretisch):\n",
    "  * 0xxx xxxx: ASCII\n",
    "  * 110x xxxx 10xx xxxx: U+0080 - U+07FF\n",
    "  * 1110 xxxx 10xx xxxx 10xx xxxx: U+0800 - U+FFFF\n",
    "  * 1111 0xxx 10xx xxxx 10xx xxxx 10xx xxxx: U+1000 - U+10FFFF\n"
   ]
  },
  {
   "cell_type": "markdown",
   "id": "3eacfbfe-76a9-448e-a70c-dffefe009fb0",
   "metadata": {},
   "source": [
    "## uconv\n",
    "\n",
    "* muss meist installiert werden\n",
    "* Paket: `icu-devtools` (debian/ubuntu)\n",
    "\n",
    "| Name | uconv - konvertiert Dateien von/nach verschiedene Zeichenkodierungen |\n",
    "|:---|:---|\n",
    "| Überblick| uconv \\[OPTION\\]... \\[FILE\\]... |\n",
    "| Beschreibung | Konvertiert Dateien; falls keine Dateien angeben sind, |\n",
    "|              | wird von `stdin` gelesen und nach `stdout` geschrieben. |\n",
    "| Wichtige Optionen: | |\n",
    "| -l, --list | listet vorhandene Zeichenkodierungen auf |\n",
    "| -f, --from-code ENCODING | Setzt die Eingabekodierung auf ENCODING |\n",
    "| -t, --to-code ENCODING | Setzt die Ausgabekodierung auf ENCODING |\n",
    "| -i | ignoriert Kodierungsfehler |\n",
    "| -x TRANSLIT | Schreibt die Ausgabe mit TRANSLIT um |\n"
   ]
  },
  {
   "cell_type": "code",
   "execution_count": null,
   "id": "27cc4cd2-b17d-4f5f-81c6-d5b727272b91",
   "metadata": {
    "tags": []
   },
   "outputs": [],
   "source": [
    "%%bash\n",
    "echo \"Hallo aus München!\" | uconv -f utf8 -t utf8| hexdump -C"
   ]
  },
  {
   "cell_type": "code",
   "execution_count": 37,
   "id": "e1ac54f1-6963-45ea-acc9-2dc36ca35f5e",
   "metadata": {
    "tags": []
   },
   "outputs": [
    {
     "name": "stdout",
     "output_type": "stream",
     "text": [
      "00000000  ff fe 55 00 2b 00 32 00  34 00 46 00 35 00 43 00  |..U.+.2.4.F.5.C.|\n",
      "00000010  3a 00 20 00 53 d8 5c df  0a 00                    |:. .S.\\...|\n",
      "0000001a\n"
     ]
    }
   ],
   "source": [
    "%%bash\n",
    "echo \"U+24F5C: 𤽜\" | uconv -f utf8 -t utf16| hexdump -C"
   ]
  },
  {
   "cell_type": "markdown",
   "id": "d0e0f096-deff-42ad-a29e-0f078a4a7b28",
   "metadata": {},
   "source": [
    "## Kombinierende Zeichen\n",
    "* verbinden sich mit vorrangehenden Zeichen\n",
    "* zur Darstellung diakritischer Zeichen:\n",
    "  * ȍ\n",
    "  * o̊\n",
    "  * ...\n",
    "* werden stark in Emojis verwendet\n",
    "* bestimmte Zeichen können auf unterschiedliche Weise Dargestellt werden:\n",
    "  * ü: U+00FC oder U+0068 + U+0308\n",
    "  * õ: U+00F5 oder U+006F + U0303\n",
    "  * ...\n",
    "* Unicode definiert verschiedene Normalisierungsformen:\n",
    "  * nfc: composing (kombinierend)\n",
    "  * nfd: decomposing (zerlegend)\n",
    "* Anzahl der Unicode-Kodepunkte korrespondieren nicht mit der Anzahl der Buchstaben"
   ]
  },
  {
   "cell_type": "code",
   "execution_count": 95,
   "id": "460030b1-cdfd-443c-8aa1-44a81870511d",
   "metadata": {
    "tags": []
   },
   "outputs": [
    {
     "name": "stdout",
     "output_type": "stream",
     "text": [
      "00000000  48 61 6c 6c 6f 20 61 75  73 20 4d 75 cc 88 6e 63  |Hallo aus Mu..nc|\n",
      "00000010  68 65 6e 21 0a                                    |hen!.|\n",
      "00000015\n"
     ]
    }
   ],
   "source": [
    "%%bash\n",
    "echo \"Hallo aus München!\" | uconv -x nfd | hexdump -C"
   ]
  },
  {
   "cell_type": "code",
   "execution_count": 98,
   "id": "4b9093c8-a7b8-4870-9e60-16ddeda881c0",
   "metadata": {
    "tags": []
   },
   "outputs": [
    {
     "name": "stdout",
     "output_type": "stream",
     "text": [
      "19\n"
     ]
    }
   ],
   "source": [
    "%%bash\n",
    "echo -n \"Hallo aus München!\" | uconv -f utf8 -t utf8 -x nfd | wc -m"
   ]
  },
  {
   "cell_type": "markdown",
   "id": "2c54191b",
   "metadata": {},
   "source": [
    "## Übungsaufgaben\n",
    "\n",
    "### 1. Aufgabe `count_glyphs`\n",
    "Schreiben Sie ein Programm (awk, Shell-Skript oder Python), das die\n",
    "Anzahl der Buchstaben in einem Text zählt, wobei kombinierende Zeichen\n",
    "nicht berücksichtigt werden. Das Programm soll von `stdin` lesen und\n",
    "die Anzahl der Zeichen nach `stdout` schreiben (wie z.B. `wc`).\n",
    "\n",
    "```bash\n",
    "$ echo -n \"Hallo aus München!\" | uconv -f utf8 -t utf8 -x nfd | ./count_glyphs.py\n",
    "18\n",
    "$\n",
    "```\n",
    "\n",
    "### 2. Aufgabe `pchars`\n",
    "Schreiben Sie ein Programm (awk, Shell-Skript oder Python), das für\n",
    "jedes Zeichen in einem Text zeilenweise, das Zeichen, seine\n",
    "Unicodenummer und seine Darstellung als UTF-8 kodierters Zeichen\n",
    "(hexadezimal) ausgibt. Das Programm soll von `stdin` lesen und die\n",
    "Anzahl der Zeichen nach `stdout` schreiben.\n",
    "\n",
    "```bash\n",
    "$ echo 'Aü' | ./pchars.py\n",
    "A U+0041 0x41\n",
    "ü U+00FC 0xc3bc\n",
    "$\n",
    "```\n"
   ]
  },
  {
   "cell_type": "code",
   "execution_count": null,
   "id": "d60bf964-1ee7-4070-9143-35d34220cb8e",
   "metadata": {},
   "outputs": [],
   "source": []
  }
 ],
 "metadata": {
  "kernelspec": {
   "display_name": "Python 3",
   "language": "python",
   "name": "python3"
  },
  "language_info": {
   "codemirror_mode": {
    "name": "ipython",
    "version": 3
   },
   "file_extension": ".py",
   "mimetype": "text/x-python",
   "name": "python",
   "nbconvert_exporter": "python",
   "pygments_lexer": "ipython3",
   "version": "3.7.3"
  },
  "metadata": {
   "interpreter": {
    "hash": "31f2aee4e71d21fbe5cf8b01ff0e069b9275f58929596ceb00d14d90e3e16cd6"
   }
  }
 },
 "nbformat": 4,
 "nbformat_minor": 5
}
