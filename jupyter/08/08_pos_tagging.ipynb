{
 "metadata": {
  "language_info": {
   "codemirror_mode": {
    "name": "ipython",
    "version": 3
   },
   "file_extension": ".py",
   "mimetype": "text/x-python",
   "name": "python",
   "nbconvert_exporter": "python",
   "pygments_lexer": "ipython3",
   "version": "3.7.3"
  },
  "orig_nbformat": 4,
  "kernelspec": {
   "name": "python3",
   "display_name": "Python 3.7.3 64-bit ('venv': venv)"
  },
  "interpreter": {
   "hash": "656953c21547a91cfb2057a5cd28b058012b7084abb49e89974147a4ece772c4"
  }
 },
 "nbformat": 4,
 "nbformat_minor": 2,
 "cells": [
  {
   "source": [
    "# Erzeugen eigener POS-Tagger"
   ],
   "cell_type": "markdown",
   "metadata": {}
  },
  {
   "cell_type": "code",
   "execution_count": 198,
   "metadata": {
    "tags": []
   },
   "outputs": [
    {
     "output_type": "stream",
     "name": "stdout",
     "text": [
      "Requirement already satisfied: pip in /home/flo/devel/work/kb21/jupyter/venv/lib/python3.7/site-packages (21.1.2)\n",
      "Requirement already satisfied: nltk in /home/flo/devel/work/kb21/jupyter/venv/lib/python3.7/site-packages (3.6.2)\n",
      "Requirement already satisfied: regex in /home/flo/devel/work/kb21/jupyter/venv/lib/python3.7/site-packages (from nltk) (2021.4.4)\n",
      "Requirement already satisfied: tqdm in /home/flo/devel/work/kb21/jupyter/venv/lib/python3.7/site-packages (from nltk) (4.61.1)\n",
      "Requirement already satisfied: click in /home/flo/devel/work/kb21/jupyter/venv/lib/python3.7/site-packages (from nltk) (8.0.1)\n",
      "Requirement already satisfied: joblib in /home/flo/devel/work/kb21/jupyter/venv/lib/python3.7/site-packages (from nltk) (1.0.1)\n",
      "Requirement already satisfied: importlib-metadata in /home/flo/devel/work/kb21/jupyter/venv/lib/python3.7/site-packages (from click->nltk) (4.5.0)\n",
      "Requirement already satisfied: zipp>=0.5 in /home/flo/devel/work/kb21/jupyter/venv/lib/python3.7/site-packages (from importlib-metadata->click->nltk) (3.4.1)\n",
      "Requirement already satisfied: typing-extensions>=3.6.4 in /home/flo/devel/work/kb21/jupyter/venv/lib/python3.7/site-packages (from importlib-metadata->click->nltk) (3.10.0.0)\n"
     ]
    }
   ],
   "source": [
    "import sys\n",
    "!{sys.executable} -m pip install --upgrade pip nltk\n",
    "import nltk"
   ]
  },
  {
   "cell_type": "code",
   "execution_count": 39,
   "metadata": {},
   "outputs": [
    {
     "output_type": "stream",
     "name": "stdout",
     "text": [
      "Max/NE Schultze/NE ,/$, Ueber/APPR Muskelkörperchen/NN und/KON das/PDS ,/$, was/PRELS man/PIS eine/ART Zelle/NN zu/PTKZU nennen/VVINF habe/VAFIN ./$.\n\n"
     ]
    }
   ],
   "source": [
    "\n",
    "with open('sents.txt') as f:\n",
    "    sents = f.readlines()\n",
    "print(sents[42])"
   ]
  },
  {
   "cell_type": "code",
   "execution_count": 72,
   "metadata": {},
   "outputs": [
    {
     "output_type": "stream",
     "name": "stdout",
     "text": [
      "('Fliege', 'NN')\n[('Max', 'NE'), ('Schultze', 'NE'), (',', '$,'), ('Ueber', 'APPR'), ('Muskelkörperchen', 'NN'), ('und', 'KON'), ('das', 'PDS'), (',', '$,'), ('was', 'PRELS'), ('man', 'PIS'), ('eine', 'ART'), ('Zelle', 'NN'), ('zu', 'PTKZU'), ('nennen', 'VVINF'), ('habe', 'VAFIN'), ('.', '$.')]\n"
     ]
    }
   ],
   "source": [
    "print(nltk.tag.str2tuple(\"Fliege/NN\"))\n",
    "\n",
    "tagged_sents = [[nltk.tag.str2tuple(t) for t in sent[:-1].split(\" \")] for sent in sents]\n",
    "print(tagged_sents[42])"
   ]
  },
  {
   "source": [
    "## Tagsets\n",
    "* Tagsets sind oft inkompatibel zueinander\n",
    "* [DTA](https://www.deutschestextarchiv.de) verwendet das [Stuttgart-Tübingen Tagset](https://www.sfs.uni-tuebingen.de/Elwis/stts/stts.html) (STTS)\n",
    "* nltk Korpora verwenden verschiedene Tagset (z.B. [Penn Treebank Project](https://www.ling.upenn.edu/courses/Fall_2003/ling001/penn_treebank_pos.html))\n",
    "* viele Korpora erm&ouml;glichen die Konvertierung in das [Universal Tagset](https://arxiv.org/abs/1104.2086)\n",
    "* Verwendung von Abbildungen (Mappings) zwischen Tagsets (z.B. [universal-pos-tags](https://github.com/slavpetrov/universal-pos-tags))"
   ],
   "cell_type": "markdown",
   "metadata": {}
  },
  {
   "cell_type": "code",
   "execution_count": 73,
   "metadata": {
    "tags": []
   },
   "outputs": [
    {
     "output_type": "stream",
     "name": "stdout",
     "text": [
      "$: dollar\n    $ -$ --$ A$ C$ HK$ M$ NZ$ S$ U.S.$ US$\n'': closing quotation mark\n    ' ''\n(: opening parenthesis\n    ( [ {\n): closing parenthesis\n    ) ] }\n,: comma\n    ,\n--: dash\n    --\n.: sentence terminator\n    . ! ?\n:: colon or ellipsis\n    : ; ...\nCC: conjunction, coordinating\n    & 'n and both but either et for less minus neither nor or plus so\n    therefore times v. versus vs. whether yet\nCD: numeral, cardinal\n    mid-1890 nine-thirty forty-two one-tenth ten million 0.5 one forty-\n    seven 1987 twenty '79 zero two 78-degrees eighty-four IX '60s .025\n    fifteen 271,124 dozen quintillion DM2,000 ...\nDT: determiner\n    all an another any both del each either every half la many much nary\n    neither no some such that the them these this those\nEX: existential there\n    there\nFW: foreign word\n    gemeinschaft hund ich jeux habeas Haementeria Herr K'ang-si vous\n    lutihaw alai je jour objets salutaris fille quibusdam pas trop Monte\n    terram fiche oui corporis ...\nIN: preposition or conjunction, subordinating\n    astride among uppon whether out inside pro despite on by throughout\n    below within for towards near behind atop around if like until below\n    next into if beside ...\nJJ: adjective or numeral, ordinal\n    third ill-mannered pre-war regrettable oiled calamitous first separable\n    ectoplasmic battery-powered participatory fourth still-to-be-named\n    multilingual multi-disciplinary ...\nJJR: adjective, comparative\n    bleaker braver breezier briefer brighter brisker broader bumper busier\n    calmer cheaper choosier cleaner clearer closer colder commoner costlier\n    cozier creamier crunchier cuter ...\nJJS: adjective, superlative\n    calmest cheapest choicest classiest cleanest clearest closest commonest\n    corniest costliest crassest creepiest crudest cutest darkest deadliest\n    dearest deepest densest dinkiest ...\nLS: list item marker\n    A A. B B. C C. D E F First G H I J K One SP-44001 SP-44002 SP-44005\n    SP-44007 Second Third Three Two * a b c d first five four one six three\n    two\nMD: modal auxiliary\n    can cannot could couldn't dare may might must need ought shall should\n    shouldn't will would\nNN: noun, common, singular or mass\n    common-carrier cabbage knuckle-duster Casino afghan shed thermostat\n    investment slide humour falloff slick wind hyena override subhumanity\n    machinist ...\nNNP: noun, proper, singular\n    Motown Venneboerger Czestochwa Ranzer Conchita Trumplane Christos\n    Oceanside Escobar Kreisler Sawyer Cougar Yvette Ervin ODI Darryl CTCA\n    Shannon A.K.C. Meltex Liverpool ...\nNNPS: noun, proper, plural\n    Americans Americas Amharas Amityvilles Amusements Anarcho-Syndicalists\n    Andalusians Andes Andruses Angels Animals Anthony Antilles Antiques\n    Apache Apaches Apocrypha ...\nNNS: noun, common, plural\n    undergraduates scotches bric-a-brac products bodyguards facets coasts\n    divestitures storehouses designs clubs fragrances averages\n    subjectivists apprehensions muses factory-jobs ...\nPDT: pre-determiner\n    all both half many quite such sure this\nPOS: genitive marker\n    ' 's\nPRP: pronoun, personal\n    hers herself him himself hisself it itself me myself one oneself ours\n    ourselves ownself self she thee theirs them themselves they thou thy us\nPRP$: pronoun, possessive\n    her his mine my our ours their thy your\nRB: adverb\n    occasionally unabatingly maddeningly adventurously professedly\n    stirringly prominently technologically magisterially predominately\n    swiftly fiscally pitilessly ...\nRBR: adverb, comparative\n    further gloomier grander graver greater grimmer harder harsher\n    healthier heavier higher however larger later leaner lengthier less-\n    perfectly lesser lonelier longer louder lower more ...\nRBS: adverb, superlative\n    best biggest bluntest earliest farthest first furthest hardest\n    heartiest highest largest least less most nearest second tightest worst\nRP: particle\n    aboard about across along apart around aside at away back before behind\n    by crop down ever fast for forth from go high i.e. in into just later\n    low more off on open out over per pie raising start teeth that through\n    under unto up up-pp upon whole with you\nSYM: symbol\n    % & ' '' ''. ) ). * + ,. < = > @ A[fj] U.S U.S.S.R * ** ***\nTO: \"to\" as preposition or infinitive marker\n    to\nUH: interjection\n    Goodbye Goody Gosh Wow Jeepers Jee-sus Hubba Hey Kee-reist Oops amen\n    huh howdy uh dammit whammo shucks heck anyways whodunnit honey golly\n    man baby diddle hush sonuvabitch ...\nVB: verb, base form\n    ask assemble assess assign assume atone attention avoid bake balkanize\n    bank begin behold believe bend benefit bevel beware bless boil bomb\n    boost brace break bring broil brush build ...\nVBD: verb, past tense\n    dipped pleaded swiped regummed soaked tidied convened halted registered\n    cushioned exacted snubbed strode aimed adopted belied figgered\n    speculated wore appreciated contemplated ...\nVBG: verb, present participle or gerund\n    telegraphing stirring focusing angering judging stalling lactating\n    hankerin' alleging veering capping approaching traveling besieging\n    encrypting interrupting erasing wincing ...\nVBN: verb, past participle\n    multihulled dilapidated aerosolized chaired languished panelized used\n    experimented flourished imitated reunifed factored condensed sheared\n    unsettled primed dubbed desired ...\nVBP: verb, present tense, not 3rd person singular\n    predominate wrap resort sue twist spill cure lengthen brush terminate\n    appear tend stray glisten obtain comprise detest tease attract\n    emphasize mold postpone sever return wag ...\nVBZ: verb, present tense, 3rd person singular\n    bases reconstructs marks mixes displeases seals carps weaves snatches\n    slumps stretches authorizes smolders pictures emerges stockpiles\n    seduces fizzes uses bolsters slaps speaks pleads ...\nWDT: WH-determiner\n    that what whatever which whichever\nWP: WH-pronoun\n    that what whatever whatsoever which who whom whosoever\nWP$: WH-pronoun, possessive\n    whose\nWRB: Wh-adverb\n    how however whence whenever where whereby whereever wherein whereof why\n``: opening quotation mark\n    ` ``\n"
     ]
    }
   ],
   "source": [
    "nltk.help.upenn_tagset()"
   ]
  },
  {
   "cell_type": "code",
   "execution_count": 74,
   "metadata": {},
   "outputs": [
    {
     "output_type": "stream",
     "name": "stdout",
     "text": [
      "[('The', 'AT'), ('Fulton', 'NP-TL'), ('County', 'NN-TL'), ('Grand', 'JJ-TL'), ('Jury', 'NN-TL'), ('said', 'VBD'), ('Friday', 'NR'), ('an', 'AT')]\n[('The', 'DET'), ('Fulton', 'NOUN'), ('County', 'NOUN'), ('Grand', 'ADJ'), ('Jury', 'NOUN'), ('said', 'VERB'), ('Friday', 'NOUN'), ('an', 'DET')]\n"
     ]
    }
   ],
   "source": [
    "print(nltk.corpus.brown.tagged_words()[:8])\n",
    "print(nltk.corpus.brown.tagged_words(tagset='universal')[:8])"
   ]
  },
  {
   "source": [
    "## Mapping von STTS nach Universal"
   ],
   "cell_type": "markdown",
   "metadata": {}
  },
  {
   "cell_type": "code",
   "execution_count": 55,
   "metadata": {},
   "outputs": [
    {
     "output_type": "stream",
     "name": "stdout",
     "text": [
      "[('Max', 'NOUN'), ('Schultze', 'NOUN'), (',', '.'), ('Ueber', 'ADP'), ('Muskelkörperchen', 'NOUN'), ('und', 'CONJ'), ('das', 'PRON'), (',', '.'), ('was', 'PRON'), ('man', 'PRON'), ('eine', 'DET'), ('Zelle', 'NOUN'), ('zu', 'PRT'), ('nennen', 'VERB'), ('habe', 'VERB'), ('.', '.')]\n"
     ]
    }
   ],
   "source": [
    "# Max/NE Schultze/NE ,/$, Ueber/APPR Muskelkörperchen/NN und/KON das/PDS ,/$, was/PRELS man/PIS eine/ART Zelle/NN zu/PTKZU nennen/VVINF habe/VAFIN ./$.\n",
    "def stts2universal(tag):\n",
    "    mappings = {\n",
    "        'APPR': 'ADP', # adpositions (preposition + postpositions)\n",
    "        'KON': 'CONJ',\n",
    "        'PDS': 'PRON',\n",
    "        'PRELS': 'PRON',\n",
    "        'PIS': 'PRON',\n",
    "        'ART': 'DET',\n",
    "        'PTKZU': 'PRT',\n",
    "        # ...\n",
    "    }\n",
    "    if tag in mappings: \n",
    "        return mappings[tag]\n",
    "    if tag.startswith('V'):\n",
    "        return 'VERB'\n",
    "    if tag.startswith('N'):\n",
    "        return 'NOUN'\n",
    "    if tag.startswith('$'):\n",
    "        return '.'\n",
    "    return 'X'\n",
    "\n",
    "univ = [(w, stts2universal(t)) for (w, t) in tagged_sents[42]]\n",
    "print(univ)"
   ]
  },
  {
   "source": [
    "## Kontext"
   ],
   "cell_type": "markdown",
   "metadata": {}
  },
  {
   "cell_type": "code",
   "execution_count": 75,
   "metadata": {},
   "outputs": [
    {
     "output_type": "stream",
     "name": "stdout",
     "text": [
      "zu nennen habe\nzu thun haben\nzu ändern vermocht\nzu erwarten ist\nzu entdecken waren\nzu sehen ist\nzu folgen pflegt\n"
     ]
    }
   ],
   "source": [
    "def zu_v_v(sent):\n",
    "    for (w1,_), (w2,t2), (w3,t3) in list(nltk.trigrams(sent)):\n",
    "        if w1 == 'zu' and t2.startswith('V') and t3.startswith('V'):\n",
    "            print(w1, w2, w3)\n",
    "\n",
    "for sent in tagged_sents[:250]:\n",
    "    zu_v_v(sent)"
   ]
  },
  {
   "source": [
    "## Mehrdeutige W&ouml;rter"
   ],
   "cell_type": "markdown",
   "metadata": {}
  },
  {
   "cell_type": "code",
   "execution_count": 79,
   "metadata": {
    "tags": []
   },
   "outputs": [
    {
     "output_type": "stream",
     "name": "stdout",
     "text": [
      "zu APPR PTKZU PTKA PTKVZ\ns. NN FM.XY VVIMP FM\nbis APPR ADV KON KOUS\na. APPRART NE XY PIS\nde FM NE FM.LA FM.DA\nanderer NN ADJA PIS NE\nstatt KOUI APPR NN PTKVZ\nanat. NN XY ADJA NE\nkrehl VVIMP PTKVZ NN ADJD VVFIN\n"
     ]
    }
   ],
   "source": [
    "words2tags = nltk.ConditionalFreqDist([(w.lower(), t) for sent in tagged_sents for (w, t) in sent])\n",
    "for w in words2tags.conditions():\n",
    "    if len(words2tags[w]) > 3:\n",
    "        print(w, ' '.join(words2tags[w].keys()))"
   ]
  },
  {
   "cell_type": "code",
   "execution_count": null,
   "metadata": {},
   "outputs": [],
   "source": []
  },
  {
   "source": [
    "## H&auml;ufigste Tags"
   ],
   "cell_type": "markdown",
   "metadata": {}
  },
  {
   "cell_type": "code",
   "execution_count": 116,
   "metadata": {},
   "outputs": [
    {
     "output_type": "stream",
     "name": "stdout",
     "text": [
      "ignoring case: [('NN', 9667), ('ART', 5459), ('APPR', 3794)]\n"
     ]
    }
   ],
   "source": [
    "tags2counts = nltk.FreqDist([t for sent in tagged_sents for (w, t) in sent])\n",
    "print(\"ignoring case:\", tags2counts.most_common(3))"
   ]
  },
  {
   "source": [
    "## DefaultTagger\n",
    "https://www.nltk.org/api/nltk.tag.html#nltk.tag.sequential.DefaultTagger"
   ],
   "cell_type": "markdown",
   "metadata": {}
  },
  {
   "cell_type": "code",
   "execution_count": 159,
   "metadata": {},
   "outputs": [
    {
     "output_type": "execute_result",
     "data": {
      "text/plain": [
       "0.19881537543960678"
      ]
     },
     "metadata": {},
     "execution_count": 159
    }
   ],
   "source": [
    "default_tagger = nltk.DefaultTagger('NN')\n",
    "default_tagger.evaluate(tagged_sents)"
   ]
  },
  {
   "source": [
    "## H&auml;ufigste Suffixe"
   ],
   "cell_type": "markdown",
   "metadata": {}
  },
  {
   "cell_type": "code",
   "execution_count": 130,
   "metadata": {},
   "outputs": [
    {
     "output_type": "stream",
     "name": "stdout",
     "text": [
      "en [('NN', 2573), ('ADJA', 1756)]\nus [('APPR', 149), ('NN', 54)]\nas [('ART', 317), ('NN', 74)]\nss [('KOUS', 415), ('NN', 63)]\ngs [('ADV', 33), ('APPR', 1)]\ner [('ART', 1695), ('ADV', 488)]\nft [('ADV', 39), ('NN', 38)]\nie [('ART', 1453), ('PWAV', 245)]\nch [('ADV', 732), ('APPR', 422)]\nem [('ART', 246), ('ADJA', 67)]\n"
     ]
    }
   ],
   "source": [
    "suffixes2tags = nltk.ConditionalFreqDist([(w[-2:], t) for sent in tagged_sents for (w, t) in sent if len(w) > 2])\n",
    "for suf in suffixes2tags.conditions()[:10]:\n",
    "    print(suf, suffixes2tags[suf].most_common(2))"
   ]
  },
  {
   "source": [
    "## SequentialBackoffTagger\n",
    "https://www.nltk.org/api/nltk.tag.html#nltk.tag.sequential.SequentialBackoffTagger\n"
   ],
   "cell_type": "markdown",
   "metadata": {}
  },
  {
   "source": [
    "print(nltk.tag.SequentialBackoffTagger.__doc__)\n"
   ],
   "cell_type": "code",
   "metadata": {},
   "execution_count": 157,
   "outputs": [
    {
     "output_type": "stream",
     "name": "stdout",
     "text": [
      "\n    An abstract base class for taggers that tags words sequentially,\n    left to right.  Tagging of individual words is performed by the\n    ``choose_tag()`` method, which should be defined by subclasses.  If\n    a tagger is unable to determine a tag for the specified token,\n    then its backoff tagger is consulted.\n\n    :ivar _taggers: A list of all the taggers that should be tried to\n        tag a token (i.e., self and its backoff taggers).\n    \n"
     ]
    }
   ]
  },
  {
   "cell_type": "code",
   "execution_count": 158,
   "metadata": {},
   "outputs": [
    {
     "output_type": "stream",
     "name": "stdout",
     "text": [
      "\n        Decide which tag should be used for the specified token, and\n        return that tag.  If this tagger is unable to determine a tag\n        for the specified token, return None -- do not consult\n        the backoff tagger.  This method should be overridden by\n        subclasses of SequentialBackoffTagger.\n\n        :rtype: str\n        :type tokens: list\n        :param tokens: The list of words that are being tagged.\n        :type index: int\n        :param index: The index of the word whose tag should be\n            returned.\n        :type history: list(str)\n        :param history: A list of the tags for all words before *index*.\n        \n"
     ]
    }
   ],
   "source": [
    "print(nltk.tag.SequentialBackoffTagger.choose_tag.__doc__)\n"
   ]
  },
  {
   "source": [
    "## Suffix Tagger"
   ],
   "cell_type": "markdown",
   "metadata": {}
  },
  {
   "cell_type": "code",
   "execution_count": 160,
   "metadata": {
    "tags": []
   },
   "outputs": [
    {
     "output_type": "execute_result",
     "data": {
      "text/plain": [
       "0.41618164243259365"
      ]
     },
     "metadata": {},
     "execution_count": 160
    }
   ],
   "source": [
    "class SuffixTagger(nltk.tag.sequential.SequentialBackoffTagger):\n",
    "    def __init__(self, suffixes, n, backoff=None):\n",
    "        super().__init__(backoff)\n",
    "        self.suffixes = suffixes \n",
    "        self.n = n\n",
    "\n",
    "    def choose_tag(self, tokens, index, history):\n",
    "        if len(tokens[index]) > self.n:\n",
    "            if tokens[index][-self.n:] in self.suffixes:\n",
    "                return self.suffixes[tokens[index][-self.n:]]\n",
    "        return None # let the backoff tagger handle all other cases\n",
    "\n",
    "n = 2\n",
    "suffixes2tags = nltk.ConditionalFreqDist([(w[-n:], t) for sent in tagged_sents for (w, t) in sent if len(w) > n])\n",
    "suffixes = {suf: tags.most_common(1)[0][0] for (suf, tags) in suffixes2tags.items() if len(tags) > 0}\n",
    "suffix_tagger = SuffixTagger(suffixes, n, default_tagger)\n",
    "suffix_tagger.evaluate(tagged_sents)"
   ]
  },
  {
   "source": [
    "## Unigramm und N-Gramm Tagger\n",
    "* Unigramm Tagger betrachten immer nur einen Token\n",
    "* N-Gramm Tagger betrachten einen Token und `N-1` Kontexttoken\n",
    "* siehe [NLTK Buch 5. Kapitel](https://www.nltk.org/book_1ed/ch05.html) und [Symbolische Programmiersprache 20/21](https://cis-sp2021.github.io/crawling_pos.pdf)\n",
    "\n",
    "<img src=\"https://www.nltk.org/images/tag-context.png\" alt=\"Tagger Context\">"
   ],
   "cell_type": "markdown",
   "metadata": {}
  },
  {
   "source": [
    "### Aufteilung in Training- und Evaluierungsmengen"
   ],
   "cell_type": "markdown",
   "metadata": {}
  },
  {
   "cell_type": "code",
   "execution_count": 163,
   "metadata": {
    "tags": []
   },
   "outputs": [
    {
     "output_type": "stream",
     "name": "stdout",
     "text": [
      "train set: 1358\ntest set:  151\n"
     ]
    }
   ],
   "source": [
    "import random\n",
    "\n",
    "size = int(len(tagged_sents) * 0.9)\n",
    "random.shuffle(tagged_sents)\n",
    "test_sents = tagged_sents[size:]\n",
    "train_sents = tagged_sents[:size]\n",
    "print(\"train set:\", len(train_sents))\n",
    "print(\"test set: \", len(test_sents))"
   ]
  },
  {
   "source": [
    "### Kombination von Taggern"
   ],
   "cell_type": "markdown",
   "metadata": {}
  },
  {
   "cell_type": "code",
   "execution_count": 162,
   "metadata": {},
   "outputs": [
    {
     "output_type": "stream",
     "name": "stdout",
     "text": [
      "default tagger: 0.20429435063581405\nsuffix tagger:  0.4229726912653742\n"
     ]
    }
   ],
   "source": [
    "print(\"default tagger:\", default_tagger.evaluate(test_sents))\n",
    "print(\"suffix tagger: \", suffix_tagger.evaluate(test_sents))"
   ]
  },
  {
   "cell_type": "code",
   "execution_count": 172,
   "metadata": {},
   "outputs": [
    {
     "output_type": "execute_result",
     "data": {
      "text/plain": [
       "0.9149334442595674"
      ]
     },
     "metadata": {},
     "execution_count": 172
    }
   ],
   "source": [
    "t1 = nltk.UnigramTagger(train_sents, backoff=suffix_tagger)\n",
    "t2 = nltk.BigramTagger(train_sents, backoff=t1)\n",
    "t2.evaluate(test_sents)"
   ]
  },
  {
   "source": [
    "### Speicherung von Taggern\n",
    "* Speicherung/Serialisierung von Objekten mit [pickle](https://docs.python.org/3/library/pickle.html)\n",
    "* pickle ist **nicht** sicher; niemals Objekte von unbekannten/unzuverl&auml;ssigen Quellen laden"
   ],
   "cell_type": "markdown",
   "metadata": {}
  },
  {
   "cell_type": "code",
   "execution_count": 177,
   "metadata": {},
   "outputs": [
    {
     "output_type": "execute_result",
     "data": {
      "text/plain": [
       "0.9149334442595674"
      ]
     },
     "metadata": {},
     "execution_count": 177
    }
   ],
   "source": [
    "import pickle\n",
    "with open('tagger.pickle', 'wb') as f:\n",
    "    pickle.dump(t2, f)\n",
    "with open('tagger.pickle', 'rb') as f:\n",
    "    loaded_tagger = pickle.load(f)\n",
    "loaded_tagger.evaluate(test_sents)"
   ]
  },
  {
   "source": [
    "## TreeTagger\n",
    "* [TreeTagger](https://www.cis.uni-muenchen.de/~schmid/tools/TreeTagger/) probabilistierscher POS- und Lemma-Tagger von Helmut Schmid \n",
    "* beinhaltet verschiedene Tagger und [Chunker](https://en.wikipedia.org/wiki/Shallow_parsing) f&uuml;r verschiedene [Sprachen](https://www.cis.uni-muenchen.de/~schmid/tools/TreeTagger/#parfiles)\n",
    "* deutscher Tagger/Chunker verwendet das [Stuttgart-Tübingen Tagset](https://www.sfs.uni-tuebingen.de/Elwis/stts/stts.html) (STTS)\n",
    "* Installation muss manuell vorgenommen werden:\n",
    "  * manuelle Installation des TreeTaggers\n",
    "  * [Python Wrapper](https://treetaggerwrapper.readthedocs.io/en/latest/) mit pip installieren"
   ],
   "cell_type": "markdown",
   "metadata": {}
  },
  {
   "source": [
    "### wget\n",
    "\n",
    "| Name | wget - nicht-interaktives Werkzeug zum Herunterladen von Daten aus den Netz |\n",
    "|:---|:---|\n",
    "|Überblick| wget \\[OPTION\\]... \\[URL\\]... |\n",
    "|Beschreibung | L&auml;d Dateien und Verzeichnissb&auml;ume aus dem Netz herunter. |\n",
    "| Wichtige Optionen: | |\n",
    "| -o, --output-file `log-file` | schreibt Log-Nachrichten nach `log-file` und nicht nach `stderr` |\n",
    "| -q, --quiet | unterdr&uuml;ckt Log-Nachrichten |\n",
    "| -v, --verbose | ausf&uuml;hrliche Log-Nachrichten |\n",
    "| -c, --continue | setzt das Herunterladen von partiellen Dateien fort |\n",
    "| -O, --output-document `file` | schreibt die heruntergeladenen Dateien nach `file` |"
   ],
   "cell_type": "markdown",
   "metadata": {}
  },
  {
   "cell_type": "code",
   "execution_count": 5,
   "metadata": {},
   "outputs": [
    {
     "output_type": "stream",
     "name": "stdout",
     "text": [
      "<!DOCTYPE html>\n<html lang=\"en-US\">\n\n  <head>\n    <meta charset='utf-8'>\n    <meta http-equiv=\"X-UA-Compatible\" content=\"IE=edge\">\n    <meta name=\"viewport\" content=\"width=device-width,maximum-scale=2\">\n    <link rel=\"stylesheet\" type=\"text/css\" media=\"screen\" href=\"/assets/css/style.css?v=be470d2329bb63c0c069a513bb9bed4b1ab5fd8b\">\n\n<!-- Begin Jekyll SEO tag v2.7.1 -->\n<title>Kurs “Korpusbearbeitung” | cis-kb21.github.io</title>\n<meta name=\"generator\" content=\"Jekyll v3.9.0\" />\n<meta property=\"og:title\" content=\"Kurs “Korpusbearbeitung”\" />\n<meta property=\"og:locale\" content=\"en_US\" />\n<meta name=\"description\" content=\"Website for Korpusbearbeitung SoSe 21\" />\n"
     ]
    }
   ],
   "source": [
    "%%bash\n",
    "wget -qO /dev/stdout https://cis-kb21.github.io | sed 15q"
   ]
  },
  {
   "source": [
    "### tar\n",
    "\n",
    "| Name | tar - Archivierungswerkzeug |\n",
    "|:---|:---|\n",
    "|Überblick| tar -x \\[-f ARCHIVE\\] \\[OPTION\\]... \\[FILE\\]... |\n",
    "|         | tar -t \\[-f ARCHIVE\\] \\[OPTION\\]... \\[FILE\\]... |\n",
    "|         | tar -c \\[-f ARCHIVE\\] \\[OPTION\\]... \\[FILE\\]... |\n",
    "|Beschreibung | Fasst mehrere Dateien in einer Datei zusammen und |\n",
    "|             | komprimiert sie (`-c`), listet die Dateien in einem |\n",
    "|             | Archiv auf (`-t`) oder extrahiert die Dateien aus |\n",
    "|             | einem Archiv (`-x`). |\n",
    "| Wichtige Optionen: | |\n",
    "| -z, --gzip, --gunzip --ungzip | komprimiert die Archive mit `gzip(1)` |\n",
    "| -Z, --compress, --uncompress | komprimiert die Archive mit `compress(1)` |\n",
    "| -j, --bzip2 | komprimiert die Archive mit `bzip2(1)` |\n",
    "| -J, --xz | komprimiert die Archive mit `xz(1)` |\n",
    "| -C, --directory `DIR` | Wechselt nach `DIR` bevor irgendwelche Arbeiten |\n",
    "|                       | durchgef&uuml;hrt werden |"
   ],
   "cell_type": "markdown",
   "metadata": {}
  },
  {
   "cell_type": "code",
   "execution_count": 20,
   "metadata": {},
   "outputs": [
    {
     "output_type": "stream",
     "name": "stdout",
     "text": [
      "files in ar.tar.gz:\n-> sents.txt\n-> 08_pos_tagging.ipynb\nfile sizes:\n-> 08_pos_tagging.ipynb: 37K\n-> ar.tar.gz: 138K\n-> sents.txt: 516K\n"
     ]
    }
   ],
   "source": [
    "%%bash\n",
    "tar -czf ar.tar.gz sents.txt 08_pos_tagging.ipynb\n",
    "echo \"files in ar.tar.gz:\"\n",
    "tar -tzf ar.tar.gz | awk '{print \"-> \" $0}'\n",
    "echo \"file sizes:\"\n",
    "ls -hl sents.txt 08_pos_tagging.ipynb ar.tar.gz | awk '{print \"-> \" $9 \": \" $5}'"
   ]
  },
  {
   "source": [
    "### Weitere Werkzeuge\n",
    "* [curl](https://curl.se): Werkzeug zur Daten&uuml;bertragung ([Everything curl](https://curl.se/book.html))\n",
    "* zcat: cat auf gezippten Dateien\n",
    "* gzip: komprimiert Dateien gzip\n",
    "* gunzip: dekomprimiert gzip Dateien"
   ],
   "cell_type": "markdown",
   "metadata": {}
  },
  {
   "source": [
    "### Installation des TreeTagger\n",
    "* Herunterladen des TreeTaggers\n",
    "* Herunterladen der Hilfs-Skripte\n",
    "* Herunterladen des Installations-Skripts\n",
    "* Herunterladen der [Sprachparameterdateien](https://www.cis.uni-muenchen.de/~schmid/tools/TreeTagger/#parfiles)"
   ],
   "cell_type": "markdown",
   "metadata": {}
  },
  {
   "cell_type": "code",
   "execution_count": 205,
   "metadata": {},
   "outputs": [
    {
     "output_type": "stream",
     "name": "stdout",
     "text": [
      "\n",
      "Tagging scripts installed.\n",
      "German parameter file installed.\n",
      "Path variables modified in tagging scripts.\n",
      "\n",
      "You might want to add /home/flo/devel/work/kb21/jupyter/08/tree-tagger/cmd and /home/flo/devel/work/kb21/jupyter/08/tree-tagger/bin to the PATH variable so that you do not need to specify the full path to run the tagging scripts.\n",
      "\n",
      "mkdir: cannot create directory ‘cmd’: File exists\n",
      "mkdir: cannot create directory ‘lib’: File exists\n",
      "mkdir: cannot create directory ‘bin’: File exists\n",
      "mkdir: cannot create directory ‘doc’: File exists\n"
     ]
    }
   ],
   "source": [
    "%%bash\n",
    "mkdir -p tree-tagger && cd tree-tagger\n",
    "wget -c -q https://www.cis.uni-muenchen.de/~schmid/tools/TreeTagger/data/tree-tagger-linux-3.2.4.tar.gz # tree tagger\n",
    "# wget -c -q https://www.cis.uni-muenchen.de/~schmid/tools/TreeTagger/data/tree-tagger-MacOSX-3.2.3.tar.gz\n",
    "wget -c -q https://www.cis.uni-muenchen.de/~schmid/tools/TreeTagger/data/tagger-scripts.tar.gz # scripts\n",
    "wget -c -q https://www.cis.uni-muenchen.de/~schmid/tools/TreeTagger/data/install-tagger.sh # install script\n",
    "wget -c -q https://www.cis.uni-muenchen.de/~schmid/tools/TreeTagger/data/german.par.gz # language parameter file\n",
    "\n",
    "tar -xzf tree-tagger-linux-3.2.4.tar.gz\n",
    "bash install-tagger.sh"
   ]
  },
  {
   "cell_type": "code",
   "execution_count": 204,
   "metadata": {},
   "outputs": [
    {
     "output_type": "stream",
     "name": "stdout",
     "text": [
      "Dies\tPDS\tdies\n",
      "ist\tVAFIN\tsein\n",
      "nur\tADV\tnur\n",
      "ein\tART\teine\n",
      "Test\tNN\tTest\n",
      ".\t$.\t.\n",
      "\treading parameters ...\n",
      "\ttagging ...\n",
      "\t finished.\n"
     ]
    }
   ],
   "source": [
    "%%bash\n",
    "echo \"Dies ist nur ein Test.\" | tree-tagger/cmd/tree-tagger-german"
   ]
  },
  {
   "cell_type": "code",
   "execution_count": 15,
   "metadata": {},
   "outputs": [
    {
     "output_type": "stream",
     "name": "stdout",
     "text": [
      "Requirement already satisfied: pip in /home/flo/devel/work/kb21/jupyter/venv/lib/python3.7/site-packages (21.1.2)\n",
      "Requirement already satisfied: treetaggerwrapper in /home/flo/devel/work/kb21/jupyter/venv/lib/python3.7/site-packages (2.3)\n",
      "/home/flo/devel/work/kb21/jupyter/venv/lib/python3.7/site-packages/treetaggerwrapper.py:740: FutureWarning: Possible nested set at position 8\n",
      "  re.IGNORECASE | re.VERBOSE)\n",
      "/home/flo/devel/work/kb21/jupyter/venv/lib/python3.7/site-packages/treetaggerwrapper.py:2044: FutureWarning: Possible nested set at position 152\n",
      "  re.VERBOSE | re.IGNORECASE)\n",
      "/home/flo/devel/work/kb21/jupyter/venv/lib/python3.7/site-packages/treetaggerwrapper.py:2067: FutureWarning: Possible nested set at position 409\n",
      "  UrlMatch_re = re.compile(UrlMatch_expression, re.VERBOSE | re.IGNORECASE)\n",
      "/home/flo/devel/work/kb21/jupyter/venv/lib/python3.7/site-packages/treetaggerwrapper.py:2079: FutureWarning: Possible nested set at position 192\n",
      "  EmailMatch_re = re.compile(EmailMatch_expression, re.VERBOSE | re.IGNORECASE)\n"
     ]
    }
   ],
   "source": [
    "!{sys.executable} -m pip install --upgrade pip treetaggerwrapper\n",
    "import treetaggerwrapper as TTW  "
   ]
  },
  {
   "cell_type": "code",
   "execution_count": 16,
   "metadata": {},
   "outputs": [
    {
     "output_type": "stream",
     "name": "stdout",
     "text": [
      "['Zwei\\tCARD\\tzwei', 'Dinge\\tNN\\tDing', 'sind\\tVAFIN\\tsein', 'unendlich\\tADJD\\tunendlich', ',\\t$,\\t,', 'das\\tART\\tdie', 'Universum\\tNN\\tUniversum', 'und\\tKON\\tund', 'die\\tART\\tdie', 'menschliche\\tADJA\\tmenschlich', 'Dummheit\\tNN\\tDummheit', ',\\t$,\\t,', 'aber\\tADV\\taber', 'bei\\tAPPR\\tbei', 'dem\\tART\\tdie', 'Universum\\tNN\\tUniversum', 'bin\\tVAFIN\\tsein', 'ich\\tPPER\\tich', 'mir\\tPRF\\tich', 'noch\\tADV\\tnoch', 'nicht\\tPTKNEG\\tnicht', 'ganz\\tADV\\tganz', 'sicher\\tADJD\\tsicher', '.\\t$.\\t.']\n"
     ]
    }
   ],
   "source": [
    "tagger = TTW.TreeTagger(TAGLANG='de', TAGDIR='./tree-tagger')\n",
    "tags = tagger.tag_text(\"Zwei Dinge sind unendlich, das Universum und die menschliche Dummheit, aber bei dem Universum bin ich mir noch nicht ganz sicher.\")\n",
    "print(tags)"
   ]
  },
  {
   "source": [
    "## Aufgaben\n",
    "### Aufgabe 1 Vergleich von POS-Taggern\n",
    "\n",
    "Laden Sie vier weitere\n",
    "[TCF-kodierte](https://weblicht.sfs.uni-tuebingen.de/weblichtwiki/index.php/The_TCF_Format)\n",
    "Dateien herunter\n",
    "(z.B. [Drude](https://www.deutschestextarchiv.de/book/download_fulltcf/16377),\n",
    "[Sachs](https://www.deutschestextarchiv.de/book/download_fulltcf/16178),\n",
    "[Brehm](https://www.deutschestextarchiv.de/book/download_fulltcf/25157)\n",
    "und\n",
    "[Bölsche](https://www.deutschestextarchiv.de/book/download_fulltcf/16552)).\n",
    "Verwenden Sie diese Dateien und die von letzter Woche\n",
    "([Altmann](https://www.deutschestextarchiv.de/book/download_fulltcf/16299))\n",
    "um wie heute in der Vorlesung einen Bigramm-Tagger auf einer\n",
    "Trainingsmenge zu trainieren und auf einer Testmenge auszuwerten.\n",
    "\n",
    "Installieren Sie den TreeTagger und den Treetaggerwrapper und\n",
    "schreiben Sie eine entsprechende Tagger-Klasse, die Token mit Hilfe\n",
    "des TreeTaggers annotiert.  Werten Sie diesen Tagger auf der\n",
    "Trainingsmenge aus und vergleichen Sie die Ergebnisse mit denen des\n",
    "Bigramm-Taggers.\n",
    "\n",
    "Bei Problemen können Sie sich gerne an mich wenden: kb21@cis.uni-muenchen.de\n"
   ],
   "cell_type": "markdown",
   "metadata": {}
  }
 ]
}