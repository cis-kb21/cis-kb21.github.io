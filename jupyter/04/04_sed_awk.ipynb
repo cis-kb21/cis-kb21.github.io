{
 "cells": [
  {
   "cell_type": "markdown",
   "id": "4dea9c97",
   "metadata": {},
   "source": [
    "# Sed und awk\n",
    "\n",
    "* mächtige Werkzeuge zur Textmanipulation und Datenverarbeitung\n",
    "* sed Stream Editor zum Bearbeiten von Datenströmen\n",
    "* awk *little language / DSL (domain specific language)* zur Datenmanipulation"
   ]
  },
  {
   "cell_type": "markdown",
   "id": "e29f6d17",
   "metadata": {},
   "source": [
    "## diff\n",
    "| Name | diff - Vergleicht Dateien zeilenweise |\n",
    "|:---|:---|\n",
    "|Überblick| diff \\[OPTION\\]... FILES |\n",
    "| Beschreibung | Vergleicht die Dateien in FILES. |\n",
    "| Wichtige Optionen: | |\n",
    "| -u, -u NUM, --unififed\\[=NUM\\]| Ausgabe von NUM (Standardwert=3) unifizierten Zeilen |\n",
    "| -c, -c NUM, --context\\[=NUM\\]| Ausgabe von NUM (Standardwert=3) kopierten Zeilen |\n",
    "| -e, --ed | Ausgabe eines ed-Skripts |\n",
    "| -y, --side-by-side | Ausgabe in Zwei Spalten |\n",
    "| -i, --ignore-case | Ignoriert Groß- und Kleinschreibung in Änderungen |\n",
    "| -b, --ignore-space-change | Ignoriert die Anzahl der Leerzeichen in Änderungen |\n",
    "| -B, --ignore-blank-lines | Ignoriert Änderungen auf leeren Zeilen |\n",
    "| -w, --ignore-all-space | Ignoriert Änderungen auf allen Leerzeichen |\n",
    "|Rückgabewerte:| |\n",
    "| 0 | Dateien sind gleich |\n",
    "| 1 | Dateien sind unterschiedlich |\n",
    "| 2 | Fehler |\n"
   ]
  },
  {
   "cell_type": "code",
   "execution_count": 10,
   "id": "e28d0d00-9b24-4d66-8d79-f002121f74bc",
   "metadata": {},
   "outputs": [
    {
     "name": "stdout",
     "output_type": "stream",
     "text": [
      "--- a.py\t2021-05-18 11:37:53.085488900 +0200\n",
      "+++ b.py\t2021-05-18 11:37:58.125488900 +0200\n",
      "@@ -2,7 +2,8 @@\n",
      " import sys\n",
      " \n",
      " def main():\n",
      "-    print(f\"Hello {sys.argv[1]}!\")\n",
      "-    \n",
      "+    for name in sys.argv[1:]:\n",
      "+        print(f\"Hello {name}!\")\n",
      "+\n",
      " if __name__ == \"__main__\":\n",
      "     main()\n"
     ]
    }
   ],
   "source": [
    "%%bash\n",
    "diff -u a.py b.py || true"
   ]
  },
  {
   "cell_type": "markdown",
   "id": "d39cab88-ffc9-4082-ad4e-67263b32dc4f",
   "metadata": {},
   "source": [
    "## ed\n",
    "| Name | ed - Zeilenorientierter Texteditor |\n",
    "|:---|:---|\n",
    "|Überblick| ed \\[OPTION\\]... \\[FILES\\]... |\n",
    "| Beschreibung | Interaktiver Standardeditor (heuzutage überholt). |\n",
    "| | Ließt von `stdin`, falls FILE in FILES `-` ist. |\n",
    "| Wichtige Optionen: | |\n",
    "| -p, --prompt=STRING | Verwende String für den interaktiven Prompt (Standardwert=?) |\n",
    "| -s, --quiet, --silent | Unterdrückt die Ausgabe von Diagnosemeldungen |\n",
    "| Zeilenadressierung: | |\n",
    "| . | Aktuelle Zeile |\n",
    "| 1 | Erste Zeile |\n",
    "| 0 | Zeile vor der ersten |\n",
    "| \\$ | Letzte Zeile |\n",
    "| n | Die `n`-te Zeile aus der Sequenz \\[0,\\$\\] |\n",
    "| /re/ | Die nexte Zeile die auf das Muster des regulären Ausdrucks `re` passt |\n",
    "| ?re? | Die vorherige Zeile die auf das Muster des regulären Ausdrucks `re` passt |\n",
    "| a1,a2 | Die Zeilen von `a1` bis `a2` (inklusive) |\n",
    "| Befehle: |\n",
    "| (.,.)p | Gibt die Zeilen in der Adresssequenz aus |\n",
    "| (.,.)l | Listet die Zeilen mit ihren Zeilennummern in der Adresssequenz aus |\n",
    "| (.,.)d | L&ouml;scht die Zeilen in der Adresssequenz aus |\n",
    "| (.)i | Fügt Text vor der aktuellen Zeile in den Puffer ein; |\n",
    "| | die Zeilen werden von `stdin` gelesen bis `\\n.\\n` |\n",
    "| (.,.)c | Ändert (Überschreibt) die Zeilen in der Adresssequenz im Puffer; |\n",
    "| | die Zeilen werden von `stdin` gelesen bis `\\n.\\n` |\n",
    "| (.,.)s/re/replacement/ | Ersetzt erstes Vorkommen `re` mit `replacement` |\n",
    "| (.,.)s/re/replacement/g | Ersetzt alle Vorkommen `re` mit `replacement` |\n",
    "| (.,.)s/re/replacement/n | Ersetzt `n`-tes Vorkommen `re` mit `replacement` |\n",
    "| w file | Schreibt den Puffer nach `file` |\n",
    "| q | Beended ed |\n",
    "\n",
    "\n"
   ]
  },
  {
   "cell_type": "code",
   "execution_count": 109,
   "id": "dd455da0-a8dc-41a4-8116-8e8994e688cd",
   "metadata": {
    "tags": []
   },
   "outputs": [
    {
     "name": "stdout",
     "output_type": "stream",
     "text": [
      "5,6c\n",
      "    for name in sys.argv[1:]:\n",
      "        print(f\"Hello {name}!\")\n",
      "\n",
      ".\n"
     ]
    }
   ],
   "source": [
    "%%bash\n",
    "diff --ed a.py b.py || true"
   ]
  },
  {
   "cell_type": "markdown",
   "id": "276c8028-c14c-4489-8bca-daef33a17499",
   "metadata": {},
   "source": [
    "## sed\n",
    "* Stream-Editor verarbeitet Eingabezeilen von `stdin` und schreibt Zeilen nach `stdout`\n",
    "* sed verwendet ähnliche Befehlssyntax wie ed (sed basiert auf ed)\n",
    "* wie ed-Befehle akzeptieren sed-Befehle Zeilenadressen und/oder Adresssequenzen\n",
    "* Zeilenadressen können Zeilennummern oder reguläre Ausdrücke sein\n",
    "\n",
    "| Name | sed - Stream-Editor zur Filterung und Modifizierung von Text |\n",
    "|:---|:---|\n",
    "|Überblick| ed \\[OPTION\\]... \\[SCRIPT\\] \\[FILES\\]... |\n",
    "| Beschreibung | Automatischer Editor zur Filterung und Modifizierung von Text in\n",
    "| | Ein- und Ausgabeströmen. Ähnlich zu `ed(1)` läuft aber nur einmal über den\n",
    "| | Eingabetext. |\n",
    "| Wichtige Optionen: | |\n",
    "| -n, --quiet, --silent | Keine automatische Ausgabe der Eingabezeilen (*Pattern Space*) |\n",
    "| -e, --expression script | Füge `script` den auszuführenden Befehlen hinzu |\n",
    "| -f, --file file | Füge den Inhalt von `file` den auszuführenden Befehlen hinzu |\n",
    "| -i, --in-place | Verändert die Dateien direkt |\n",
    "| -E, --regexp-extended | Verwendet erweiterte reguläre Ausdrücke (EREs) |"
   ]
  },
  {
   "cell_type": "markdown",
   "id": "d2dea03f-712b-4a9f-b6c7-018207c31dd8",
   "metadata": {},
   "source": [
    "### Adressen\n",
    "* `1`: adressiert die erste Zeile\n",
    "* `n`: adressiert die `n`-te Zeile\n",
    "* `$`: adressiert die lezte Zeile\n",
    "* `f~s`: adressiert jede `s`-te Zeile von `f` aus\n",
    "* `/re/`: adressiert jede Zeile, die der reguläre Ausdruck `re` akzeptiert\n",
    "* `a1,+n`: adressiert jede Zeile von `a1` bis `n` folgende Zeilen\n",
    "* `a1,~n`: adressiert jede Zeile von `a1` bis zu einer Zeile die durch `n` teilbar ist\n",
    "* Addressen können auch für mehrere Befehle definiert werden: `a1{cmd1 cmd2 ...}`"
   ]
  },
  {
   "cell_type": "markdown",
   "id": "c7664f67-cedb-4802-8b51-0af7cbb82973",
   "metadata": {},
   "source": [
    "### Quit (.)q\n",
    "* Beendet die Ausgabe von Zeilen und beendet das Skript\n",
    "* akzeptiert eine optionale Adresszeile\n",
    " "
   ]
  },
  {
   "cell_type": "code",
   "execution_count": 14,
   "id": "a221087a-fad3-4b25-a070-81250572b8a0",
   "metadata": {},
   "outputs": [
    {
     "name": "stdout",
     "output_type": "stream",
     "text": [
      "     1\tDie\n",
      "     2\tWahlverwandtschaften.\n",
      "     3\t\n",
      "     4\tEin Roman\n",
      "     5\tvon\n",
      "     6\tGoethe.\n",
      "     7\t\n",
      "     8\tErster Theil.\n"
     ]
    }
   ],
   "source": [
    "%%bash\n",
    "sed 8q ../03/wahlverwandschaften.txt | cat -n"
   ]
  },
  {
   "cell_type": "code",
   "execution_count": 15,
   "id": "b7d68d10-6a87-4131-831d-f872c7038380",
   "metadata": {},
   "outputs": [
    {
     "name": "stdout",
     "output_type": "stream",
     "text": [
      "     1\tDie\n",
      "     2\tWahlverwandtschaften.\n",
      "     3\t\n",
      "     4\tEin Roman\n",
      "     5\tvon\n",
      "     6\tGoethe.\n"
     ]
    }
   ],
   "source": [
    "%%bash\n",
    "sed /Goethe/q ../03/wahlverwandschaften.txt | cat -n"
   ]
  },
  {
   "cell_type": "markdown",
   "id": "41999be5-a81e-4fe3-becd-10b7f9523d77",
   "metadata": {},
   "source": [
    "### Print (.,.)p\n",
    "* gibt den aktuellen *Pattern Space* aus (aktuelle Zeile)\n",
    "* akzeptiert Adresssequenzen\n",
    "* meist in Verbindung mit `-n` Kommandozeilenoption"
   ]
  },
  {
   "cell_type": "code",
   "execution_count": 21,
   "id": "04032099-b363-43fe-b81b-48e03c9e7a9d",
   "metadata": {},
   "outputs": [
    {
     "name": "stdout",
     "output_type": "stream",
     "text": [
      "die zwar keine Fläche, doch fortlaufende frucht-\n",
      "bare Rücken bildete. Dorf und Schloß hin-\n",
      "laufen lassen.\n",
      "\n"
     ]
    }
   ],
   "source": [
    "%%bash\n",
    "sed -n /laufen/,+1p ../03/wahlverwandschaften.txt"
   ]
  },
  {
   "cell_type": "markdown",
   "id": "d7361459-ae15-4e5c-a30e-b28e01abf407",
   "metadata": {},
   "source": [
    "### Delete (.,.)d\n",
    "* löscht die addressierten Zeilen\n",
    "* akzeptiert Adresssequenzen"
   ]
  },
  {
   "cell_type": "code",
   "execution_count": 58,
   "id": "603b1e9f-9d80-4e09-8cf5-d0fd903780ac",
   "metadata": {},
   "outputs": [
    {
     "name": "stdout",
     "output_type": "stream",
     "text": [
      "\n",
      "Eduard — so nennen wir einen reichen\n",
      "Baron im besten Mannesalter — Eduard\n",
      "hatte in seiner Baumschule die schönste Stun-\n",
      "de eines Aprilnachmittags zugebracht, um\n",
      "frisch erhaltene Pfropfreiser auf junge Stäm-\n",
      "me zu bringen. Sein Geschäft war eben\n",
      "vollendet; er legte die Geräthschaften in das\n",
      "Futteral zusammen und betrachtete seine Ar-\n",
      "beit mit Vergnügen, als der Gärtner hinzu-\n"
     ]
    }
   ],
   "source": [
    "%%bash\n",
    "sed '1,/Erstes Kapitel/d' ../03/wahlverwandschaften.txt | sed 10q"
   ]
  },
  {
   "cell_type": "code",
   "execution_count": 78,
   "id": "4a65b688-0df9-4dda-bf31-207074bd0fd1",
   "metadata": {},
   "outputs": [
    {
     "name": "stdout",
     "output_type": "stream",
     "text": [
      "Die\n",
      "Wahlverwandtschaften.\n",
      "Ein Roman\n",
      "von\n",
      "Goethe.\n",
      "Erster Theil.\n",
      "Tübingen,\n",
      "in der J. G. Cottaischen Buchhandlung.\n",
      "1809.\n",
      "Die\n"
     ]
    }
   ],
   "source": [
    "%%bash\n",
    "sed '/^$/d' ../03/wahlverwandschaften.txt | sed 10q"
   ]
  },
  {
   "cell_type": "markdown",
   "id": "ea43a7de-c156-489d-a7da-1f91cd813561",
   "metadata": {},
   "source": [
    "### Transliterate (.,.)y/set1/set2/\n",
    "* ersetzt Vorkommen von Zeichen in `set1` durch korrespondierende Zeichen in `set2`\n",
    "* akzeptiert Adresssequenzen"
   ]
  },
  {
   "cell_type": "code",
   "execution_count": 28,
   "id": "2e6f1529-6b6f-4f86-946f-8b9dd83e28ae",
   "metadata": {},
   "outputs": [
    {
     "name": "stdout",
     "output_type": "stream",
     "text": [
      "GOETHE.\n"
     ]
    }
   ],
   "source": [
    "%%bash\n",
    "sed -n /Goethe/'{ \n",
    "y/oethe/OETHE/ \n",
    "p }' ../03/wahlverwandschaften.txt"
   ]
  },
  {
   "cell_type": "markdown",
   "id": "822bbbe2-6a5e-4148-a310-5513ccfd72f5",
   "metadata": {},
   "source": [
    "### Substitute (.,.)s/re/repl/\\[flags\\]\n",
    "* sucht und ersetzt den regulären Ausdruck `re` mit `repl`\n",
    "* akzeptiert Adresssequenzen\n",
    "* optionale `flags` parameter:\n",
    "  * g ersetzt alle Vorkommen von `re` in einer Zeile\n",
    "  * n ersetzt nur das n-te Vorkommen von `re`\n",
    "  * p gibt die Zeile aus (meist in Kombination mit `-n`)\n",
    "  * w `file` schreibt die Zeile nach `file`\n",
    "* die Begrenzungszeichen (`/`) können durch beliebige andere Zeichen ersetzt werden: `s!/usr/mail!/usr2/mail!`\n",
    "* `&` referenziert das gesamte gefundene Suchmuster\n",
    "* `\\1...\\9` referenzieren die entsprechenden Untergruppen im gefundenen Suchmuster\n"
   ]
  },
  {
   "cell_type": "code",
   "execution_count": 48,
   "id": "06f4c95a-1cb8-4bfd-8f53-a92033d17a71",
   "metadata": {},
   "outputs": [
    {
     "name": "stdout",
     "output_type": "stream",
     "text": [
      "Roman Ein [Ein Roman] \n",
      "Theil. Erster [Erster Theil.] \n",
      "der in [in der ] G. J. [J. G. ] Buchhandlung. Cottaischen [Cottaischen Buchhandlung.] \n",
      "Theil. Erster [Erster Theil.] \n",
      "1 I. [I. 1] \n",
      "Kapitel. Erstes [Erstes Kapitel.] \n",
      "— Eduard [Eduard — ] nennen so [so nennen ] einen wir [wir einen ] reichen\n",
      "im Baron [Baron im ] Mannesalter besten [besten Mannesalter ] Eduard — [— Eduard] \n",
      "in hatte [hatte in ] Baumschule seiner [seiner Baumschule ] schönste die [die schönste ] Stun-\n",
      "eines de [de eines ] zugebracht, Aprilnachmittags [Aprilnachmittags zugebracht, ] um\n"
     ]
    }
   ],
   "source": [
    "%%bash\n",
    "sed -nE -e 's/([^ ]+)\\s+([^ ]+)\\s*/\\2 \\1 [&] /gp' ../03/wahlverwandschaften.txt | head"
   ]
  },
  {
   "cell_type": "code",
   "execution_count": 106,
   "id": "91350045-cd21-4e63-a0f0-4d2e40f543b8",
   "metadata": {},
   "outputs": [
    {
     "name": "stdout",
     "output_type": "stream",
     "text": [
      "<num>1809</num>.\n",
      "I. <num>1</num>\n",
      "I. <num>2</num>\n",
      "<num>2</num> *\n",
      "I. <num>3</num>\n",
      "<num>3</num> *\n",
      "I. <num>4</num>\n",
      "<num>4</num> *\n",
      "I. <num>5</num>\n",
      "<num>5</num> *\n",
      "I. <num>6</num>\n",
      "<num>6</num> *\n"
     ]
    }
   ],
   "source": [
    "%%bash\n",
    "sed -E -e 's#([0-9]+)#<num>\\1</num>#g' ../03/wahlverwandschaften.txt | grep num"
   ]
  },
  {
   "cell_type": "markdown",
   "id": "4adea7fb-f490-49ee-a5e5-8f2f4241f77d",
   "metadata": {},
   "source": [
    "## awk\n",
    "* bennant nach den Initialen der drei Ursprungsautoren:\n",
    "  * Alfred V. Aho\n",
    "  * Peter J. Weinberger\n",
    "  * Brian Kernighan\n",
    "* bietet eine `little language` zur Daten- bzw. Textmanipulation\n",
    "* liegt irgendwo zwischen Shell-Skripten und echten Programmiersprachen\n",
    "\n",
    "| Name | awk - Mustererkennungs- und Textmanipulationssprache |\n",
    "|:---|:---|\n",
    "|Überblick| awk \\[-W option\\] \\[-F value\\] \\[-v var=value\\] \\[--\\] 'program text' \\[file\\]... |\n",
    "|         | awk \\[-W option\\] \\[-F value\\] \\[-v var=value\\] \\[-f program-file\\]... \\[--\\] \\[file\\]... |\n",
    "| Beschreibung | Interpreter für die AWK Programmiersprache (Beschrieben in Aho, |\n",
    "|              | Kerninghan and Weinberger, The AWK Programming Language, |\n",
    "|              | Addison-Wesley Publishing, 1988). |\n",
    "|              | Ein AWK Programm ist eine Sequenz von `pattern {actions...}` Paaren |\n",
    "|              | und Funktionsdefinitionen. |\n",
    "| Wichtige Optionen: | |\n",
    "| -F value | Setzt den Feldseparator FS auf `value` |\n",
    "| -f file | Programm wird von `file` gelesen |\n",
    "| -v var=value | Setzt `var` auf `value` |\n",
    "| -- | Markiert eindeutig das Ende der Kommandozeilenoptionen |\n"
   ]
  },
  {
   "cell_type": "markdown",
   "id": "5aa3dfd5-1db3-4347-8e64-e692524464d3",
   "metadata": {},
   "source": [
    "### awk Grundlagen\n",
    "* Dateien bzw. `stdin` werden Zeilenweise gelesen\n",
    "* jede Zeile wird an einem Feldseparator aufgespalten\n",
    "* die einzelnen Felder werden in den Variablen `$1, $2, ...` gespeichert\n",
    "* in der Variable `$0` ist die gesamte Zeile gespeichert\n",
    "* weitere vordefinierte Variablen:\n",
    "  * `FS` Feldseparator (Standardwert=' ')\n",
    "  * `OFS` Ausgabefeldseparator (Standardwert=' ')\n",
    "  * `NF` Anzahl der Felder in der aktuellen Zeile\n",
    "  * `NR` aktuelle Zeilennummer\n",
    "  * `FILENAME` aktueller Dateipfad\n",
    "  * `SUBSEP` Separator für multidimensionale Arrays (siehe unten)\n",
    "* für jede Zeile werden dann die `pattern {actions...}` Paare ausgeführt:\n",
    "  * `pattern` definiert eine Bedingung (regulärer Ausdruck, logischer Test, usw.)\n",
    "  * `actions...` werden nur dann ausgeführt wenn `pattern` auf die aktuelle Zeile passt\n",
    "  * das spezielle `BEGIN {action...}` Paar wird einmal vor dem Lesen der Zeilen ausgeführt\n",
    "  * das spezielle `END {action...}` Paar wird einmal nach dem Lesen der Zeilen ausgeführt\n",
    "* alle Variablen sind global und existieren solange das Programm läuft\n",
    "* Variablen werden standardmäßig mit 0 initialisiert\n",
    "* Variablen sind Wahrheitswerte, Zahlen, Strings oder Arrays\n"
   ]
  },
  {
   "cell_type": "code",
   "execution_count": 84,
   "id": "ee47898b-b311-49b9-95fa-8742eff7c444",
   "metadata": {
    "tags": []
   },
   "outputs": [
    {
     "name": "stdout",
     "output_type": "stream",
     "text": [
      "../03/wahlverwandschaften.txt:1:1: Die\n",
      "../03/wahlverwandschaften.txt:2:1: Wahlverwandtschaften.\n",
      "../03/wahlverwandschaften.txt:4:1: Ein\n",
      "../03/wahlverwandschaften.txt:4:2: Roman\n",
      "../03/wahlverwandschaften.txt:5:1: von\n",
      "../03/wahlverwandschaften.txt:6:1: Goethe.\n",
      "../03/wahlverwandschaften.txt:8:1: Erster\n",
      "../03/wahlverwandschaften.txt:8:2: Theil.\n",
      "../03/wahlverwandschaften.txt:10:1: Tübingen,\n",
      "../03/wahlverwandschaften.txt:11:1: in\n"
     ]
    }
   ],
   "source": [
    "%%bash\n",
    "awk '{ for (i = 1; i <= NF; i++) {cprint FILENAME \":\" NR \":\" i \": \" $i}}' ../03/wahlverwandschaften.txt | sed 10q"
   ]
  },
  {
   "cell_type": "code",
   "execution_count": 89,
   "id": "b2fc27d9-3ad7-449f-ae72-1b125be83171",
   "metadata": {
    "tags": []
   },
   "outputs": [
    {
     "name": "stdout",
     "output_type": "stream",
     "text": [
      "Die\n",
      "Wahlverwandtschaften.\n",
      "<<BLANK>>\n",
      "Ein Roman\n",
      "von\n",
      "Goethe.\n",
      "<<BLANK>>\n",
      "Erster Theil.\n",
      "<<BLANK>>\n",
      "Tübingen,\n"
     ]
    }
   ],
   "source": [
    "%%bash\n",
    "awk '/^$/ {print \"<<BLANK>>\"} !/^$/ {print $0}' ../03/wahlverwandschaften.txt | sed 10q"
   ]
  },
  {
   "cell_type": "markdown",
   "id": "49caf2a0-433a-46ff-9ba3-42d434e9515c",
   "metadata": {},
   "source": [
    "### Relationale und Boolsche Operatoren\n",
    "\n",
    "| Operator | Beschreibung |\n",
    "| :--- | :--- |\n",
    "| `<`  | kleiner als |\n",
    "| `>`  | größer als |\n",
    "| `<=` | kleiner oder gleich |\n",
    "| `>=` | größer oder gleich |\n",
    "| `==` | gleich |\n",
    "| `!=` | gleich |\n",
    "| `~`  | Mustervergleich (regulärer Ausdruck) |\n",
    "| `!~` | negierter Mustervergleich (regulärer Ausdruck) |\n",
    "| `&&` | logisches und |\n",
    "| `\\|\\|` | logisches oder |\n",
    "| `!`  | Negation |\n"
   ]
  },
  {
   "cell_type": "markdown",
   "id": "44030ee5-a27e-47f0-979d-a9a673448ffc",
   "metadata": {},
   "source": [
    "### Arithmetische Operatoren und Zuweisungen\n",
    "\n",
    "| Operator | Beschreibung |\n",
    "| :--- | :--- |\n",
    "| `+`  | Addition |\n",
    "| `-`  | Subtraktion |\n",
    "| `*` | Multiplikation |\n",
    "| `/` | Division |\n",
    "| `^` | Potenz |\n",
    "| `%` | Modulo |\n",
    "| `++` | Inkrement |\n",
    "| `--` | Dekrement |\n",
    "| `=` | Zuweisung |\n",
    "| `+=` | Weist das Ergebnis einer Addition zu |\n",
    "| `-=` | Weist das Ergebnis einer Subtraktion zu |\n",
    "| `*=` | Weist das Ergebnis einer Multiplikation zu |\n",
    "| `/=` | Weist das Ergebnis einer Division zu |\n",
    "| `%=` | Weist das Ergebnis einer Modulo-Operation zu |\n",
    "| `^=` | Weist das Ergebnis einer Potenz-Operation zu |\n",
    "\n",
    "\n"
   ]
  },
  {
   "cell_type": "code",
   "execution_count": 86,
   "id": "7e4a9977-7234-496f-8e2f-b1ea913261ad",
   "metadata": {
    "tags": []
   },
   "outputs": [
    {
     "name": "stdout",
     "output_type": "stream",
     "text": [
      "57 rechts das Thal und man sieht über die rei-\n",
      "153 dige habe ich gesorgt; auch drückt es ihn nicht\n",
      "165 zu legen, oder noch weiter zu studiren, sich wei-\n",
      "183 gemäß. Er soll nicht wirken; er soll sich auf-\n",
      "217 Ich fühle nur zu sehr, daß mir ein Mann die-\n",
      "239 mit Recht, weil sie zu thun, zu wirken beru-\n",
      "273 Jahren sind, so bin ich als Frau wohl älter\n",
      "275 ich dir nicht versagen, was du für dein einzi-\n",
      "297 zu kommen, nur für dich allein zu leben; laß\n",
      "345 dem er sich die Stirne rieb, bey alle dem,\n"
     ]
    }
   ],
   "source": [
    "%%bash\n",
    "awk 'NF > 8 && NR%2 != 0 {print NR \" \" $0}' ../03/wahlverwandschaften.txt | sed 10q"
   ]
  },
  {
   "cell_type": "code",
   "execution_count": 81,
   "id": "16c404ff-eafe-44d5-9c5e-aacbc93ea929",
   "metadata": {
    "tags": []
   },
   "outputs": [
    {
     "name": "stdout",
     "output_type": "stream",
     "text": [
      "26 de eines Aprilnachmittags zugebracht, um\n",
      "33 des Herrn ergetzte.\n",
      "42 der Gärtner. Die Mooshütte wird heute\n",
      "47 das Dorf, ein wenig rechter Hand die Kir-\n",
      "75 der Pfad nach den neuen Anlagen in zwey\n",
      "160 das ist eigentlich seine Qual. Das Vielfache,\n",
      "180 diese verschiedenen Gelegenheiten, diese An-\n",
      "250 die Berufung des Hauptmanns nicht so ganz\n",
      "268 der Erinnerung, wir liebten die Erinnerung,\n",
      "295 das Aeußere und was ins Ganze geht. Meine\n"
     ]
    }
   ],
   "source": [
    "%%bash\n",
    "awk '$1 ~ /^d[erias]+$/ {print NR \" \" $0}' ../03/wahlverwandschaften.txt | sed 10q"
   ]
  },
  {
   "cell_type": "markdown",
   "id": "cb6ef7f3-6252-49cf-9cc3-934b0d693bca",
   "metadata": {},
   "source": [
    "### Schleifen, Bedingungen und eingebaute Funktionen\n",
    "\n",
    "| Operator | Beschreibung |\n",
    "| :--- | :--- |\n",
    "| `while (condition) {actions...}`  | führt `actions` aus solange `condition` wahr ist |\n",
    "| `do {actions...} while (condition)`  | führt `actions` aus solange `condition` wahr ist (mindestens einmal) |\n",
    "| `for (init; condition; increment) {actions...}` | führt `actions` aus solange `condition` wahr ist |\n",
    "| `for (i in arr) {actions...}` | iteriert über alle Indizes des Arrays `arr` und führt `actions` in jedem Durchlauf aus |\n",
    "| `if (condition) {actions...}`| führt `actions` aus falls `condition` wahr ist |\n",
    "| `if (condition) {actions1...} else {actions2...}`| führt `actions1` aus falls `condition` wahr ist; ansonsten wird `actions2` ausgeführt |\n",
    "| `if (condition2) {actions1...} else if (condition2) {actions2...} ...`| führt `actions1` aus falls `condition` wahr ist; ansonsten wenn `condition2` wahr ist wird `actions2` ausgeführt |\n",
    "| `cos(expr), sin(expr), exp(expr), log(expr), ...` | verschiedene arithmetische Funktionen |\n",
    "| `lower(str)` | konvertiert `str` in Kleinschreibung |\n",
    "| `index(str, sub)` | liefert den Index von `sub` im String `str` zurück |\n",
    "| `length(str)` | liefert die Länge des Strings zurück |\n",
    "| `split(str, arr, sep)` | trennt `str` an `sep` auf und speichert die Felder im array `arr` |\n",
    "| `print ...` | Gibt Strings nach `stdout` aus |\n",
    "| `printf ...` | Gibt formatierte Strings nach `stdout` aus |\n"
   ]
  },
  {
   "cell_type": "code",
   "execution_count": 83,
   "id": "001f8257-acb7-4e19-87f2-c73f578bf619",
   "metadata": {
    "tags": []
   },
   "outputs": [
    {
     "name": "stdout",
     "output_type": "stream",
     "text": [
      "Wahlverwandtschaften.\n",
      "Goethe.\n",
      "Erster\n",
      "Theil.\n",
      "Tübingen,\n",
      "Cottaischen\n",
      "Buchhandlung.\n",
      "Wahlverwandtschaften.\n",
      "Erster\n",
      "Theil.\n"
     ]
    }
   ],
   "source": [
    "%%bash\n",
    "awk '{for (i = 1; i <= NR; i++) {if (length($i) > 5){print $i}}}' ../03/wahlverwandschaften.txt | sed 10q"
   ]
  },
  {
   "cell_type": "markdown",
   "id": "39548e61-cd35-4e34-a6ad-302b6ed1156a",
   "metadata": {},
   "source": [
    "### Arrays\n",
    "* awk verfügt über sog. *assoziativen Arrays*\n",
    "* einziger komplexer Datentyp\n",
    "* mit Python-Dictionaries vergleichbar\n",
    "* Schlüssel müssen Strings oder Zahlen sein\n",
    "* setzen mit `arr[key] = val`\n",
    "* Abfragen mit `x = arr[key]`\n",
    "* Löschen von Einträgen mit `delete arr[key]`\n",
    "* Iteration über die Schlüssel eines Arrays mit `for (key in arr) {...}`\n",
    "* multidimensionale Arrays mit `,` möglich: `arr[0, 0] = x` (siehe `SUBSEP` oben)\n"
   ]
  },
  {
   "cell_type": "markdown",
   "id": "3f725233-50ba-4a0f-87b3-26453f7fdfe1",
   "metadata": {},
   "source": [
    "### Skripte\n",
    "* mit der `-f` Option können auch awk-Skripte ausgeführt werden\n",
    "* mit einer Shebang Zeile können die Skripte auch direkt ausgeführt werden\n",
    "* Kommandozeilenargumente stehen in der `ARGV` Variable\n",
    "* Die Laufzeitumgebung steht in der `ENVIRON` Variable\n",
    "* Kommentare wie in Python oder Shell-Skripten mit `#`\n"
   ]
  },
  {
   "cell_type": "code",
   "execution_count": 100,
   "id": "ce78b80a-47c5-4b44-bc16-79cd0db79fe7",
   "metadata": {
    "tags": []
   },
   "outputs": [
    {
     "name": "stdout",
     "output_type": "stream",
     "text": [
      "1 4\n",
      "2 5\n",
      "3 6\n"
     ]
    }
   ],
   "source": [
    "%%bash\n",
    "echo -e \"1 2 3\\n4 5 6\" | awk -f transpose.awk"
   ]
  },
  {
   "cell_type": "markdown",
   "id": "2c54191b",
   "metadata": {},
   "source": [
    "## Übungsaufgaben\n",
    "### 1. Aufgabe `gres`\n",
    "Schreiben Sie ein Skript `gres.bash`, das für einen regulären Ausdruck\n",
    "RE (im ERE-Format), eine Ersezung REPL und einem Dateipfad FILE von\n",
    "der Kommandozeile, diejenigen Zeilen in der Datei FILE ausgibt, auf\n",
    "die RE passt. Dabei soll jedes Vorkommen von RE in den ausgegebenen\n",
    "Zeilen durch REPL ersetzt werden.\n",
    "```bash\n",
    "$cat file.txt\n",
    "Fuchs, du\n",
    "hast die\n",
    "Gans gestohlen.\n",
    "./gres.bash '[A-Z]' '00' file.txt\n",
    "00uchs, du\n",
    "00ans gestohlen.\n",
    "$\n",
    "```\n",
    "\n",
    "Wegen den übergebenen regulären Ausdrücken auf der Kommandozeile\n",
    "können Fehler im Skript auftreten.  Welche Fehler können auftreten und\n",
    "wie kann man diese Fehler beheben?\n",
    "\n",
    "### 2. Aufgabe `dirsize`\n",
    "Schreiben Sie ein Skript `dirsize.bash`, das für die übergebenen\n",
    "Verzeichnispfade die Größe (in Kilobytes) des Verzeichnisses berechnet\n",
    "(= Summe der Größe aller Dateien unterhalb des Verzeichnisses). Sie\n",
    "können davon ausgehen das sich unter den Verzeichnissen nur Dateien\n",
    "befinden. Beispiel:\n",
    "```bash\n",
    "$./dirsize.bash dir1 dir2\n",
    "dir1: 10K\n",
    "dir2: 100K\n",
    "$\n",
    "```\n",
    "\n",
    "Wie kann man das Skript so anpassen, dass es auch rekursiv die Größe\n",
    "von Unterverzeichnissen mit beachtet?\n",
    "\n",
    "### 3. Aufgabe `bigrams.awk`\n",
    "\n",
    "Schreiben Sie ein awk-Skript `bigrams.awk`, das einen Text von `stdin`\n",
    "ließt, die Bigramme im Eingabetext berechnet und dann die\n",
    "Bigrammfolgen mit ihren\n",
    "[λ-geglätteten](https://cis-sp2021.github.io/06_naive_bayes.pdf)\n",
    "relativen Häufigkeiten ausgibt. Die Variable λ soll dem Skript auf der\n",
    "Kommandozeile übergeben werden (Standardwert=1).  Beispiel:\n",
    "\n",
    "```bash\n",
    "$ cat file.txt | tr '[:punct:]' ' ' | awk -f bigrams.awk 0.1\n",
    "...\n",
    "erste bigram 0.3\n",
    "zweites bigram 0.1\n",
    "...\n",
    "$\n",
    "```"
   ]
  },
  {
   "cell_type": "code",
   "execution_count": null,
   "id": "d60bf964-1ee7-4070-9143-35d34220cb8e",
   "metadata": {},
   "outputs": [],
   "source": []
  }
 ],
 "metadata": {
  "kernelspec": {
   "display_name": "Python 3",
   "language": "python",
   "name": "python3"
  },
  "language_info": {
   "codemirror_mode": {
    "name": "ipython",
    "version": 3
   },
   "file_extension": ".py",
   "mimetype": "text/x-python",
   "name": "python",
   "nbconvert_exporter": "python",
   "pygments_lexer": "ipython3",
   "version": "3.7.3"
  },
  "metadata": {
   "interpreter": {
    "hash": "31f2aee4e71d21fbe5cf8b01ff0e069b9275f58929596ceb00d14d90e3e16cd6"
   }
  }
 },
 "nbformat": 4,
 "nbformat_minor": 5
}
