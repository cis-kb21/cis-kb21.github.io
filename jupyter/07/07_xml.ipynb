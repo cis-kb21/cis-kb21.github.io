{
 "cells": [
  {
   "cell_type": "markdown",
   "id": "55d8c5dd",
   "metadata": {},
   "source": [
    "# XML - Entiäten und Dokumenttypdefinitionen\n",
    "## Entitäten\n",
    "* Entitäten in XML: `&entity-name;`\n",
    "* Et-Zeichen: `&amp;`\n",
    "* einfaches Anführungszeichen: `&apos;`\n",
    "* doppeltes Anführungszeichen: `&quot;`\n",
    "* größer als: `&gt;`\n",
    "* kleiner als: `&lt;`\n",
    "* eigene Definitionen (Makros) möglich\n"
   ]
  },
  {
   "cell_type": "code",
   "execution_count": 47,
   "id": "8716bb83",
   "metadata": {},
   "outputs": [
    {
     "name": "stdout",
     "output_type": "stream",
     "text": [
      "\n",
      "    if 1 > 20:\n",
      "        print('Eins ist größer als zwanzig!')\n",
      "\n"
     ]
    }
   ],
   "source": [
    "import xml.etree.ElementTree as ET\n",
    "doc = '''\n",
    "<programm>\n",
    "    if 1 &gt; 20:\n",
    "        print(&apos;Eins ist größer als zwanzig!&apos;)\n",
    "</programm>\n",
    "'''\n",
    "root = ET.fromstring(doc)\n",
    "print(root.text)"
   ]
  },
  {
   "cell_type": "markdown",
   "id": "b403b98e",
   "metadata": {},
   "source": [
    "## Dokumenttypdefinitionen (DTD)\n",
    "* Regeln aus welchen Elementen, Attributen und Entitäten ein\n",
    "  XML-Dokument bestehen darf/muss\n",
    "* sorgt für einheitliche Auszeichnung von Daten\n",
    "* DTD's können in XML referenziert werden:\n",
    "  * inline im Prolog des Dokuments\n",
    "  * über private Datei: `<!DOCTYPE name SYSTEM \"file.dtd\">`\n",
    "  * auf öffentliche DTD verweisen: `<!DOCTYPE html PUBLIC \"-//W3C//DTD XHTML 1.0 Transitional//EN\"\n",
    "    \"http://www.w3.org/TR/xhtml1/DTD/xhtml1-transitional.dtd\">`\n",
    "* die externe Python-Bibliothek [lxml](https://lxml.de) unterstützt\n",
    "  DTD-Validation\n"
   ]
  },
  {
   "cell_type": "code",
   "execution_count": 24,
   "id": "37fccb03",
   "metadata": {},
   "outputs": [
    {
     "name": "stdout",
     "output_type": "stream",
     "text": [
      "Requirement already satisfied: pip in /home/flo/devel/work/jupyter/venv/lib/python3.7/site-packages (21.1.2)\n",
      "Requirement already satisfied: lxml in /home/flo/devel/work/jupyter/venv/lib/python3.7/site-packages (4.6.3)\n",
      "False\n"
     ]
    }
   ],
   "source": [
    "import sys\n",
    "!{sys.executable} -m pip install --upgrade pip lxml\n",
    "from lxml import etree\n",
    "\n",
    "with open('programmsammlung.dtd') as f:\n",
    "    dtd = etree.DTD(f)\n",
    "with open('programmsammlung.xml') as f:\n",
    "    root = etree.XML(f.read())\n",
    "\n",
    "print(dtd.validate(root))"
   ]
  },
  {
   "cell_type": "markdown",
   "id": "cb469312",
   "metadata": {},
   "source": [
    "### Elementdeklarationen\n",
    "\n",
    "|Operator | Funktion|\n",
    "|:---|:---|\n",
    "|`#PCDATA` |  Textinhalt |\n",
    "|`ANY` | Beliebiger Inhalt |\n",
    "|`EMPTY` | Leeres Element |\n",
    "|`Element` | Das Element muss genau einmal auftreten.|\n",
    "|`Element*` | Das Element kann entweder gar nicht auftreten oder es kann beliebig oft auftreten.|\n",
    "|`Element+` | Das Element muss mindestens einmal auftreten oder es kann beliebig oft auftreten.|\n",
    "|`Element?` | Das Element kann entweder gar nicht auftreten oder es kann genau einmal auftreten.|\n",
    "|`Element1,Element2,..` | Gibt eine festgelegte Sequenz von Elementen an.|\n",
    "|`Element1|Element2|..` | Gibt eine Reihe von Alternativen an, aus der immer nur genau eine auftreten darf.|\n",
    "|`(Element1 Op Element2..)` | Definiert eine Elementgruppe.|\n",
    "\n",
    "### Attributdeklarationen\n",
    "\n",
    "|Operator | Funktion|\n",
    "|:---|:---|\n",
    "|`#REQUIRED` | Attribut dar nicht ausgelassen werden. |\n",
    "|`#IMPLIED` | Attribut kann ausgelassen werden. |\n",
    "|`#FIXED \"...\"` | Attribut muss einen fixen Wert haben. |\n",
    "|`\"...\"` | Standardwert, wenn Attribut ausgelassen wird. |\n",
    "|`ID` | Ein eindeutiger Identifizierer.|\n",
    "|`Character Data (CDATA)` | Zeichendaten, die nicht verarbeitet werden. |\n",
    "|`(Wert1\\|Wert2\\|...)` | Ein Wert aus einer Aufzählung. |\n",
    "\n",
    "Beispiel:\n",
    "```\n",
    "<!ATTLIST Element1\n",
    " Attribut1 ID #REQUIRED\n",
    " Attribut2 CDATA #IMPLIED\n",
    ">\n",
    "```\n"
   ]
  },
  {
   "cell_type": "code",
   "execution_count": 48,
   "id": "a1572062",
   "metadata": {},
   "outputs": [
    {
     "name": "stdout",
     "output_type": "stream",
     "text": [
      "copyright: Copyright by Erika & Max Muſtermann (ⅯⅯⅩⅩⅠ)\n"
     ]
    }
   ],
   "source": [
    "doc = '''<?xml version=\"1.0\" encoding=\"UTF-8\"?>\n",
    "<!DOCTYPE programm [\n",
    "    <!ENTITY year \"ⅯⅯⅩⅩⅠ\">\n",
    "    <!ENTITY longs \"ſ\">\n",
    "    <!ENTITY cpr \"Copyright by Erika &amp; Max Mu&longs;termann (&year;)\">\n",
    "]>\n",
    "<programm>\n",
    "    <name>simple_loop.py</name>\n",
    "    <sprache>Python</sprache>\n",
    "    <code>for p in persons:\n",
    "            print(p.name + \" \" + p.age)\n",
    "    </code>\n",
    "    <copyright>&cpr;</copyright>\n",
    "</programm>\n",
    "'''\n",
    "root = ET.fromstring(doc)\n",
    "print(\"copyright: \" + root.find('copyright').text)"
   ]
  },
  {
   "cell_type": "markdown",
   "id": "6e0b03ff",
   "metadata": {},
   "source": [
    "## Aufgaben\n",
    "### Aufgabe 1 xmltcf\n",
    "\n",
    "Im deutschen Textarchiv findet man auch annotierte Daten zu den\n",
    "entsprechenden Dokumenten.  Laden Sie eine solche lemmatisierte und\n",
    "annotierte XML-Datei herunter (z.B.:\n",
    "[Altmann](https://www.deutschestextarchiv.de/book/download_fulltcf/16299))\n",
    "und schreiben Sie ein Programm, das eine zeilenweise die Sätze\n",
    "ausgibt, wobei die Token entweder mit ihren Lemmata oder irhen Tags\n",
    "annotiert sind:\n",
    "```bash\n",
    "$ ./xmltcf.py file.xml\n",
    "Ich/ich gehe/gehen ...\n",
    "$ ./xmltcf.py --tags file.xml\n",
    "Der/DET Mann/NOUN ...\n",
    "```\n"
   ]
  }
 ],
 "metadata": {
  "kernelspec": {
   "display_name": "Python 3",
   "language": "python",
   "name": "python3"
  },
  "language_info": {
   "codemirror_mode": {
    "name": "ipython",
    "version": 3
   },
   "file_extension": ".py",
   "mimetype": "text/x-python",
   "name": "python",
   "nbconvert_exporter": "python",
   "pygments_lexer": "ipython3",
   "version": "3.7.3"
  }
 },
 "nbformat": 4,
 "nbformat_minor": 5
}
