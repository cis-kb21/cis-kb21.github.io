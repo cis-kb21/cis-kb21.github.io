{
 "cells": [
  {
   "cell_type": "markdown",
   "id": "314f8f0f-aa17-4d5d-96d5-888d9efb816b",
   "metadata": {
    "tags": []
   },
   "source": [
    "# Shell-Skripte\n",
    "* interaktive Befehle können auch in *Shell-Skripten*\n",
    "    zusammengefasst und ausgeführt werden\n",
    "* Shell-Skripte werden zeilenweise gelesen und abgearbeitet\n",
    "* Token werden an Leerzeichen aufgetrennt\n",
    "* mehrere Befehle auf einer Zeile werden mit `;` getrennt\n",
    "* geeigntet für kurze Hilfsprogramme \n",
    "* geeignet zur einfachen Stringverarbeitung\n",
    "* numerische Anwendungen nur sehr eingeschränkt möglich\n",
    "* Shell-Skripte bieten auch Möglichkeiten Verzweigungen und Schleifen\n",
    "    zu verwenden (`if`, `case`, `for`...)\n",
    "* Listen und assoziative Listen sind vorhanden (seit\n",
    "    `bash 4.0`) aber sehr arkane Syntax\n",
    "    \n",
    "## &Uuml;berblick\n",
    "* Ausf&uuml;hren von Skripten\n",
    "* Ausgabe von Strings\n",
    "* Variablen\n",
    "* Globbing\n",
    "* Kommandozeilenargumente\n",
    "* `if ...; then ... fi`\n",
    "* `for ... in ...; do ... done`\n",
    "* Arbeiten mit ganzzahligen Ausdr&uuml;cken\n",
    "* `while`, `case`, `function`, ... \n",
    "* &Uuml;bungsaufgaben\n",
    "\n",
    "## Hello World"
   ]
  },
  {
   "cell_type": "code",
   "execution_count": 67,
   "id": "fae58ea2-123a-4dfa-94ae-bade4bf3d42f",
   "metadata": {
    "tags": []
   },
   "outputs": [
    {
     "name": "stdout",
     "output_type": "stream",
     "text": [
      "Hello world!\n"
     ]
    }
   ],
   "source": [
    "%%bash\n",
    "#!/bin/bash\n",
    "echo \"Hello world!\""
   ]
  },
  {
   "cell_type": "markdown",
   "id": "1a0b515f-523f-4a42-b5da-7cc694a401fb",
   "metadata": {},
   "source": [
    "Die sog. *shebang*-Zeile (bzw. *shabang*, *hashbang*, ...) dient dem direkten Ausführen von Programmen.\n",
    "Wenn der Unix-Kernel ein Programm ausführt, schaut er die ersten beiden Bytes des Programms an.\n",
    "Sind die ersten beiden Bytes `#!`, erwartet er den Pfad zu einem Interpreter-Programm, welches die Datei ausf&uuml;hrt:\n",
    "* `#!/bin/bash`\n",
    "* `#!/usr/bin/perl`\n",
    "* `#!/usr/bin/env python`\n",
    "* ...\n",
    "\n",
    "### Ausführen von Shell-Skripten"
   ]
  },
  {
   "cell_type": "code",
   "execution_count": 68,
   "id": "73508bf2-4e40-407c-a95e-03b01ead5345",
   "metadata": {},
   "outputs": [
    {
     "name": "stdout",
     "output_type": "stream",
     "text": [
      "Hello world!\n"
     ]
    }
   ],
   "source": [
    "%%bash\n",
    "bash hello.bash"
   ]
  },
  {
   "cell_type": "code",
   "execution_count": 69,
   "id": "e883daca-a140-421c-87b6-1c21cf2bb0a8",
   "metadata": {},
   "outputs": [
    {
     "name": "stdout",
     "output_type": "stream",
     "text": [
      "Hello world!\n"
     ]
    }
   ],
   "source": [
    "%%bash\n",
    "chmod a+x hello.bash # Später\n",
    "./hello.bash"
   ]
  },
  {
   "cell_type": "markdown",
   "id": "36d7ce9b-8456-4566-95e9-baeb1235da11",
   "metadata": {
    "tags": []
   },
   "source": [
    "### echo\n",
    "| Name | echo - Gibt eine Textzeile aus |\n",
    "|:---|:---|\n",
    "|&#0220;berblick| echo [OPTION]... [STRING]...|\n",
    "| Beschreibung | Gibt die STRING-Argumente durch Leerzeichen separiert aus |\n",
    "|Wichtige Optionen:| |\n",
    "| -n | Gibt keinen Zeilenumbruch aus |\n",
    "| -e | Interpretiert Escape-Sequenzen (`\\n`, `\\t`, `\\a`, `\\\\` ...) |"
   ]
  },
  {
   "cell_type": "code",
   "execution_count": 70,
   "id": "de5a7024-a60d-4ec7-a8ad-516e06e47346",
   "metadata": {},
   "outputs": [
    {
     "name": "stdout",
     "output_type": "stream",
     "text": [
      "Hello\n",
      "world!\n"
     ]
    }
   ],
   "source": [
    "%%bash\n",
    "echo -e \"Hello\\nworld!\""
   ]
  },
  {
   "cell_type": "code",
   "execution_count": 71,
   "id": "0b9d0580-e74d-474f-a8b3-ebef4728e1f3",
   "metadata": {},
   "outputs": [
    {
     "name": "stdout",
     "output_type": "stream",
     "text": [
      "Hello world!\n"
     ]
    }
   ],
   "source": [
    "%%bash\n",
    "echo -n \"Hello \"\n",
    "echo \"world!\""
   ]
  },
  {
   "cell_type": "code",
   "execution_count": 72,
   "id": "b8ba028e-45c6-431a-90ef-3e843c7f16f1",
   "metadata": {},
   "outputs": [
    {
     "name": "stdout",
     "output_type": "stream",
     "text": [
      "Hello\\world!\n"
     ]
    }
   ],
   "source": [
    "%%bash\n",
    "echo -e \"Hello\\\\world!\""
   ]
  },
  {
   "cell_type": "code",
   "execution_count": 73,
   "id": "bed92148-5c4a-4627-b8c4-8d66580e7f28",
   "metadata": {},
   "outputs": [
    {
     "name": "stdout",
     "output_type": "stream",
     "text": [
      "Hello world!\n"
     ]
    }
   ],
   "source": [
    "%%bash\n",
    "echo Hello world!"
   ]
  },
  {
   "cell_type": "markdown",
   "id": "53481da0-1df0-480f-a0de-264de0c8a343",
   "metadata": {
    "tags": []
   },
   "source": [
    "## Variablen\n",
    "* alle Variablen sind Strings (alternative Syntax für ganzzahlig Arithmetik)\n",
    "* eine Variable wird durch `var=val` gesetzt (keine\n",
    "    Leerzeichen möglich)\n",
    "* auf den Wert einer Varibale wird mit `$var`\n",
    "    oder `${var}` zugegriffen\n",
    "* alle Variablen in einem Skript sind **global**\n",
    "    (alternative Syntax für lokale Variablen in Funktionen)\n",
    "* in Strings mit doppelten Anführungszeichen werden Variablen\n",
    "    automatisch ersetzt\n",
    "* in Strings mit einfachen Anführungszeichen werden Variablen **nicht** ersetzt\n",
    "* die Ausgabe von Programmen kann durch `var=$(...)` in Variablen gespeichert werden\n",
    "* auf die L&auml;nge des Strings in `var` kann mit `${#var}` zugegriffen werden"
   ]
  },
  {
   "cell_type": "code",
   "execution_count": 74,
   "id": "835d4346-a986-41d6-8b84-82cf34210680",
   "metadata": {
    "tags": []
   },
   "outputs": [
    {
     "name": "stdout",
     "output_type": "stream",
     "text": [
      "Hello world!\n"
     ]
    }
   ],
   "source": [
    "%%bash\n",
    "#!/bin/bash\n",
    "str=\"Hello world!\"\n",
    "echo $str"
   ]
  },
  {
   "cell_type": "code",
   "execution_count": 75,
   "id": "15cc9a1f-9e93-459d-b3e7-518edf8dd8ce",
   "metadata": {
    "tags": []
   },
   "outputs": [
    {
     "name": "stdout",
     "output_type": "stream",
     "text": [
      "Hello world!\n"
     ]
    }
   ],
   "source": [
    "%%bash\n",
    "#!/bin/bash\n",
    "str=\"Hello world!\"\n",
    "echo \"$str\""
   ]
  },
  {
   "cell_type": "code",
   "execution_count": 76,
   "id": "d0bcf387-f23d-44c7-affe-817f44080045",
   "metadata": {
    "tags": []
   },
   "outputs": [
    {
     "name": "stdout",
     "output_type": "stream",
     "text": [
      "Hello world!\n"
     ]
    }
   ],
   "source": [
    "%%bash\n",
    "#!/bin/bash\n",
    "str=\"Hello world!\"\n",
    "echo \"${str}\""
   ]
  },
  {
   "cell_type": "code",
   "execution_count": 77,
   "id": "cf1239e8-4267-4402-bdd8-c06a90e9074d",
   "metadata": {
    "tags": []
   },
   "outputs": [
    {
     "name": "stdout",
     "output_type": "stream",
     "text": [
      "${str}\n"
     ]
    }
   ],
   "source": [
    "%%bash\n",
    "#!/bin/bash\n",
    "str=\"Hello world!\"\n",
    "echo '${str}'"
   ]
  },
  {
   "cell_type": "code",
   "execution_count": 78,
   "id": "8f77afde-9ced-4c2b-9251-eb6949cde142",
   "metadata": {
    "tags": []
   },
   "outputs": [
    {
     "name": "stdout",
     "output_type": "stream",
     "text": [
      "hello world!\n"
     ]
    }
   ],
   "source": [
    "%%bash\n",
    "h=hello\n",
    "w=world!\n",
    "echo $h $w"
   ]
  },
  {
   "cell_type": "code",
   "execution_count": 79,
   "id": "818b7fc8-514f-4e73-b115-f1baddf4ac61",
   "metadata": {
    "tags": []
   },
   "outputs": [
    {
     "name": "stdout",
     "output_type": "stream",
     "text": [
      "Hello world!\n"
     ]
    }
   ],
   "source": [
    "%%bash\n",
    "var=$(echo Hello world!)\n",
    "echo $var"
   ]
  },
  {
   "cell_type": "markdown",
   "id": "64166a6c-fec8-40b9-9f6b-e590739a83ee",
   "metadata": {
    "tags": []
   },
   "source": [
    "## Globbing\n",
    "Die Shell verf&uuml;gt &uuml;ber eine eingebaute Mustererkennung um vor allem existierende Pfadnamen abzugleichen.\n",
    "* zwei speziellen *Platzhaltersymbole (wildcards)* `*` und `?`\n",
    "* `*` expandiert Null oder mehr Zeichen\n",
    "* `?` expandiert genau ein Zeichen\n",
    "* alle anderen Zeichen werden normal behandelt\n",
    "* expandiert in eine durch Leerzeichen separierte Liste von passenden Pfadnamen"
   ]
  },
  {
   "cell_type": "code",
   "execution_count": 36,
   "id": "ca5ea193-d8e2-47fe-82da-c7fe9c1834cb",
   "metadata": {
    "tags": []
   },
   "outputs": [
    {
     "name": "stdout",
     "output_type": "stream",
     "text": [
      "args.bash greet.bash greet-quoted.bash hello.bash shift.bash sum.bash\n"
     ]
    }
   ],
   "source": [
    "%%bash\n",
    "echo *.bash"
   ]
  },
  {
   "cell_type": "markdown",
   "id": "0a9af073-994b-4a6e-b54c-f056a6f59000",
   "metadata": {
    "tags": []
   },
   "source": [
    "## Kommandozeilenargumente\n",
    "Shell-Skripte verf&#0252;gen &#0252;ber spezielle eingebaute Variablen, mit der auf die Kommandozeilenargumente zugegriffen werden kann:\n",
    "* `$0` Pfad des Skripts\n",
    "* `$1` Erstes Kommandozeilenargument\n",
    "* `$2` Zweites Kommandozeilenargument\n",
    "* ...\n",
    "* `$N` N-tes Kommandozeilenargument\n",
    "* `$#` Index des letzten Arguments\n",
    "* `$@` Liste der Kommandozeilenargumente (durch Leerzeichen getrennt)"
   ]
  },
  {
   "cell_type": "code",
   "execution_count": 37,
   "id": "4d0a5efb-b2fd-490e-932f-08f7f741f743",
   "metadata": {
    "tags": []
   },
   "outputs": [
    {
     "name": "stdout",
     "output_type": "stream",
     "text": [
      "Skriptname: args.bash\n",
      "erstes Kommandozeilenargument: eins\n",
      "zweites Kommandozeilenargument: zwei\n",
      "drittes Kommandozeilenargument: drittes argument\n",
      "Index des letzten Kommandozeilenarguments: 4\n",
      "alle Kommandozeilenargumente: eins zwei drittes argument vier\n"
     ]
    }
   ],
   "source": [
    "%%bash\n",
    "bash args.bash eins zwei \"drittes argument\" vier"
   ]
  },
  {
   "cell_type": "markdown",
   "id": "6ace1abd-e3e6-4fff-844b-ef1f86decfa2",
   "metadata": {
    "tags": []
   },
   "source": [
    "### shift\n",
    "| Name | shift - Verschiebt Kommandozeilenargumente |\n",
    "|:---|:---|\n",
    "|&#0220;berblick| echo [N] |\n",
    "| Beschreibung | Benennt die Kommandozeilenparameter `$N+1`, `$N+2`, ... in `$1`, `$2`, ... um (`N=1` falls `N` nicht angegeben wurde) |\n"
   ]
  },
  {
   "cell_type": "code",
   "execution_count": 38,
   "id": "46a025c0-957c-4d4a-920b-4a6ca209204e",
   "metadata": {
    "tags": []
   },
   "outputs": [
    {
     "name": "stdout",
     "output_type": "stream",
     "text": [
      "erstes Kommandozeilenargument: eins\n",
      "zweites Kommandozeilenargument: zwei\n",
      "restliche Kommandozeilenargumente drei vier\n"
     ]
    }
   ],
   "source": [
    "%%bash\n",
    "bash shift.bash eins zwei drei vier"
   ]
  },
  {
   "cell_type": "markdown",
   "id": "4bdcf616-54d9-41bb-8b5c-14516e0f560b",
   "metadata": {
    "tags": []
   },
   "source": [
    "## Verzweigungen\n",
    "Mit `if`-Verzweigungen k&#246;nnen verschiedenen Bedingungen gepr&#0252;ft werden.\n",
    "\n",
    "Syntax:\n",
    "```bash\n",
    "if COND; then\n",
    "    BODY\n",
    "# Optional: else if\n",
    "elif COND; then\n",
    "    BODY\n",
    "# Optional: else\n",
    "else\n",
    "    BODY\n",
    "fi\n",
    "```\n",
    "\n",
    "### Testen von R&uuml;ckgabewerten\n",
    "Programme geben per Konvention einen R&#0252;ckgabewert zwischen 0 und 255 an ihre Laufzeitumgebung zur&#0252;ck.\n",
    "* 0 zeigt Erfolg an\n",
    "* ein R&#0252;ckgabewert von ungleich 0 einen Fehler (genaue Bedeutung ist abh&#228;ngig von den Programmen)\n",
    "* `!` negiert das Ergebnis\n",
    "* `$?` speichert den R&#0252;ckgabewert des zuletzt ausgef&#0252;hrten Programms\n",
    "* Shell-Skripte k&#0246;nnen `exit N` verwenden um `N` an die Laufzeitumgebung zur&#252;ck zu liefern"
   ]
  },
  {
   "cell_type": "code",
   "execution_count": 39,
   "id": "51aa44a5-0cca-4fca-b8fe-b7712f7672d7",
   "metadata": {
    "tags": []
   },
   "outputs": [
    {
     "name": "stdout",
     "output_type": "stream",
     "text": [
      "0\n",
      "1\n",
      "wahr\n",
      "falsch\n"
     ]
    }
   ],
   "source": [
    "%%bash\n",
    "true # true gibt 0 zurück\n",
    "echo $?\n",
    "false # false gibt 1 zurück\n",
    "echo $?\n",
    "if true; then\n",
    "    echo wahr\n",
    "fi\n",
    "if false; then\n",
    "    echo wahr\n",
    "else\n",
    "    echo falsch\n",
    "fi"
   ]
  },
  {
   "cell_type": "code",
   "execution_count": 40,
   "id": "3c15e9d9-3ecb-4946-a8cb-afc165b841e4",
   "metadata": {
    "tags": []
   },
   "outputs": [
    {
     "name": "stdout",
     "output_type": "stream",
     "text": [
      "wahr\n"
     ]
    }
   ],
   "source": [
    "%%bash\n",
    "if ! false; then\n",
    "    echo wahr\n",
    "fi\n"
   ]
  },
  {
   "cell_type": "code",
   "execution_count": 41,
   "id": "293b25e2-9c17-456b-8504-c05848daf7ac",
   "metadata": {
    "tags": []
   },
   "outputs": [
    {
     "name": "stdout",
     "output_type": "stream",
     "text": [
      "hello\n",
      "wahr\n"
     ]
    }
   ],
   "source": [
    "%%bash\n",
    "if echo hello; then\n",
    "    echo wahr\n",
    "fi"
   ]
  },
  {
   "cell_type": "code",
   "execution_count": 42,
   "id": "cb3ada6c-f39a-4949-9239-054c01eb1fa0",
   "metadata": {
    "tags": []
   },
   "outputs": [
    {
     "name": "stderr",
     "output_type": "stream",
     "text": [
      "bash: line 1: Hallo: command not found\n"
     ]
    }
   ],
   "source": [
    "%%bash\n",
    "if $(echo Hallo); then\n",
    "    echo wahr\n",
    "fi"
   ]
  },
  {
   "cell_type": "markdown",
   "id": "0c5d84f7-3b6d-43fb-bbf7-347e93763ea7",
   "metadata": {
    "tags": []
   },
   "source": [
    "### Vergleich von Variablen und Strings\n",
    "* `==` testet ob zwei Variablen/Strings gleich sind\n",
    "* `!=` testet ob zwei Variablen/Strings ungleich sind\n",
    "* mehrere Tests k&ouml;nnen mit `&&` (logisches und) oder `||` (logisches oder) verkn&uuml;pft werden\n",
    "* `-eq`, `-lt`, `-gt`, `-le`, `-ge` testet ob Variablen/Strings (numerisch) gleich, kleiner, gr&#0246;&#0223;er, kleiner oder gleich bzw. gr&#0246;&#0223;er oder gleich sind"
   ]
  },
  {
   "cell_type": "code",
   "execution_count": 43,
   "id": "2581db99-32e3-4ea8-9b3f-697e77007bef",
   "metadata": {
    "tags": []
   },
   "outputs": [
    {
     "name": "stdout",
     "output_type": "stream",
     "text": [
      "wahr\n"
     ]
    }
   ],
   "source": [
    "%%bash\n",
    "var=true\n",
    "if [[ $var == true ]]; then\n",
    "    echo wahr\n",
    "fi"
   ]
  },
  {
   "cell_type": "code",
   "execution_count": 44,
   "id": "139a27b9-b029-4405-bfe5-fd78c737aeb1",
   "metadata": {
    "tags": []
   },
   "outputs": [
    {
     "name": "stdout",
     "output_type": "stream",
     "text": [
      "falsch\n"
     ]
    }
   ],
   "source": [
    "%%bash\n",
    "var=false\n",
    "if [[ $var == true ]]; then\n",
    "    echo wahr\n",
    "else\n",
    "    echo falsch\n",
    "fi"
   ]
  },
  {
   "cell_type": "code",
   "execution_count": 45,
   "id": "f8fe68b5-363e-4e56-9173-279545a9225d",
   "metadata": {
    "tags": []
   },
   "outputs": [
    {
     "name": "stdout",
     "output_type": "stream",
     "text": [
      "falsch\n"
     ]
    }
   ],
   "source": [
    "%%bash\n",
    "var=false\n",
    "if [[ $var == true ]]; then\n",
    "    echo wahr\n",
    "elif [[ $var == false ]]; then\n",
    "    echo falsch\n",
    "else\n",
    "    echo \"var: $var\"\n",
    "fi"
   ]
  },
  {
   "cell_type": "code",
   "execution_count": 46,
   "id": "74f0949d-9f18-45eb-bae8-4cf1af821039",
   "metadata": {
    "tags": []
   },
   "outputs": [
    {
     "name": "stdout",
     "output_type": "stream",
     "text": [
      "1 ist kleiner als 2\n"
     ]
    }
   ],
   "source": [
    "%%bash\n",
    "a=1\n",
    "b=2\n",
    "if [[ $a -lt $b ]]; then\n",
    "    echo $a ist kleiner als $b\n",
    "fi"
   ]
  },
  {
   "cell_type": "markdown",
   "id": "df49b914-fde7-4036-b421-3ce171e54df3",
   "metadata": {
    "tags": []
   },
   "source": [
    "### Vergleich von Variablen mit regul&#0228;ren Ausdr&#0252;cken\n",
    "\n",
    "* `^` Stringanfang\n",
    "* `$` Stringende\n",
    "* `[xyz]` Zeichenmenge `xyz`\n",
    "* `[a-z]` Zeichensequenz von `a` bis `z`\n",
    "* `.` jeder Buchstabe\n",
    "* `x+` ein oder mehrere `x`\n",
    "* `x*` Null oder mehrere `x`\n",
    "* `a|b` `a` oder `b`\n",
    "* `ab` `a` gefolgt von `b`\n"
   ]
  },
  {
   "cell_type": "code",
   "execution_count": 47,
   "id": "8d567fbf-7e42-429e-b0ca-6086e4397935",
   "metadata": {
    "tags": []
   },
   "outputs": [
    {
     "name": "stdout",
     "output_type": "stream",
     "text": [
      "04 ist kleiner als 10\n",
      "04 ist gerade\n"
     ]
    }
   ],
   "source": [
    "%%bash\n",
    "var=04\n",
    "if [[ $var =~ ^0 ]]; then\n",
    "    echo $var ist kleiner als 10\n",
    "fi\n",
    "if [[ $var =~ [02468]$ ]]; then\n",
    "    echo $var ist gerade\n",
    "fi"
   ]
  },
  {
   "cell_type": "markdown",
   "id": "b693264c-80ce-4a74-9b2f-0b5460b97894",
   "metadata": {
    "tags": []
   },
   "source": [
    "### Test von Dateipfaden\n",
    "\n",
    "* `-f` Testet ob der Pfad eine Datei ist\n",
    "* `-d` Testet ob der Pfad ein Verzeichnis ist\n",
    "* `-x` Testet ob der Pfad ausf&#0252;hrbar ist\n",
    "* `-z` Testet ob der String leer ist\n",
    "* `-n` Testet ob der String *nicht* leer ist\n",
    "* `-e` Testet ob der Pfad existiert"
   ]
  },
  {
   "cell_type": "code",
   "execution_count": 48,
   "id": "c3df2c4a-3e33-4f6f-ac42-a9c01972bf88",
   "metadata": {
    "tags": []
   },
   "outputs": [
    {
     "name": "stdout",
     "output_type": "stream",
     "text": [
      "hello.bash ist eine Datei\n"
     ]
    }
   ],
   "source": [
    "%%bash\n",
    "path=hello.bash\n",
    "if [[ -f $path ]]; then\n",
    "    echo $path ist eine Datei\n",
    "fi"
   ]
  },
  {
   "cell_type": "code",
   "execution_count": 49,
   "id": "923924b5-5de0-4f69-9560-4b58ccaae0ae",
   "metadata": {
    "tags": []
   },
   "outputs": [],
   "source": [
    "%%bash\n",
    "path=01\n",
    "if [[ -d $path ]]; then\n",
    "    echo $path ist ein Verzeichnis\n",
    "fi"
   ]
  },
  {
   "cell_type": "code",
   "execution_count": 50,
   "id": "38342f27-f7ff-4c22-85fa-cde3b52c5df6",
   "metadata": {
    "tags": []
   },
   "outputs": [
    {
     "name": "stdout",
     "output_type": "stream",
     "text": [
      "hello.bash ist eine ausführbare Datei\n"
     ]
    }
   ],
   "source": [
    "%%bash\n",
    "path=hello.bash\n",
    "if [[ -x $path ]]; then\n",
    "    echo $path ist eine ausführbare Datei\n",
    "fi"
   ]
  },
  {
   "cell_type": "markdown",
   "id": "f81ebddd-3151-414a-ac04-8ff657a4b5eb",
   "metadata": {
    "tags": []
   },
   "source": [
    "## Schleifen\n",
    "* mit `for`-Schleifen kann man &#0252;ber Listen iterieren\n",
    "* die Listenelemente werden an Leerzeichen aufgetrennt.\n",
    "\n",
    "Syntax:\n",
    "```bash\n",
    "for VAR in LIST; do\n",
    "    BODY\n",
    "done\n",
    "```"
   ]
  },
  {
   "cell_type": "code",
   "execution_count": 51,
   "id": "e0cd9bf9-3a2b-480c-9ade-7f837a5e67bd",
   "metadata": {
    "tags": []
   },
   "outputs": [
    {
     "name": "stdout",
     "output_type": "stream",
     "text": [
      "file: args.bash\n",
      "file: greet.bash\n",
      "file: greet-quoted.bash\n",
      "file: hello.bash\n",
      "file: shift.bash\n",
      "file: sum.bash\n"
     ]
    }
   ],
   "source": [
    "%%bash\n",
    "for f in *.bash; do\n",
    "    echo \"file: $f\"\n",
    "done"
   ]
  },
  {
   "cell_type": "code",
   "execution_count": 52,
   "id": "d1feaca7-e1be-462b-b2cd-8abccd8c437e",
   "metadata": {
    "tags": []
   },
   "outputs": [
    {
     "name": "stdout",
     "output_type": "stream",
     "text": [
      "1\n",
      "2\n",
      "3\n",
      "4\n"
     ]
    }
   ],
   "source": [
    "%%bash\n",
    "for i in 1 2 3 4; do\n",
    "    echo $i\n",
    "done"
   ]
  },
  {
   "cell_type": "markdown",
   "id": "fdf2bb65-4910-4fcd-a392-b9ed24af9e8c",
   "metadata": {
    "tags": []
   },
   "source": [
    "### seq\n",
    "| Name | seq - Gibt eine Zahlensequenz aus |\n",
    "|:---|:---|\n",
    "|&#0220;berblick| seq [OPTION]... LAST |\n",
    "| | seq [OPTION]... FIRST LAST |\n",
    "| | seq [OPTION]... FIRST INCREMENT LAST\n",
    "| Beschreibung | Gibt die Zahlen von FIRST bis LAST in Schritten von INCREMENT aus |\n",
    "| Wichtige Optionen: | |\n",
    "| -s, --separator=STRING | Verwendet STRING als Zahlenseparator (Standard ist \\n) |\n",
    "| -w, --equal-width | F&#0252;gt f&#0252;hrende Nullen an, so dass alle Zahlen die gleiche Breite haben |"
   ]
  },
  {
   "cell_type": "code",
   "execution_count": 53,
   "id": "b8f6526c-4974-4415-99b6-901343ff05f5",
   "metadata": {
    "tags": []
   },
   "outputs": [
    {
     "name": "stdout",
     "output_type": "stream",
     "text": [
      "1\n",
      "2\n",
      "3\n",
      "4\n",
      "5\n"
     ]
    }
   ],
   "source": [
    "%%bash\n",
    "seq 5"
   ]
  },
  {
   "cell_type": "code",
   "execution_count": 54,
   "id": "07340cf7-5f2c-4969-9f43-7a6b9c493abc",
   "metadata": {
    "tags": []
   },
   "outputs": [
    {
     "name": "stdout",
     "output_type": "stream",
     "text": [
      "00,02,04,06,08,10\n"
     ]
    }
   ],
   "source": [
    "%%bash\n",
    "seq -w -s, 0 2 10"
   ]
  },
  {
   "cell_type": "code",
   "execution_count": 55,
   "id": "ad9bbc11-32ce-433e-8185-088c9fc4570b",
   "metadata": {
    "tags": []
   },
   "outputs": [
    {
     "name": "stdout",
     "output_type": "stream",
     "text": [
      "1\n",
      "2\n",
      "3\n",
      "4\n",
      "5\n"
     ]
    }
   ],
   "source": [
    "%%bash\n",
    "for i in $(seq 5); do\n",
    "    echo $i\n",
    "done"
   ]
  },
  {
   "cell_type": "code",
   "execution_count": 56,
   "id": "4ff1a6ce-2e8d-46f6-aef5-8fe404c1c32f",
   "metadata": {
    "tags": []
   },
   "outputs": [
    {
     "name": "stdout",
     "output_type": "stream",
     "text": [
      "[debug] $#: 2\n",
      "Hallo Florian\n",
      "Hallo Anna\n"
     ]
    }
   ],
   "source": [
    "%%bash\n",
    "bash greet.bash Florian Anna"
   ]
  },
  {
   "cell_type": "code",
   "execution_count": 57,
   "id": "d5ea4207-84ed-4688-8584-f1dcbb1cd1e4",
   "metadata": {
    "tags": []
   },
   "outputs": [
    {
     "name": "stdout",
     "output_type": "stream",
     "text": [
      "[debug] $#: 2\n",
      "Hallo Florian\n",
      "Hallo Fink\n",
      "Hallo Anna\n"
     ]
    }
   ],
   "source": [
    "%%bash\n",
    "bash greet.bash \"Florian Fink\" Anna"
   ]
  },
  {
   "cell_type": "markdown",
   "id": "2ba309de-ec23-40b5-8079-9b510f4ca147",
   "metadata": {
    "tags": []
   },
   "source": [
    "## Quoting\n",
    "* der Shell-Interpreter trennt die Token an Leerzeichen auf\n",
    "* zusammenh&auml;ngende Strings mit Leerzeichen gehen bei der Derefenzierung von Variablen (`$var`) verloren\n",
    "* um das zu verhindern m&uuml;ssen Variablen in doppelten Anf&uuml;hrungszeichen gesetzt werden\n",
    "* grunds&auml;tzlich sollten Variablen auf die der Programmierer keinen Einfluss hat (Kommandozeilenargumente usw.) in doppelte Anf&uuml;hrungszeichen gesetzt werden\n",
    "* `$@` kann in doppelte Anf&uuml;hrungszeichen gesetzt werden, um die korrekte Tokenisierung beizubehalten"
   ]
  },
  {
   "cell_type": "code",
   "execution_count": 58,
   "id": "df590333-9490-4fe3-b1c0-53e4a094b119",
   "metadata": {
    "tags": []
   },
   "outputs": [
    {
     "name": "stdout",
     "output_type": "stream",
     "text": [
      "[debug] $#: 2\n",
      "Hallo Florian Fink\n",
      "Hallo Anna\n"
     ]
    }
   ],
   "source": [
    "%%bash\n",
    "bash greet-quoted.bash \"Florian Fink\" Anna"
   ]
  },
  {
   "cell_type": "code",
   "execution_count": 59,
   "id": "448063d4-6ce3-4d8e-b856-5cde81504248",
   "metadata": {
    "tags": []
   },
   "outputs": [
    {
     "name": "stdout",
     "output_type": "stream",
     "text": [
      "Florian\n",
      "Anna\n"
     ]
    }
   ],
   "source": [
    "%%bash\n",
    "names=\"Florian Anna\"\n",
    "for name in $names; do echo $name; done"
   ]
  },
  {
   "cell_type": "code",
   "execution_count": 60,
   "id": "ea6d6b60-6b3b-48c6-9767-49234ea8ee21",
   "metadata": {
    "tags": []
   },
   "outputs": [
    {
     "name": "stdout",
     "output_type": "stream",
     "text": [
      "Florian Anna\n"
     ]
    }
   ],
   "source": [
    "%%bash\n",
    "names=\"Florian Anna\"\n",
    "for name in \"$names\"; do echo $name; done"
   ]
  },
  {
   "cell_type": "markdown",
   "id": "4e7b899d-160e-44d3-b6c2-895a55fbf444",
   "metadata": {},
   "source": [
    "## Ganzzahlige Ausdr&uuml;cke\n",
    "* Shell-Skripte arbeiten mit Strings und Pfadnamen\n",
    "* Arbeiten mit Gleitkommazahlen nur &uuml;ber externe Programme m&ouml;glich (`bc`...)\n",
    "* Arbeiten mit ganzen Zahlen mit spezieller Syntax m&ouml;glich (Bash-Erweiterung)\n",
    "* `$((var ...))` Syntax erm&ouml;glicht rechnen mit `+`, `-`, `/`, `*`, `%`, ...\n"
   ]
  },
  {
   "cell_type": "code",
   "execution_count": 61,
   "id": "f8d069c6-37fe-4e1c-9b4c-ea03d2181066",
   "metadata": {},
   "outputs": [
    {
     "name": "stdout",
     "output_type": "stream",
     "text": [
      "insgesamt 6 .bash Dateien\n"
     ]
    }
   ],
   "source": [
    "%%bash\n",
    "n=0\n",
    "for f in *.bash; do n=$((n+1)); done\n",
    "echo \"insgesamt $n .bash Dateien\""
   ]
  },
  {
   "cell_type": "code",
   "execution_count": 62,
   "id": "a507c100-5649-4c7c-b7e0-547f3e50c1d5",
   "metadata": {},
   "outputs": [
    {
     "name": "stdout",
     "output_type": "stream",
     "text": [
      "2 ist gerade\n",
      "4 ist gerade\n",
      "6 ist gerade\n",
      "8 ist gerade\n",
      "10 ist gerade\n"
     ]
    }
   ],
   "source": [
    "%%bash\n",
    "for i in $(seq 10); do\n",
    "    if [[ $((i%2)) -eq 0 ]]; then\n",
    "        echo \"$i ist gerade\"\n",
    "    fi\n",
    "done"
   ]
  },
  {
   "cell_type": "markdown",
   "id": "718a9d0f-056b-4247-8c00-d8179b26a8c5",
   "metadata": {},
   "source": [
    "## `while`-Schleifen\n",
    "* flexiblere M&ouml;glichkeit der Iteration\n",
    "* Schleifenk&ouml;per wird ausgef&uuml;hrt, solange die Bedingung *wahr* ist\n",
    "* Test der Bedingung folgt der `if`-Syntax\n",
    "\n",
    "Syntax:\n",
    "```bash\n",
    "while BEDINGUNG; do\n",
    "    BODY\n",
    "done\n",
    "```\n"
   ]
  },
  {
   "cell_type": "code",
   "execution_count": 63,
   "id": "f4d47607-ed96-4e78-852e-d5525f4205ba",
   "metadata": {},
   "outputs": [
    {
     "name": "stdout",
     "output_type": "stream",
     "text": [
      "00005\n"
     ]
    }
   ],
   "source": [
    "%%bash\n",
    "x=5\n",
    "while [[ ${#x} -lt 5 ]]; do\n",
    "    x=\"0$x\"\n",
    "done\n",
    "echo $x"
   ]
  },
  {
   "cell_type": "markdown",
   "id": "3429e224-cef1-4255-8961-44a8ee73a4f3",
   "metadata": {},
   "source": [
    "## Komplexe Bedingungen\n",
    "* mit der `case`-Verzweigung k&ouml;nnen komplexere Bedingugen &uuml;berpr&uuml;ft werden.\n",
    "* oft in Verbindung mit Globbing um auf Muster in Variablen zu testen\n",
    "\n",
    "Syntax:\n",
    "```bash\n",
    "case VAR in\n",
    "    EXPR1)\n",
    "        BODY\n",
    "        ;;\n",
    "    # Optional\n",
    "    EXPR2)\n",
    "        BODY\n",
    "        ;;\n",
    "    # ...\n",
    "esac\n",
    "```\n"
   ]
  },
  {
   "cell_type": "code",
   "execution_count": 64,
   "id": "cae11c94-f9c9-4534-b9d5-30c18e9ae5d5",
   "metadata": {},
   "outputs": [
    {
     "name": "stdout",
     "output_type": "stream",
     "text": [
      "Verwendung sum.bash [-N NUMBER]... [-S STRING]...\n"
     ]
    }
   ],
   "source": [
    "%%bash\n",
    "bash sum.bash --help"
   ]
  },
  {
   "cell_type": "code",
   "execution_count": 65,
   "id": "8f39a1f2-a5e5-4bc5-882a-508ce5000e21",
   "metadata": {},
   "outputs": [
    {
     "name": "stdout",
     "output_type": "stream",
     "text": [
      "SUMME: 6\n",
      "STRING: einszwei\n"
     ]
    }
   ],
   "source": [
    "%%bash\n",
    "bash sum.bash -N 1 -N 2 -N 3 -S eins -S zwei"
   ]
  },
  {
   "cell_type": "markdown",
   "id": "27a612ec-051a-4766-b3d6-f63df1d616a0",
   "metadata": {},
   "source": [
    "## Funktionen\n",
    "* Funktionen f&uuml;r kurze Hilfsprogramme\n",
    "* m&uuml;ssen vor ihrere Verwendung definiert sein\n",
    "* lokale Variablen innerhalb von Funktionen mit dem `local` Schl&uuml;sselwort\n",
    "* kein `return`; R&uuml;ckgabeparameter &uuml;ber globale Variablen oder `echo`\n",
    "* &Uuml;bergabeparameter &uuml;ber `$1`, `$2`, ..., `$@`\n",
    "\n",
    "Syntax:\n",
    "```bash\n",
    "function FUNC_NAME() {\n",
    "    BODY\n",
    "}\n",
    "```\n"
   ]
  },
  {
   "cell_type": "code",
   "execution_count": 66,
   "id": "227ea262-0c51-4984-b72b-3b240c3726ec",
   "metadata": {},
   "outputs": [
    {
     "name": "stdout",
     "output_type": "stream",
     "text": [
      "zwei eins\n"
     ]
    }
   ],
   "source": [
    "%%bash\n",
    "function swap() {\n",
    "    local first=$1\n",
    "    shift\n",
    "    local second=$1\n",
    "    echo $second $first\n",
    "}\n",
    "swap eins zwei"
   ]
  },
  {
   "cell_type": "markdown",
   "id": "1d1d9bce-bc0d-4b95-9624-89c3b26ba92a",
   "metadata": {},
   "source": [
    "## &Uuml;bungsaufgaben\n",
    "### 1. Aufgabe `guess_name`\n",
    "Schreiben Sie ein Skript `guess_name.bash`, das eine beliebige Anzahl von Rateversuchen als Kommandozeilenargumente akzeptiert.  Wenn einer der Rateversuche dem geheimen Namen (speichern Sie einen beliebigen Namen in der Variable `secret`) entspricht, soll das Skript sich erfolgreich beenden (`exit 0`). Andernfalls soll das Skript einen Fehler an seine Laufzeitumgebung zur&uuml;ckliefern (`exit 1`).  Das Skript soll so verwendet werden k&ouml;nnen:\n",
    "```bash\n",
    "# Der geheime Name sei Hans\n",
    "if guess_name.bash Franz Anna Martin Hedwig Hans; then\n",
    "    echo \"Richtig geraten\"\n",
    "fi\n",
    "```\n",
    "\n",
    "### 2. Aufgabe `list_dir`\n",
    "Schreiben Sie ein Skript `list_dir.bash`, das **genau** ein Kommandozeilenargument erwartet.  Das Kommandozeilenargument muss der Pfad eines Verzeichnisses sein (andernfalls soll das Skript mit einem Fehler abbrechen). Das Skript soll die Pfade aller Dateien und Verzeichnisse  in dem Verzeichnis auflisten und jeweils angeben ob es sich bei einem Pfad um ein Verzeichnis oder eine Datei handelt (Hinweis: es ist m&ouml;glich, Variablen und Globbing zu mischen).  Beispiel:\n",
    "```bash\n",
    "$ list_dir not_a_dir\n",
    "Fehler: kein Verzeichnis\n",
    "$ echo $?\n",
    "1\n",
    "$ list_dir a_dir\n",
    "a_dir/a.txt: Datei\n",
    "a_dir/another_dir: Verzeichnis\n",
    "$\n",
    "```\n",
    "\n",
    "### 3. Aufgabe `fizzbuzz`\n",
    "Schreiben Sie ein Skript `fizzbuzz.bash`, das genau eine Zahl N als Kommandozeilenargument erwartet (andernfalls soll ein Fehler zur&uuml;ckgegeben werden).  Das Skript soll [Fizz buzz](https://de.wikipedia.org/wiki/Fizz_buzz) von 1 bis N (inklusive) spielen. Dazu soll es die Zahlen von 1 bis N auf jeweils einer Zeile ausgeben.  Falls eine Zahl durch 3 teilbar ist, soll nicht die Zahl, sondern fizz ausgegeben werden.  Falls eine Zahl durch 5 teilbar ist, soll ebenfalls nicht die Zahl sondern buzz ausgegeben werden.  Ist eine Zahl durch 3 und 5 teilbar, soll fizzbuzz ausgegeben werden. Beispiel:\n",
    "```bash\n",
    "$ fizzbuzz.bash 6\n",
    "1\n",
    "2\n",
    "fizz\n",
    "4\n",
    "buzz\n",
    "fizz\n",
    "$\n",
    "```"
   ]
  },
  {
   "cell_type": "code",
   "execution_count": null,
   "id": "b499a492-924f-41ae-9289-f13442b9c523",
   "metadata": {},
   "outputs": [],
   "source": []
  }
 ],
 "metadata": {
  "kernelspec": {
   "display_name": "Python 3",
   "language": "python",
   "name": "python3"
  },
  "language_info": {
   "codemirror_mode": {
    "name": "ipython",
    "version": 3
   },
   "file_extension": ".py",
   "mimetype": "text/x-python",
   "name": "python",
   "nbconvert_exporter": "python",
   "pygments_lexer": "ipython3",
   "version": "3.7.3"
  },
  "toc-showtags": true
 },
 "nbformat": 4,
 "nbformat_minor": 5
}
